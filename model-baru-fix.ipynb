{
 "cells": [
  {
   "cell_type": "code",
   "execution_count": 1,
   "id": "fb301fab",
   "metadata": {
    "_cell_guid": "b1076dfc-b9ad-4769-8c92-a6c4dae69d19",
    "_uuid": "8f2839f25d086af736a60e9eeb907d3b93b6e0e5",
    "execution": {
     "iopub.execute_input": "2024-05-31T16:12:54.494991Z",
     "iopub.status.busy": "2024-05-31T16:12:54.494123Z",
     "iopub.status.idle": "2024-05-31T16:14:58.244618Z",
     "shell.execute_reply": "2024-05-31T16:14:58.243579Z"
    },
    "jupyter": {
     "source_hidden": true
    },
    "papermill": {
     "duration": 123.772319,
     "end_time": "2024-05-31T16:14:58.247159",
     "exception": false,
     "start_time": "2024-05-31T16:12:54.474840",
     "status": "completed"
    },
    "tags": []
   },
   "outputs": [],
   "source": [
    "# This Python 3 environment comes with many helpful analytics libraries installed\n",
    "# It is defined by the kaggle/python Docker image: https://github.com/kaggle/docker-python\n",
    "# For example, here's several helpful packages to load\n",
    "\n",
    "import numpy as np # linear algebra\n",
    "import pandas as pd # data processing, CSV file I/O (e.g. pd.read_csv)\n",
    "\n",
    "# Input data files are available in the read-only \"../input/\" directory\n",
    "# For example, running this (by clicking run or pressing Shift+Enter) will list all files under the input directory\n",
    "\n",
    "import os\n",
    "for dirname, _, filenames in os.walk('/kaggle/input'):\n",
    "    for filename in filenames:\n",
    "        (os.path.join(dirname, filename))\n",
    "\n",
    "# You can write up to 20GB to the current directory (/kaggle/working/) that gets preserved as output when you create a version using \"Save & Run All\" \n",
    "# You can also write temporary files to /kaggle/temp/, but they won't be saved outside of the current session"
   ]
  },
  {
   "cell_type": "markdown",
   "id": "50ed4afe",
   "metadata": {
    "papermill": {
     "duration": 0.015095,
     "end_time": "2024-05-31T16:14:58.278110",
     "exception": false,
     "start_time": "2024-05-31T16:14:58.263015",
     "status": "completed"
    },
    "tags": []
   },
   "source": [
    "## import library"
   ]
  },
  {
   "cell_type": "code",
   "execution_count": 2,
   "id": "33e72bf5",
   "metadata": {
    "execution": {
     "iopub.execute_input": "2024-05-31T16:14:58.310885Z",
     "iopub.status.busy": "2024-05-31T16:14:58.310461Z",
     "iopub.status.idle": "2024-05-31T16:15:13.827792Z",
     "shell.execute_reply": "2024-05-31T16:15:13.826611Z"
    },
    "papermill": {
     "duration": 15.535855,
     "end_time": "2024-05-31T16:15:13.830265",
     "exception": false,
     "start_time": "2024-05-31T16:14:58.294410",
     "status": "completed"
    },
    "tags": []
   },
   "outputs": [
    {
     "name": "stderr",
     "output_type": "stream",
     "text": [
      "2024-05-31 16:15:00.345585: E external/local_xla/xla/stream_executor/cuda/cuda_dnn.cc:9261] Unable to register cuDNN factory: Attempting to register factory for plugin cuDNN when one has already been registered\n",
      "2024-05-31 16:15:00.345708: E external/local_xla/xla/stream_executor/cuda/cuda_fft.cc:607] Unable to register cuFFT factory: Attempting to register factory for plugin cuFFT when one has already been registered\n",
      "2024-05-31 16:15:00.508606: E external/local_xla/xla/stream_executor/cuda/cuda_blas.cc:1515] Unable to register cuBLAS factory: Attempting to register factory for plugin cuBLAS when one has already been registered\n",
      "/opt/conda/lib/python3.10/pty.py:89: RuntimeWarning: os.fork() was called. os.fork() is incompatible with multithreaded code, and JAX is multithreaded, so this will likely lead to a deadlock.\n",
      "  pid, fd = os.forkpty()\n"
     ]
    },
    {
     "name": "stdout",
     "output_type": "stream",
     "text": [
      "Fri May 31 16:15:13 2024       \r\n",
      "+---------------------------------------------------------------------------------------+\r\n",
      "| NVIDIA-SMI 535.129.03             Driver Version: 535.129.03   CUDA Version: 12.2     |\r\n",
      "|-----------------------------------------+----------------------+----------------------+\r\n",
      "| GPU  Name                 Persistence-M | Bus-Id        Disp.A | Volatile Uncorr. ECC |\r\n",
      "| Fan  Temp   Perf          Pwr:Usage/Cap |         Memory-Usage | GPU-Util  Compute M. |\r\n",
      "|                                         |                      |               MIG M. |\r\n",
      "|=========================================+======================+======================|\r\n",
      "|   0  Tesla T4                       Off | 00000000:00:04.0 Off |                    0 |\r\n",
      "| N/A   39C    P8               9W /  70W |      0MiB / 15360MiB |      0%      Default |\r\n",
      "|                                         |                      |                  N/A |\r\n",
      "+-----------------------------------------+----------------------+----------------------+\r\n",
      "|   1  Tesla T4                       Off | 00000000:00:05.0 Off |                    0 |\r\n",
      "| N/A   35C    P8               9W /  70W |      0MiB / 15360MiB |      0%      Default |\r\n",
      "|                                         |                      |                  N/A |\r\n",
      "+-----------------------------------------+----------------------+----------------------+\r\n",
      "                                                                                         \r\n",
      "+---------------------------------------------------------------------------------------+\r\n",
      "| Processes:                                                                            |\r\n",
      "|  GPU   GI   CI        PID   Type   Process name                            GPU Memory |\r\n",
      "|        ID   ID                                                             Usage      |\r\n",
      "|=======================================================================================|\r\n",
      "|  No running processes found                                                           |\r\n",
      "+---------------------------------------------------------------------------------------+\r\n"
     ]
    }
   ],
   "source": [
    "import tensorflow as tf\n",
    "from tensorflow.keras.preprocessing.image import ImageDataGenerator\n",
    "from tensorflow.keras.applications import VGG16, ResNet50, ResNet50V2, VGG19, InceptionV3, InceptionResNetV2, VGG16\n",
    "from tensorflow.keras.layers import Dropout, Flatten, Dense, Input, Conv2D, MaxPooling2D, GlobalAveragePooling2D\n",
    "from tensorflow.keras.models import Model, Sequential\n",
    "from tensorflow.keras.saving import load_model\n",
    "from tensorflow.keras.optimizers import SGD, RMSprop\n",
    "from sklearn.metrics import classification_report\n",
    "import matplotlib.pyplot as plt\n",
    "import os\n",
    "from sklearn.metrics import confusion_matrix, classification_report\n",
    "from sklearn.metrics import average_precision_score\n",
    "import numpy as np # linear algebra\n",
    "import pandas as pd # data processing, CSV file I/O (e.g. pd.read_csv)\n",
    "import tensorflow as tf\n",
    "from tensorflow.keras import layers, models\n",
    "from tensorflow.keras.optimizers import Adam\n",
    "from tensorflow.keras.callbacks import LearningRateScheduler, EarlyStopping\n",
    "from matplotlib import pyplot as plt\n",
    "\n",
    "import numpy as np\n",
    "import matplotlib.pyplot as plt\n",
    "import seaborn as sns\n",
    "import os\n",
    "\n",
    "import tensorflow as tf\n",
    "from tensorflow.keras import layers, models\n",
    "from tensorflow.keras.callbacks import ModelCheckpoint\n",
    "from tensorflow.keras.preprocessing.image import ImageDataGenerator\n",
    "!nvidia-smi"
   ]
  },
  {
   "cell_type": "markdown",
   "id": "db116690",
   "metadata": {
    "papermill": {
     "duration": 0.016278,
     "end_time": "2024-05-31T16:15:13.862796",
     "exception": false,
     "start_time": "2024-05-31T16:15:13.846518",
     "status": "completed"
    },
    "tags": []
   },
   "source": [
    "### Load Dataset"
   ]
  },
  {
   "cell_type": "code",
   "execution_count": 3,
   "id": "c91a5bed",
   "metadata": {
    "execution": {
     "iopub.execute_input": "2024-05-31T16:15:13.896782Z",
     "iopub.status.busy": "2024-05-31T16:15:13.895776Z",
     "iopub.status.idle": "2024-05-31T16:15:13.901721Z",
     "shell.execute_reply": "2024-05-31T16:15:13.900860Z"
    },
    "papermill": {
     "duration": 0.02535,
     "end_time": "2024-05-31T16:15:13.904175",
     "exception": false,
     "start_time": "2024-05-31T16:15:13.878825",
     "status": "completed"
    },
    "tags": []
   },
   "outputs": [
    {
     "name": "stdout",
     "output_type": "stream",
     "text": [
      "Loading dataset from: /kaggle/input/cifake-real-and-ai-generated-synthetic-images/\n"
     ]
    }
   ],
   "source": [
    "dataset_dir = \"/kaggle/input/cifake-real-and-ai-generated-synthetic-images/\" # For Kaggle notebooks. If you run locally, point this line to the CIFAKE directory\n",
    "print(\"Loading dataset from: \" + dataset_dir)"
   ]
  },
  {
   "cell_type": "code",
   "execution_count": 4,
   "id": "c996cadd",
   "metadata": {
    "execution": {
     "iopub.execute_input": "2024-05-31T16:15:13.938439Z",
     "iopub.status.busy": "2024-05-31T16:15:13.938114Z",
     "iopub.status.idle": "2024-05-31T16:15:39.349136Z",
     "shell.execute_reply": "2024-05-31T16:15:39.348211Z"
    },
    "papermill": {
     "duration": 25.43047,
     "end_time": "2024-05-31T16:15:39.351311",
     "exception": false,
     "start_time": "2024-05-31T16:15:13.920841",
     "status": "completed"
    },
    "tags": []
   },
   "outputs": [
    {
     "name": "stdout",
     "output_type": "stream",
     "text": [
      "Found 100000 images belonging to 2 classes.\n",
      "Found 20000 images belonging to 2 classes.\n"
     ]
    }
   ],
   "source": [
    "# bagi data train dan test\n",
    "# direktory\n",
    "train_path = '/kaggle/input/cifake-real-and-ai-generated-synthetic-images/train'\n",
    "test_path = '/kaggle/input/cifake-real-and-ai-generated-synthetic-images/test' \n",
    "\n",
    "weight, height = 32, 32\n",
    "batch_size = 32\n",
    "\n",
    "# normalize pixel data\n",
    "train_data_gen = ImageDataGenerator(\n",
    "    rescale = 1.0/255\n",
    ")\n",
    "test_data_gen = ImageDataGenerator(\n",
    "    rescale = 1.0/255\n",
    ")\n",
    "\n",
    "train_dataset = train_data_gen.flow_from_directory(\n",
    "    train_path,\n",
    "    target_size = (weight, height),\n",
    "    batch_size = batch_size,\n",
    "    class_mode = 'binary',\n",
    "    shuffle = True\n",
    ")\n",
    "test_dataset = test_data_gen.flow_from_directory(\n",
    "    test_path,\n",
    "    target_size = (weight, height),\n",
    "    batch_size = batch_size,\n",
    "    class_mode = 'binary',\n",
    "    shuffle = False\n",
    ")"
   ]
  },
  {
   "cell_type": "code",
   "execution_count": 5,
   "id": "2b6c590a",
   "metadata": {
    "execution": {
     "iopub.execute_input": "2024-05-31T16:15:39.384971Z",
     "iopub.status.busy": "2024-05-31T16:15:39.384641Z",
     "iopub.status.idle": "2024-05-31T16:15:39.391349Z",
     "shell.execute_reply": "2024-05-31T16:15:39.390575Z"
    },
    "papermill": {
     "duration": 0.025675,
     "end_time": "2024-05-31T16:15:39.393304",
     "exception": false,
     "start_time": "2024-05-31T16:15:39.367629",
     "status": "completed"
    },
    "tags": []
   },
   "outputs": [
    {
     "data": {
      "text/plain": [
       "{'FAKE': 0, 'REAL': 1}"
      ]
     },
     "execution_count": 5,
     "metadata": {},
     "output_type": "execute_result"
    }
   ],
   "source": [
    "# check kelas\n",
    "train_dataset.class_indices"
   ]
  },
  {
   "cell_type": "markdown",
   "id": "b2ef6318",
   "metadata": {
    "papermill": {
     "duration": 0.016292,
     "end_time": "2024-05-31T16:15:39.425641",
     "exception": false,
     "start_time": "2024-05-31T16:15:39.409349",
     "status": "completed"
    },
    "tags": []
   },
   "source": [
    "## Skenario 1"
   ]
  },
  {
   "cell_type": "code",
   "execution_count": 6,
   "id": "b871f14a",
   "metadata": {
    "execution": {
     "iopub.execute_input": "2024-05-31T16:15:39.458544Z",
     "iopub.status.busy": "2024-05-31T16:15:39.458255Z",
     "iopub.status.idle": "2024-05-31T16:15:40.442671Z",
     "shell.execute_reply": "2024-05-31T16:15:40.441907Z"
    },
    "papermill": {
     "duration": 1.003097,
     "end_time": "2024-05-31T16:15:40.444769",
     "exception": false,
     "start_time": "2024-05-31T16:15:39.441672",
     "status": "completed"
    },
    "tags": []
   },
   "outputs": [
    {
     "name": "stderr",
     "output_type": "stream",
     "text": [
      "/opt/conda/lib/python3.10/site-packages/keras/src/layers/convolutional/base_conv.py:107: UserWarning: Do not pass an `input_shape`/`input_dim` argument to a layer. When using Sequential models, prefer using an `Input(shape)` object as the first layer in the model instead.\n",
      "  super().__init__(activity_regularizer=activity_regularizer, **kwargs)\n"
     ]
    }
   ],
   "source": [
    "# mendefinisikan model\n",
    "model1 = models.Sequential()\n",
    "\n",
    "# convolutional layers\n",
    "model1.add(layers.Conv2D(32, (3, 3), activation = 'relu', input_shape=(weight, height, 3) ))\n",
    "model1.add(layers.MaxPooling2D((2, 2)))\n",
    "model1.add(layers.Conv2D(64, (3, 3), activation='relu'))\n",
    "model1.add(layers.MaxPooling2D((2, 2)))\n",
    "model1.add(layers.Conv2D(128, (3, 3)))\n",
    "model1.add(layers.MaxPooling2D((2, 2)))\n",
    "\n",
    "# Flatten layer\n",
    "model1.add(layers.Flatten())\n",
    "\n",
    "# dense layers\n",
    "model1.add(layers.Dense(256, activation='relu'))\n",
    "model1.add(layers.Dropout(0.5))\n",
    "model1.add(layers.Dense(1, activation='sigmoid'))\n"
   ]
  },
  {
   "cell_type": "code",
   "execution_count": 7,
   "id": "d952d0e5",
   "metadata": {
    "execution": {
     "iopub.execute_input": "2024-05-31T16:15:40.478676Z",
     "iopub.status.busy": "2024-05-31T16:15:40.478102Z",
     "iopub.status.idle": "2024-05-31T16:15:40.499223Z",
     "shell.execute_reply": "2024-05-31T16:15:40.498420Z"
    },
    "papermill": {
     "duration": 0.040283,
     "end_time": "2024-05-31T16:15:40.501366",
     "exception": false,
     "start_time": "2024-05-31T16:15:40.461083",
     "status": "completed"
    },
    "tags": []
   },
   "outputs": [],
   "source": [
    "# optimizer adam dan learning rate 0.001\n",
    "optimizer = tf.keras.optimizers.Adam(learning_rate = 0.001)\n",
    "model1.compile(optimizer= optimizer, loss='binary_crossentropy',\n",
    "              metrics=['accuracy', tf.keras.metrics.Precision(), tf.keras.metrics.Recall()])\n",
    "callback = tf.keras.callbacks.EarlyStopping(monitor='val_loss',patience=2)"
   ]
  },
  {
   "cell_type": "code",
   "execution_count": 8,
   "id": "6dfeba21",
   "metadata": {
    "execution": {
     "iopub.execute_input": "2024-05-31T16:15:40.535810Z",
     "iopub.status.busy": "2024-05-31T16:15:40.535486Z",
     "iopub.status.idle": "2024-05-31T16:15:40.561214Z",
     "shell.execute_reply": "2024-05-31T16:15:40.560303Z"
    },
    "papermill": {
     "duration": 0.045311,
     "end_time": "2024-05-31T16:15:40.563254",
     "exception": false,
     "start_time": "2024-05-31T16:15:40.517943",
     "status": "completed"
    },
    "tags": []
   },
   "outputs": [
    {
     "data": {
      "text/html": [
       "<pre style=\"white-space:pre;overflow-x:auto;line-height:normal;font-family:Menlo,'DejaVu Sans Mono',consolas,'Courier New',monospace\"><span style=\"font-weight: bold\">Model: \"sequential\"</span>\n",
       "</pre>\n"
      ],
      "text/plain": [
       "\u001b[1mModel: \"sequential\"\u001b[0m\n"
      ]
     },
     "metadata": {},
     "output_type": "display_data"
    },
    {
     "data": {
      "text/html": [
       "<pre style=\"white-space:pre;overflow-x:auto;line-height:normal;font-family:Menlo,'DejaVu Sans Mono',consolas,'Courier New',monospace\">┏━━━━━━━━━━━━━━━━━━━━━━━━━━━━━━━━━┳━━━━━━━━━━━━━━━━━━━━━━━━┳━━━━━━━━━━━━━━━┓\n",
       "┃<span style=\"font-weight: bold\"> Layer (type)                    </span>┃<span style=\"font-weight: bold\"> Output Shape           </span>┃<span style=\"font-weight: bold\">       Param # </span>┃\n",
       "┡━━━━━━━━━━━━━━━━━━━━━━━━━━━━━━━━━╇━━━━━━━━━━━━━━━━━━━━━━━━╇━━━━━━━━━━━━━━━┩\n",
       "│ conv2d (<span style=\"color: #0087ff; text-decoration-color: #0087ff\">Conv2D</span>)                 │ (<span style=\"color: #00d7ff; text-decoration-color: #00d7ff\">None</span>, <span style=\"color: #00af00; text-decoration-color: #00af00\">30</span>, <span style=\"color: #00af00; text-decoration-color: #00af00\">30</span>, <span style=\"color: #00af00; text-decoration-color: #00af00\">32</span>)     │           <span style=\"color: #00af00; text-decoration-color: #00af00\">896</span> │\n",
       "├─────────────────────────────────┼────────────────────────┼───────────────┤\n",
       "│ max_pooling2d (<span style=\"color: #0087ff; text-decoration-color: #0087ff\">MaxPooling2D</span>)    │ (<span style=\"color: #00d7ff; text-decoration-color: #00d7ff\">None</span>, <span style=\"color: #00af00; text-decoration-color: #00af00\">15</span>, <span style=\"color: #00af00; text-decoration-color: #00af00\">15</span>, <span style=\"color: #00af00; text-decoration-color: #00af00\">32</span>)     │             <span style=\"color: #00af00; text-decoration-color: #00af00\">0</span> │\n",
       "├─────────────────────────────────┼────────────────────────┼───────────────┤\n",
       "│ conv2d_1 (<span style=\"color: #0087ff; text-decoration-color: #0087ff\">Conv2D</span>)               │ (<span style=\"color: #00d7ff; text-decoration-color: #00d7ff\">None</span>, <span style=\"color: #00af00; text-decoration-color: #00af00\">13</span>, <span style=\"color: #00af00; text-decoration-color: #00af00\">13</span>, <span style=\"color: #00af00; text-decoration-color: #00af00\">64</span>)     │        <span style=\"color: #00af00; text-decoration-color: #00af00\">18,496</span> │\n",
       "├─────────────────────────────────┼────────────────────────┼───────────────┤\n",
       "│ max_pooling2d_1 (<span style=\"color: #0087ff; text-decoration-color: #0087ff\">MaxPooling2D</span>)  │ (<span style=\"color: #00d7ff; text-decoration-color: #00d7ff\">None</span>, <span style=\"color: #00af00; text-decoration-color: #00af00\">6</span>, <span style=\"color: #00af00; text-decoration-color: #00af00\">6</span>, <span style=\"color: #00af00; text-decoration-color: #00af00\">64</span>)       │             <span style=\"color: #00af00; text-decoration-color: #00af00\">0</span> │\n",
       "├─────────────────────────────────┼────────────────────────┼───────────────┤\n",
       "│ conv2d_2 (<span style=\"color: #0087ff; text-decoration-color: #0087ff\">Conv2D</span>)               │ (<span style=\"color: #00d7ff; text-decoration-color: #00d7ff\">None</span>, <span style=\"color: #00af00; text-decoration-color: #00af00\">4</span>, <span style=\"color: #00af00; text-decoration-color: #00af00\">4</span>, <span style=\"color: #00af00; text-decoration-color: #00af00\">128</span>)      │        <span style=\"color: #00af00; text-decoration-color: #00af00\">73,856</span> │\n",
       "├─────────────────────────────────┼────────────────────────┼───────────────┤\n",
       "│ max_pooling2d_2 (<span style=\"color: #0087ff; text-decoration-color: #0087ff\">MaxPooling2D</span>)  │ (<span style=\"color: #00d7ff; text-decoration-color: #00d7ff\">None</span>, <span style=\"color: #00af00; text-decoration-color: #00af00\">2</span>, <span style=\"color: #00af00; text-decoration-color: #00af00\">2</span>, <span style=\"color: #00af00; text-decoration-color: #00af00\">128</span>)      │             <span style=\"color: #00af00; text-decoration-color: #00af00\">0</span> │\n",
       "├─────────────────────────────────┼────────────────────────┼───────────────┤\n",
       "│ flatten (<span style=\"color: #0087ff; text-decoration-color: #0087ff\">Flatten</span>)               │ (<span style=\"color: #00d7ff; text-decoration-color: #00d7ff\">None</span>, <span style=\"color: #00af00; text-decoration-color: #00af00\">512</span>)            │             <span style=\"color: #00af00; text-decoration-color: #00af00\">0</span> │\n",
       "├─────────────────────────────────┼────────────────────────┼───────────────┤\n",
       "│ dense (<span style=\"color: #0087ff; text-decoration-color: #0087ff\">Dense</span>)                   │ (<span style=\"color: #00d7ff; text-decoration-color: #00d7ff\">None</span>, <span style=\"color: #00af00; text-decoration-color: #00af00\">256</span>)            │       <span style=\"color: #00af00; text-decoration-color: #00af00\">131,328</span> │\n",
       "├─────────────────────────────────┼────────────────────────┼───────────────┤\n",
       "│ dropout (<span style=\"color: #0087ff; text-decoration-color: #0087ff\">Dropout</span>)               │ (<span style=\"color: #00d7ff; text-decoration-color: #00d7ff\">None</span>, <span style=\"color: #00af00; text-decoration-color: #00af00\">256</span>)            │             <span style=\"color: #00af00; text-decoration-color: #00af00\">0</span> │\n",
       "├─────────────────────────────────┼────────────────────────┼───────────────┤\n",
       "│ dense_1 (<span style=\"color: #0087ff; text-decoration-color: #0087ff\">Dense</span>)                 │ (<span style=\"color: #00d7ff; text-decoration-color: #00d7ff\">None</span>, <span style=\"color: #00af00; text-decoration-color: #00af00\">1</span>)              │           <span style=\"color: #00af00; text-decoration-color: #00af00\">257</span> │\n",
       "└─────────────────────────────────┴────────────────────────┴───────────────┘\n",
       "</pre>\n"
      ],
      "text/plain": [
       "┏━━━━━━━━━━━━━━━━━━━━━━━━━━━━━━━━━┳━━━━━━━━━━━━━━━━━━━━━━━━┳━━━━━━━━━━━━━━━┓\n",
       "┃\u001b[1m \u001b[0m\u001b[1mLayer (type)                   \u001b[0m\u001b[1m \u001b[0m┃\u001b[1m \u001b[0m\u001b[1mOutput Shape          \u001b[0m\u001b[1m \u001b[0m┃\u001b[1m \u001b[0m\u001b[1m      Param #\u001b[0m\u001b[1m \u001b[0m┃\n",
       "┡━━━━━━━━━━━━━━━━━━━━━━━━━━━━━━━━━╇━━━━━━━━━━━━━━━━━━━━━━━━╇━━━━━━━━━━━━━━━┩\n",
       "│ conv2d (\u001b[38;5;33mConv2D\u001b[0m)                 │ (\u001b[38;5;45mNone\u001b[0m, \u001b[38;5;34m30\u001b[0m, \u001b[38;5;34m30\u001b[0m, \u001b[38;5;34m32\u001b[0m)     │           \u001b[38;5;34m896\u001b[0m │\n",
       "├─────────────────────────────────┼────────────────────────┼───────────────┤\n",
       "│ max_pooling2d (\u001b[38;5;33mMaxPooling2D\u001b[0m)    │ (\u001b[38;5;45mNone\u001b[0m, \u001b[38;5;34m15\u001b[0m, \u001b[38;5;34m15\u001b[0m, \u001b[38;5;34m32\u001b[0m)     │             \u001b[38;5;34m0\u001b[0m │\n",
       "├─────────────────────────────────┼────────────────────────┼───────────────┤\n",
       "│ conv2d_1 (\u001b[38;5;33mConv2D\u001b[0m)               │ (\u001b[38;5;45mNone\u001b[0m, \u001b[38;5;34m13\u001b[0m, \u001b[38;5;34m13\u001b[0m, \u001b[38;5;34m64\u001b[0m)     │        \u001b[38;5;34m18,496\u001b[0m │\n",
       "├─────────────────────────────────┼────────────────────────┼───────────────┤\n",
       "│ max_pooling2d_1 (\u001b[38;5;33mMaxPooling2D\u001b[0m)  │ (\u001b[38;5;45mNone\u001b[0m, \u001b[38;5;34m6\u001b[0m, \u001b[38;5;34m6\u001b[0m, \u001b[38;5;34m64\u001b[0m)       │             \u001b[38;5;34m0\u001b[0m │\n",
       "├─────────────────────────────────┼────────────────────────┼───────────────┤\n",
       "│ conv2d_2 (\u001b[38;5;33mConv2D\u001b[0m)               │ (\u001b[38;5;45mNone\u001b[0m, \u001b[38;5;34m4\u001b[0m, \u001b[38;5;34m4\u001b[0m, \u001b[38;5;34m128\u001b[0m)      │        \u001b[38;5;34m73,856\u001b[0m │\n",
       "├─────────────────────────────────┼────────────────────────┼───────────────┤\n",
       "│ max_pooling2d_2 (\u001b[38;5;33mMaxPooling2D\u001b[0m)  │ (\u001b[38;5;45mNone\u001b[0m, \u001b[38;5;34m2\u001b[0m, \u001b[38;5;34m2\u001b[0m, \u001b[38;5;34m128\u001b[0m)      │             \u001b[38;5;34m0\u001b[0m │\n",
       "├─────────────────────────────────┼────────────────────────┼───────────────┤\n",
       "│ flatten (\u001b[38;5;33mFlatten\u001b[0m)               │ (\u001b[38;5;45mNone\u001b[0m, \u001b[38;5;34m512\u001b[0m)            │             \u001b[38;5;34m0\u001b[0m │\n",
       "├─────────────────────────────────┼────────────────────────┼───────────────┤\n",
       "│ dense (\u001b[38;5;33mDense\u001b[0m)                   │ (\u001b[38;5;45mNone\u001b[0m, \u001b[38;5;34m256\u001b[0m)            │       \u001b[38;5;34m131,328\u001b[0m │\n",
       "├─────────────────────────────────┼────────────────────────┼───────────────┤\n",
       "│ dropout (\u001b[38;5;33mDropout\u001b[0m)               │ (\u001b[38;5;45mNone\u001b[0m, \u001b[38;5;34m256\u001b[0m)            │             \u001b[38;5;34m0\u001b[0m │\n",
       "├─────────────────────────────────┼────────────────────────┼───────────────┤\n",
       "│ dense_1 (\u001b[38;5;33mDense\u001b[0m)                 │ (\u001b[38;5;45mNone\u001b[0m, \u001b[38;5;34m1\u001b[0m)              │           \u001b[38;5;34m257\u001b[0m │\n",
       "└─────────────────────────────────┴────────────────────────┴───────────────┘\n"
      ]
     },
     "metadata": {},
     "output_type": "display_data"
    },
    {
     "data": {
      "text/html": [
       "<pre style=\"white-space:pre;overflow-x:auto;line-height:normal;font-family:Menlo,'DejaVu Sans Mono',consolas,'Courier New',monospace\"><span style=\"font-weight: bold\"> Total params: </span><span style=\"color: #00af00; text-decoration-color: #00af00\">224,833</span> (878.25 KB)\n",
       "</pre>\n"
      ],
      "text/plain": [
       "\u001b[1m Total params: \u001b[0m\u001b[38;5;34m224,833\u001b[0m (878.25 KB)\n"
      ]
     },
     "metadata": {},
     "output_type": "display_data"
    },
    {
     "data": {
      "text/html": [
       "<pre style=\"white-space:pre;overflow-x:auto;line-height:normal;font-family:Menlo,'DejaVu Sans Mono',consolas,'Courier New',monospace\"><span style=\"font-weight: bold\"> Trainable params: </span><span style=\"color: #00af00; text-decoration-color: #00af00\">224,833</span> (878.25 KB)\n",
       "</pre>\n"
      ],
      "text/plain": [
       "\u001b[1m Trainable params: \u001b[0m\u001b[38;5;34m224,833\u001b[0m (878.25 KB)\n"
      ]
     },
     "metadata": {},
     "output_type": "display_data"
    },
    {
     "data": {
      "text/html": [
       "<pre style=\"white-space:pre;overflow-x:auto;line-height:normal;font-family:Menlo,'DejaVu Sans Mono',consolas,'Courier New',monospace\"><span style=\"font-weight: bold\"> Non-trainable params: </span><span style=\"color: #00af00; text-decoration-color: #00af00\">0</span> (0.00 B)\n",
       "</pre>\n"
      ],
      "text/plain": [
       "\u001b[1m Non-trainable params: \u001b[0m\u001b[38;5;34m0\u001b[0m (0.00 B)\n"
      ]
     },
     "metadata": {},
     "output_type": "display_data"
    }
   ],
   "source": [
    "# summary model\n",
    "model1.summary()"
   ]
  },
  {
   "cell_type": "code",
   "execution_count": 9,
   "id": "d728b624",
   "metadata": {
    "execution": {
     "iopub.execute_input": "2024-05-31T16:15:40.598843Z",
     "iopub.status.busy": "2024-05-31T16:15:40.598576Z",
     "iopub.status.idle": "2024-05-31T16:37:33.764567Z",
     "shell.execute_reply": "2024-05-31T16:37:33.763576Z"
    },
    "papermill": {
     "duration": 1314.043488,
     "end_time": "2024-05-31T16:37:34.624138",
     "exception": false,
     "start_time": "2024-05-31T16:15:40.580650",
     "status": "completed"
    },
    "tags": []
   },
   "outputs": [
    {
     "name": "stdout",
     "output_type": "stream",
     "text": [
      "Epoch 1/100\n"
     ]
    },
    {
     "name": "stderr",
     "output_type": "stream",
     "text": [
      "/opt/conda/lib/python3.10/site-packages/keras/src/trainers/data_adapters/py_dataset_adapter.py:121: UserWarning: Your `PyDataset` class should call `super().__init__(**kwargs)` in its constructor. `**kwargs` can include `workers`, `use_multiprocessing`, `max_queue_size`. Do not pass these arguments to `fit()`, as they will be ignored.\n",
      "  self._warn_if_super_not_called()\n"
     ]
    },
    {
     "name": "stdout",
     "output_type": "stream",
     "text": [
      "\u001b[1m   3/3125\u001b[0m \u001b[37m━━━━━━━━━━━━━━━━━━━━\u001b[0m \u001b[1m4:02\u001b[0m 78ms/step - accuracy: 0.4601 - loss: 0.7091 - precision: 0.4520 - recall: 0.6244  "
     ]
    },
    {
     "name": "stderr",
     "output_type": "stream",
     "text": [
      "WARNING: All log messages before absl::InitializeLog() is called are written to STDERR\n",
      "I0000 00:00:1717172150.973568      87 device_compiler.h:186] Compiled cluster using XLA!  This line is logged at most once for the lifetime of the process.\n",
      "W0000 00:00:1717172150.992867      87 graph_launch.cc:671] Fallback to op-by-op mode because memset node breaks graph update\n"
     ]
    },
    {
     "name": "stdout",
     "output_type": "stream",
     "text": [
      "\u001b[1m3118/3125\u001b[0m \u001b[32m━━━━━━━━━━━━━━━━━━━\u001b[0m\u001b[37m━\u001b[0m \u001b[1m1s\u001b[0m 212ms/step - accuracy: 0.8008 - loss: 0.4182 - precision: 0.7946 - recall: 0.8133"
     ]
    },
    {
     "name": "stderr",
     "output_type": "stream",
     "text": [
      "W0000 00:00:1717172813.506936      90 graph_launch.cc:671] Fallback to op-by-op mode because memset node breaks graph update\n"
     ]
    },
    {
     "name": "stdout",
     "output_type": "stream",
     "text": [
      "\u001b[1m3125/3125\u001b[0m \u001b[32m━━━━━━━━━━━━━━━━━━━━\u001b[0m\u001b[37m\u001b[0m \u001b[1m788s\u001b[0m 249ms/step - accuracy: 0.8009 - loss: 0.4180 - precision: 0.7947 - recall: 0.8134 - val_accuracy: 0.8892 - val_loss: 0.2688 - val_precision: 0.8522 - val_recall: 0.9419\n",
      "Epoch 2/100\n",
      "\u001b[1m3125/3125\u001b[0m \u001b[32m━━━━━━━━━━━━━━━━━━━━\u001b[0m\u001b[37m\u001b[0m \u001b[1m196s\u001b[0m 63ms/step - accuracy: 0.8972 - loss: 0.2509 - precision: 0.8988 - recall: 0.8952 - val_accuracy: 0.9021 - val_loss: 0.2371 - val_precision: 0.9527 - val_recall: 0.8461\n",
      "Epoch 3/100\n",
      "\u001b[1m3125/3125\u001b[0m \u001b[32m━━━━━━━━━━━━━━━━━━━━\u001b[0m\u001b[37m\u001b[0m \u001b[1m117s\u001b[0m 37ms/step - accuracy: 0.9134 - loss: 0.2148 - precision: 0.9148 - recall: 0.9129 - val_accuracy: 0.9227 - val_loss: 0.1905 - val_precision: 0.9162 - val_recall: 0.9305\n",
      "Epoch 4/100\n",
      "\u001b[1m3125/3125\u001b[0m \u001b[32m━━━━━━━━━━━━━━━━━━━━\u001b[0m\u001b[37m\u001b[0m \u001b[1m106s\u001b[0m 34ms/step - accuracy: 0.9260 - loss: 0.1863 - precision: 0.9250 - recall: 0.9273 - val_accuracy: 0.9233 - val_loss: 0.1937 - val_precision: 0.9466 - val_recall: 0.8972\n",
      "Epoch 5/100\n",
      "\u001b[1m3125/3125\u001b[0m \u001b[32m━━━━━━━━━━━━━━━━━━━━\u001b[0m\u001b[37m\u001b[0m \u001b[1m105s\u001b[0m 34ms/step - accuracy: 0.9331 - loss: 0.1698 - precision: 0.9317 - recall: 0.9348 - val_accuracy: 0.9192 - val_loss: 0.1986 - val_precision: 0.9514 - val_recall: 0.8835\n"
     ]
    }
   ],
   "source": [
    "history = model1.fit(train_dataset,\n",
    "                    epochs = 100,\n",
    "                    validation_data = test_dataset,callbacks=[callback])"
   ]
  },
  {
   "cell_type": "markdown",
   "id": "84b89541",
   "metadata": {
    "papermill": {
     "duration": 0.855806,
     "end_time": "2024-05-31T16:37:36.386596",
     "exception": false,
     "start_time": "2024-05-31T16:37:35.530790",
     "status": "completed"
    },
    "tags": []
   },
   "source": [
    "### prediksi pada data test"
   ]
  },
  {
   "cell_type": "code",
   "execution_count": 10,
   "id": "89a94629",
   "metadata": {
    "execution": {
     "iopub.execute_input": "2024-05-31T16:37:38.210931Z",
     "iopub.status.busy": "2024-05-31T16:37:38.210521Z",
     "iopub.status.idle": "2024-05-31T16:37:56.956025Z",
     "shell.execute_reply": "2024-05-31T16:37:56.955131Z"
    },
    "papermill": {
     "duration": 19.643476,
     "end_time": "2024-05-31T16:37:56.958437",
     "exception": false,
     "start_time": "2024-05-31T16:37:37.314961",
     "status": "completed"
    },
    "tags": []
   },
   "outputs": [
    {
     "name": "stdout",
     "output_type": "stream",
     "text": [
      "\u001b[1m625/625\u001b[0m \u001b[32m━━━━━━━━━━━━━━━━━━━━\u001b[0m\u001b[37m\u001b[0m \u001b[1m18s\u001b[0m 29ms/step\n"
     ]
    }
   ],
   "source": [
    "# buat prediksi\n",
    "prediksi = model1.predict(test_dataset)"
   ]
  },
  {
   "cell_type": "code",
   "execution_count": 11,
   "id": "1da190fb",
   "metadata": {
    "execution": {
     "iopub.execute_input": "2024-05-31T16:37:58.806751Z",
     "iopub.status.busy": "2024-05-31T16:37:58.806010Z",
     "iopub.status.idle": "2024-05-31T16:37:58.812719Z",
     "shell.execute_reply": "2024-05-31T16:37:58.811857Z"
    },
    "papermill": {
     "duration": 0.884385,
     "end_time": "2024-05-31T16:37:58.814689",
     "exception": false,
     "start_time": "2024-05-31T16:37:57.930304",
     "status": "completed"
    },
    "tags": []
   },
   "outputs": [
    {
     "data": {
      "text/plain": [
       "array([[0],\n",
       "       [0],\n",
       "       [0],\n",
       "       ...,\n",
       "       [1],\n",
       "       [1],\n",
       "       [0]])"
      ]
     },
     "execution_count": 11,
     "metadata": {},
     "output_type": "execute_result"
    }
   ],
   "source": [
    "binary_predictions = (prediksi > 0.5).astype(int)\n",
    "binary_predictions"
   ]
  },
  {
   "cell_type": "code",
   "execution_count": 12,
   "id": "4ce4a769",
   "metadata": {
    "execution": {
     "iopub.execute_input": "2024-05-31T16:38:00.608713Z",
     "iopub.status.busy": "2024-05-31T16:38:00.608264Z",
     "iopub.status.idle": "2024-05-31T16:38:24.382080Z",
     "shell.execute_reply": "2024-05-31T16:38:24.380663Z"
    },
    "papermill": {
     "duration": 24.706219,
     "end_time": "2024-05-31T16:38:24.384403",
     "exception": false,
     "start_time": "2024-05-31T16:37:59.678184",
     "status": "completed"
    },
    "tags": []
   },
   "outputs": [
    {
     "name": "stdout",
     "output_type": "stream",
     "text": [
      "\u001b[1m625/625\u001b[0m \u001b[32m━━━━━━━━━━━━━━━━━━━━\u001b[0m\u001b[37m\u001b[0m \u001b[1m23s\u001b[0m 37ms/step\n",
      "\n",
      "Accuracy: 0.9192\n",
      "\n",
      "Confusion Matrix:\n",
      "[[9549  451]\n",
      " [1165 8835]]\n",
      "\n",
      "Classification Report:\n",
      "              precision    recall  f1-score   support\n",
      "\n",
      "        FAKE       0.89      0.95      0.92     10000\n",
      "        REAL       0.95      0.88      0.92     10000\n",
      "\n",
      "    accuracy                           0.92     20000\n",
      "   macro avg       0.92      0.92      0.92     20000\n",
      "weighted avg       0.92      0.92      0.92     20000\n",
      "\n",
      "\n",
      "Mean Average Precision (mAP): 0.9791610621423824\n"
     ]
    }
   ],
   "source": [
    "# Make predictions on the test data\n",
    "predict_prob = model1.predict(test_dataset)\n",
    "labels = [0 if pred < 0.5 else 1 for pred in predict_prob]\n",
    "\n",
    "# Calculate accuracy\n",
    "accuracy = np.sum(np.array(test_dataset.labels) == np.array(labels)) / len(labels)\n",
    "\n",
    "# Print the accuracy\n",
    "print(\"\\nAccuracy:\", accuracy)\n",
    "\n",
    "cm = confusion_matrix(test_dataset.labels, labels)\n",
    "print(\"\\nConfusion Matrix:\")\n",
    "print(cm)\n",
    "\n",
    "# Compute the classification report\n",
    "class_names = test_dataset.class_indices.keys()\n",
    "classification_rep = classification_report(test_dataset.labels, labels, target_names=class_names)\n",
    "print(\"\\nClassification Report:\")\n",
    "print(classification_rep)\n",
    "\n",
    "# Calculate the average precision (mAP)\n",
    "mAP = average_precision_score(test_dataset.labels,  predict_prob)\n",
    "print(\"\\nMean Average Precision (mAP):\", mAP)"
   ]
  },
  {
   "cell_type": "code",
   "execution_count": 13,
   "id": "f16dbcfa",
   "metadata": {
    "execution": {
     "iopub.execute_input": "2024-05-31T16:38:26.279397Z",
     "iopub.status.busy": "2024-05-31T16:38:26.278390Z",
     "iopub.status.idle": "2024-05-31T16:38:26.600592Z",
     "shell.execute_reply": "2024-05-31T16:38:26.599611Z"
    },
    "papermill": {
     "duration": 1.279643,
     "end_time": "2024-05-31T16:38:26.602695",
     "exception": false,
     "start_time": "2024-05-31T16:38:25.323052",
     "status": "completed"
    },
    "tags": []
   },
   "outputs": [
    {
     "data": {
      "image/png": "[encoded data removed]",
      "text/plain": [
       "<Figure size 640x480 with 2 Axes>"
      ]
     },
     "metadata": {},
     "output_type": "display_data"
    }
   ],
   "source": [
    "import matplotlib.pyplot as plt\n",
    "import seaborn as sns\n",
    "from sklearn.metrics import confusion_matrix, classification_report\n",
    "\n",
    "# Asumsikan `true_labels` dan `binary_predictions` sudah tersedia\n",
    "true_labels = test_dataset.classes\n",
    "\n",
    "# Buat confusion matrix\n",
    "cm = confusion_matrix(true_labels, binary_predictions)\n",
    "\n",
    "# Tampilkan heatmap tanpa notasi eksponensial\n",
    "sns.heatmap(cm, annot=True, fmt='g')  # 'g' memastikan format angka biasa\n",
    "plt.title(\"Confusion Matrix\")\n",
    "plt.xlabel(\"Prediksi\")\n",
    "plt.ylabel(\"Actual Classes\")\n",
    "plt.show()\n",
    "\n",
    "# Print classification report\n",
    "report = classification_report(true_labels, binary_predictions, output_dict=True)"
   ]
  },
  {
   "cell_type": "code",
   "execution_count": 14,
   "id": "35c75a0d",
   "metadata": {
    "execution": {
     "iopub.execute_input": "2024-05-31T16:38:28.437970Z",
     "iopub.status.busy": "2024-05-31T16:38:28.437575Z",
     "iopub.status.idle": "2024-05-31T16:38:29.142392Z",
     "shell.execute_reply": "2024-05-31T16:38:29.141423Z"
    },
    "papermill": {
     "duration": 1.631312,
     "end_time": "2024-05-31T16:38:29.144945",
     "exception": false,
     "start_time": "2024-05-31T16:38:27.513633",
     "status": "completed"
    },
    "tags": []
   },
   "outputs": [
    {
     "data": {
      "image/png": "[encoded data removed]",
      "text/plain": [
       "<Figure size 1200x400 with 2 Axes>"
      ]
     },
     "metadata": {},
     "output_type": "display_data"
    }
   ],
   "source": [
    "# Plot accuracy and loss\n",
    "plt.figure(figsize=(12, 4))\n",
    "\n",
    "# Plot training & validation accuracy values\n",
    "plt.subplot(1, 2, 1)\n",
    "plt.plot(history.history['accuracy'])\n",
    "plt.plot(history.history['val_accuracy'])\n",
    "plt.title('Model accuracy')\n",
    "plt.xlabel('Epoch')\n",
    "plt.ylabel('Accuracy')\n",
    "plt.legend(['Train', 'Validation'], loc='upper left')\n",
    "\n",
    "# Plot training & validation loss values\n",
    "plt.subplot(1, 2, 2)\n",
    "plt.plot(history.history['loss'])\n",
    "plt.plot(history.history['val_loss'])\n",
    "plt.title('Model loss')\n",
    "plt.xlabel('Epoch')\n",
    "plt.ylabel('Loss')\n",
    "plt.legend(['Train', 'Validation'], loc='upper left')\n",
    "\n",
    "plt.tight_layout()\n",
    "plt.show()"
   ]
  },
  {
   "cell_type": "code",
   "execution_count": 15,
   "id": "0d85aa86",
   "metadata": {
    "execution": {
     "iopub.execute_input": "2024-05-31T16:38:31.031345Z",
     "iopub.status.busy": "2024-05-31T16:38:31.030954Z",
     "iopub.status.idle": "2024-05-31T16:38:31.084058Z",
     "shell.execute_reply": "2024-05-31T16:38:31.083316Z"
    },
    "papermill": {
     "duration": 0.974531,
     "end_time": "2024-05-31T16:38:31.086025",
     "exception": false,
     "start_time": "2024-05-31T16:38:30.111494",
     "status": "completed"
    },
    "tags": []
   },
   "outputs": [],
   "source": [
    "# simpan model\n",
    "model_save = model1.save('model_skenario1.h5')"
   ]
  },
  {
   "cell_type": "code",
   "execution_count": null,
   "id": "ad9dca7e",
   "metadata": {
    "papermill": {
     "duration": 0.910222,
     "end_time": "2024-05-31T16:38:32.959537",
     "exception": false,
     "start_time": "2024-05-31T16:38:32.049315",
     "status": "completed"
    },
    "tags": []
   },
   "outputs": [],
   "source": []
  },
  {
   "cell_type": "markdown",
   "id": "489345c5",
   "metadata": {
    "papermill": {
     "duration": 0.951216,
     "end_time": "2024-05-31T16:38:34.844115",
     "exception": false,
     "start_time": "2024-05-31T16:38:33.892899",
     "status": "completed"
    },
    "tags": []
   },
   "source": [
    "## Skenario 2"
   ]
  },
  {
   "cell_type": "code",
   "execution_count": 16,
   "id": "80e30993",
   "metadata": {
    "execution": {
     "iopub.execute_input": "2024-05-31T16:38:36.654782Z",
     "iopub.status.busy": "2024-05-31T16:38:36.654395Z",
     "iopub.status.idle": "2024-05-31T16:38:36.776698Z",
     "shell.execute_reply": "2024-05-31T16:38:36.775842Z"
    },
    "papermill": {
     "duration": 1.031691,
     "end_time": "2024-05-31T16:38:36.778883",
     "exception": false,
     "start_time": "2024-05-31T16:38:35.747192",
     "status": "completed"
    },
    "tags": []
   },
   "outputs": [
    {
     "name": "stderr",
     "output_type": "stream",
     "text": [
      "/opt/conda/lib/python3.10/site-packages/keras/src/layers/convolutional/base_conv.py:107: UserWarning: Do not pass an `input_shape`/`input_dim` argument to a layer. When using Sequential models, prefer using an `Input(shape)` object as the first layer in the model instead.\n",
      "  super().__init__(activity_regularizer=activity_regularizer, **kwargs)\n"
     ]
    }
   ],
   "source": [
    "# # mendefinisikan model\n",
    "# model2 = models.Sequential()\n",
    "\n",
    "# # convolutional layers\n",
    "# model2.add(layers.Conv2D(32, (3, 3), activation = 'relu', input_shape=(weight, height, 3) ))\n",
    "# model2.add(layers.MaxPooling2D((2, 2)))\n",
    "# model2.add(layers.Conv2D(64, (3, 3), activation='relu'))\n",
    "# model2.add(layers.MaxPooling2D((2, 2)))\n",
    "# model2.add(layers.Conv2D(128, (3, 3)))\n",
    "# model2.add(layers.MaxPooling2D((2, 2)))\n",
    "# model2.add(layers.Conv2D(256, (3, 3)))\n",
    "# model2.add(layers.MaxPooling2D((2, 2)))\n",
    "# # Flatten layer\n",
    "# model2.add(layers.Flatten())\n",
    "\n",
    "# # dense layers\n",
    "# model2.add(layers.Dense(512, activation='relu'))\n",
    "# model2.add(layers.Dropout(0.5))\n",
    "# model2.add(layers.Dense(1, activation='sigmoid'))\n",
    "# Mendefinisikan model\n",
    "model2 = models.Sequential()\n",
    "\n",
    "# Convolutional layers\n",
    "model2.add(layers.Conv2D(32, (3, 3), activation='relu', input_shape=(weight, height, 3), padding='same'))\n",
    "model2.add(layers.MaxPooling2D((2, 2)))\n",
    "model2.add(layers.Conv2D(64, (3, 3), activation='relu', padding='same'))\n",
    "model2.add(layers.MaxPooling2D((2, 2)))\n",
    "model2.add(layers.Conv2D(128, (3, 3), activation='relu', padding='same'))\n",
    "model2.add(layers.MaxPooling2D((2, 2)))\n",
    "model2.add(layers.Conv2D(256, (3, 3), activation='relu', padding='same'))\n",
    "model2.add(layers.MaxPooling2D((2, 2)))\n",
    "\n",
    "# Flatten layer\n",
    "model2.add(layers.Flatten())\n",
    "\n",
    "# Dense layers\n",
    "model2.add(layers.Dense(512, activation='relu'))\n",
    "model2.add(layers.Dropout(0.5))\n",
    "model2.add(layers.Dense(1, activation='sigmoid'))\n"
   ]
  },
  {
   "cell_type": "code",
   "execution_count": 17,
   "id": "1b9b4c4e",
   "metadata": {
    "execution": {
     "iopub.execute_input": "2024-05-31T16:38:38.677676Z",
     "iopub.status.busy": "2024-05-31T16:38:38.676350Z",
     "iopub.status.idle": "2024-05-31T16:38:38.713151Z",
     "shell.execute_reply": "2024-05-31T16:38:38.711938Z"
    },
    "papermill": {
     "duration": 0.976755,
     "end_time": "2024-05-31T16:38:38.715239",
     "exception": false,
     "start_time": "2024-05-31T16:38:37.738484",
     "status": "completed"
    },
    "tags": []
   },
   "outputs": [
    {
     "data": {
      "text/html": [
       "<pre style=\"white-space:pre;overflow-x:auto;line-height:normal;font-family:Menlo,'DejaVu Sans Mono',consolas,'Courier New',monospace\"><span style=\"font-weight: bold\">Model: \"sequential_1\"</span>\n",
       "</pre>\n"
      ],
      "text/plain": [
       "\u001b[1mModel: \"sequential_1\"\u001b[0m\n"
      ]
     },
     "metadata": {},
     "output_type": "display_data"
    },
    {
     "data": {
      "text/html": [
       "<pre style=\"white-space:pre;overflow-x:auto;line-height:normal;font-family:Menlo,'DejaVu Sans Mono',consolas,'Courier New',monospace\">┏━━━━━━━━━━━━━━━━━━━━━━━━━━━━━━━━━┳━━━━━━━━━━━━━━━━━━━━━━━━┳━━━━━━━━━━━━━━━┓\n",
       "┃<span style=\"font-weight: bold\"> Layer (type)                    </span>┃<span style=\"font-weight: bold\"> Output Shape           </span>┃<span style=\"font-weight: bold\">       Param # </span>┃\n",
       "┡━━━━━━━━━━━━━━━━━━━━━━━━━━━━━━━━━╇━━━━━━━━━━━━━━━━━━━━━━━━╇━━━━━━━━━━━━━━━┩\n",
       "│ conv2d_3 (<span style=\"color: #0087ff; text-decoration-color: #0087ff\">Conv2D</span>)               │ (<span style=\"color: #00d7ff; text-decoration-color: #00d7ff\">None</span>, <span style=\"color: #00af00; text-decoration-color: #00af00\">32</span>, <span style=\"color: #00af00; text-decoration-color: #00af00\">32</span>, <span style=\"color: #00af00; text-decoration-color: #00af00\">32</span>)     │           <span style=\"color: #00af00; text-decoration-color: #00af00\">896</span> │\n",
       "├─────────────────────────────────┼────────────────────────┼───────────────┤\n",
       "│ max_pooling2d_3 (<span style=\"color: #0087ff; text-decoration-color: #0087ff\">MaxPooling2D</span>)  │ (<span style=\"color: #00d7ff; text-decoration-color: #00d7ff\">None</span>, <span style=\"color: #00af00; text-decoration-color: #00af00\">16</span>, <span style=\"color: #00af00; text-decoration-color: #00af00\">16</span>, <span style=\"color: #00af00; text-decoration-color: #00af00\">32</span>)     │             <span style=\"color: #00af00; text-decoration-color: #00af00\">0</span> │\n",
       "├─────────────────────────────────┼────────────────────────┼───────────────┤\n",
       "│ conv2d_4 (<span style=\"color: #0087ff; text-decoration-color: #0087ff\">Conv2D</span>)               │ (<span style=\"color: #00d7ff; text-decoration-color: #00d7ff\">None</span>, <span style=\"color: #00af00; text-decoration-color: #00af00\">16</span>, <span style=\"color: #00af00; text-decoration-color: #00af00\">16</span>, <span style=\"color: #00af00; text-decoration-color: #00af00\">64</span>)     │        <span style=\"color: #00af00; text-decoration-color: #00af00\">18,496</span> │\n",
       "├─────────────────────────────────┼────────────────────────┼───────────────┤\n",
       "│ max_pooling2d_4 (<span style=\"color: #0087ff; text-decoration-color: #0087ff\">MaxPooling2D</span>)  │ (<span style=\"color: #00d7ff; text-decoration-color: #00d7ff\">None</span>, <span style=\"color: #00af00; text-decoration-color: #00af00\">8</span>, <span style=\"color: #00af00; text-decoration-color: #00af00\">8</span>, <span style=\"color: #00af00; text-decoration-color: #00af00\">64</span>)       │             <span style=\"color: #00af00; text-decoration-color: #00af00\">0</span> │\n",
       "├─────────────────────────────────┼────────────────────────┼───────────────┤\n",
       "│ conv2d_5 (<span style=\"color: #0087ff; text-decoration-color: #0087ff\">Conv2D</span>)               │ (<span style=\"color: #00d7ff; text-decoration-color: #00d7ff\">None</span>, <span style=\"color: #00af00; text-decoration-color: #00af00\">8</span>, <span style=\"color: #00af00; text-decoration-color: #00af00\">8</span>, <span style=\"color: #00af00; text-decoration-color: #00af00\">128</span>)      │        <span style=\"color: #00af00; text-decoration-color: #00af00\">73,856</span> │\n",
       "├─────────────────────────────────┼────────────────────────┼───────────────┤\n",
       "│ max_pooling2d_5 (<span style=\"color: #0087ff; text-decoration-color: #0087ff\">MaxPooling2D</span>)  │ (<span style=\"color: #00d7ff; text-decoration-color: #00d7ff\">None</span>, <span style=\"color: #00af00; text-decoration-color: #00af00\">4</span>, <span style=\"color: #00af00; text-decoration-color: #00af00\">4</span>, <span style=\"color: #00af00; text-decoration-color: #00af00\">128</span>)      │             <span style=\"color: #00af00; text-decoration-color: #00af00\">0</span> │\n",
       "├─────────────────────────────────┼────────────────────────┼───────────────┤\n",
       "│ conv2d_6 (<span style=\"color: #0087ff; text-decoration-color: #0087ff\">Conv2D</span>)               │ (<span style=\"color: #00d7ff; text-decoration-color: #00d7ff\">None</span>, <span style=\"color: #00af00; text-decoration-color: #00af00\">4</span>, <span style=\"color: #00af00; text-decoration-color: #00af00\">4</span>, <span style=\"color: #00af00; text-decoration-color: #00af00\">256</span>)      │       <span style=\"color: #00af00; text-decoration-color: #00af00\">295,168</span> │\n",
       "├─────────────────────────────────┼────────────────────────┼───────────────┤\n",
       "│ max_pooling2d_6 (<span style=\"color: #0087ff; text-decoration-color: #0087ff\">MaxPooling2D</span>)  │ (<span style=\"color: #00d7ff; text-decoration-color: #00d7ff\">None</span>, <span style=\"color: #00af00; text-decoration-color: #00af00\">2</span>, <span style=\"color: #00af00; text-decoration-color: #00af00\">2</span>, <span style=\"color: #00af00; text-decoration-color: #00af00\">256</span>)      │             <span style=\"color: #00af00; text-decoration-color: #00af00\">0</span> │\n",
       "├─────────────────────────────────┼────────────────────────┼───────────────┤\n",
       "│ flatten_1 (<span style=\"color: #0087ff; text-decoration-color: #0087ff\">Flatten</span>)             │ (<span style=\"color: #00d7ff; text-decoration-color: #00d7ff\">None</span>, <span style=\"color: #00af00; text-decoration-color: #00af00\">1024</span>)           │             <span style=\"color: #00af00; text-decoration-color: #00af00\">0</span> │\n",
       "├─────────────────────────────────┼────────────────────────┼───────────────┤\n",
       "│ dense_2 (<span style=\"color: #0087ff; text-decoration-color: #0087ff\">Dense</span>)                 │ (<span style=\"color: #00d7ff; text-decoration-color: #00d7ff\">None</span>, <span style=\"color: #00af00; text-decoration-color: #00af00\">512</span>)            │       <span style=\"color: #00af00; text-decoration-color: #00af00\">524,800</span> │\n",
       "├─────────────────────────────────┼────────────────────────┼───────────────┤\n",
       "│ dropout_1 (<span style=\"color: #0087ff; text-decoration-color: #0087ff\">Dropout</span>)             │ (<span style=\"color: #00d7ff; text-decoration-color: #00d7ff\">None</span>, <span style=\"color: #00af00; text-decoration-color: #00af00\">512</span>)            │             <span style=\"color: #00af00; text-decoration-color: #00af00\">0</span> │\n",
       "├─────────────────────────────────┼────────────────────────┼───────────────┤\n",
       "│ dense_3 (<span style=\"color: #0087ff; text-decoration-color: #0087ff\">Dense</span>)                 │ (<span style=\"color: #00d7ff; text-decoration-color: #00d7ff\">None</span>, <span style=\"color: #00af00; text-decoration-color: #00af00\">1</span>)              │           <span style=\"color: #00af00; text-decoration-color: #00af00\">513</span> │\n",
       "└─────────────────────────────────┴────────────────────────┴───────────────┘\n",
       "</pre>\n"
      ],
      "text/plain": [
       "┏━━━━━━━━━━━━━━━━━━━━━━━━━━━━━━━━━┳━━━━━━━━━━━━━━━━━━━━━━━━┳━━━━━━━━━━━━━━━┓\n",
       "┃\u001b[1m \u001b[0m\u001b[1mLayer (type)                   \u001b[0m\u001b[1m \u001b[0m┃\u001b[1m \u001b[0m\u001b[1mOutput Shape          \u001b[0m\u001b[1m \u001b[0m┃\u001b[1m \u001b[0m\u001b[1m      Param #\u001b[0m\u001b[1m \u001b[0m┃\n",
       "┡━━━━━━━━━━━━━━━━━━━━━━━━━━━━━━━━━╇━━━━━━━━━━━━━━━━━━━━━━━━╇━━━━━━━━━━━━━━━┩\n",
       "│ conv2d_3 (\u001b[38;5;33mConv2D\u001b[0m)               │ (\u001b[38;5;45mNone\u001b[0m, \u001b[38;5;34m32\u001b[0m, \u001b[38;5;34m32\u001b[0m, \u001b[38;5;34m32\u001b[0m)     │           \u001b[38;5;34m896\u001b[0m │\n",
       "├─────────────────────────────────┼────────────────────────┼───────────────┤\n",
       "│ max_pooling2d_3 (\u001b[38;5;33mMaxPooling2D\u001b[0m)  │ (\u001b[38;5;45mNone\u001b[0m, \u001b[38;5;34m16\u001b[0m, \u001b[38;5;34m16\u001b[0m, \u001b[38;5;34m32\u001b[0m)     │             \u001b[38;5;34m0\u001b[0m │\n",
       "├─────────────────────────────────┼────────────────────────┼───────────────┤\n",
       "│ conv2d_4 (\u001b[38;5;33mConv2D\u001b[0m)               │ (\u001b[38;5;45mNone\u001b[0m, \u001b[38;5;34m16\u001b[0m, \u001b[38;5;34m16\u001b[0m, \u001b[38;5;34m64\u001b[0m)     │        \u001b[38;5;34m18,496\u001b[0m │\n",
       "├─────────────────────────────────┼────────────────────────┼───────────────┤\n",
       "│ max_pooling2d_4 (\u001b[38;5;33mMaxPooling2D\u001b[0m)  │ (\u001b[38;5;45mNone\u001b[0m, \u001b[38;5;34m8\u001b[0m, \u001b[38;5;34m8\u001b[0m, \u001b[38;5;34m64\u001b[0m)       │             \u001b[38;5;34m0\u001b[0m │\n",
       "├─────────────────────────────────┼────────────────────────┼───────────────┤\n",
       "│ conv2d_5 (\u001b[38;5;33mConv2D\u001b[0m)               │ (\u001b[38;5;45mNone\u001b[0m, \u001b[38;5;34m8\u001b[0m, \u001b[38;5;34m8\u001b[0m, \u001b[38;5;34m128\u001b[0m)      │        \u001b[38;5;34m73,856\u001b[0m │\n",
       "├─────────────────────────────────┼────────────────────────┼───────────────┤\n",
       "│ max_pooling2d_5 (\u001b[38;5;33mMaxPooling2D\u001b[0m)  │ (\u001b[38;5;45mNone\u001b[0m, \u001b[38;5;34m4\u001b[0m, \u001b[38;5;34m4\u001b[0m, \u001b[38;5;34m128\u001b[0m)      │             \u001b[38;5;34m0\u001b[0m │\n",
       "├─────────────────────────────────┼────────────────────────┼───────────────┤\n",
       "│ conv2d_6 (\u001b[38;5;33mConv2D\u001b[0m)               │ (\u001b[38;5;45mNone\u001b[0m, \u001b[38;5;34m4\u001b[0m, \u001b[38;5;34m4\u001b[0m, \u001b[38;5;34m256\u001b[0m)      │       \u001b[38;5;34m295,168\u001b[0m │\n",
       "├─────────────────────────────────┼────────────────────────┼───────────────┤\n",
       "│ max_pooling2d_6 (\u001b[38;5;33mMaxPooling2D\u001b[0m)  │ (\u001b[38;5;45mNone\u001b[0m, \u001b[38;5;34m2\u001b[0m, \u001b[38;5;34m2\u001b[0m, \u001b[38;5;34m256\u001b[0m)      │             \u001b[38;5;34m0\u001b[0m │\n",
       "├─────────────────────────────────┼────────────────────────┼───────────────┤\n",
       "│ flatten_1 (\u001b[38;5;33mFlatten\u001b[0m)             │ (\u001b[38;5;45mNone\u001b[0m, \u001b[38;5;34m1024\u001b[0m)           │             \u001b[38;5;34m0\u001b[0m │\n",
       "├─────────────────────────────────┼────────────────────────┼───────────────┤\n",
       "│ dense_2 (\u001b[38;5;33mDense\u001b[0m)                 │ (\u001b[38;5;45mNone\u001b[0m, \u001b[38;5;34m512\u001b[0m)            │       \u001b[38;5;34m524,800\u001b[0m │\n",
       "├─────────────────────────────────┼────────────────────────┼───────────────┤\n",
       "│ dropout_1 (\u001b[38;5;33mDropout\u001b[0m)             │ (\u001b[38;5;45mNone\u001b[0m, \u001b[38;5;34m512\u001b[0m)            │             \u001b[38;5;34m0\u001b[0m │\n",
       "├─────────────────────────────────┼────────────────────────┼───────────────┤\n",
       "│ dense_3 (\u001b[38;5;33mDense\u001b[0m)                 │ (\u001b[38;5;45mNone\u001b[0m, \u001b[38;5;34m1\u001b[0m)              │           \u001b[38;5;34m513\u001b[0m │\n",
       "└─────────────────────────────────┴────────────────────────┴───────────────┘\n"
      ]
     },
     "metadata": {},
     "output_type": "display_data"
    },
    {
     "data": {
      "text/html": [
       "<pre style=\"white-space:pre;overflow-x:auto;line-height:normal;font-family:Menlo,'DejaVu Sans Mono',consolas,'Courier New',monospace\"><span style=\"font-weight: bold\"> Total params: </span><span style=\"color: #00af00; text-decoration-color: #00af00\">913,729</span> (3.49 MB)\n",
       "</pre>\n"
      ],
      "text/plain": [
       "\u001b[1m Total params: \u001b[0m\u001b[38;5;34m913,729\u001b[0m (3.49 MB)\n"
      ]
     },
     "metadata": {},
     "output_type": "display_data"
    },
    {
     "data": {
      "text/html": [
       "<pre style=\"white-space:pre;overflow-x:auto;line-height:normal;font-family:Menlo,'DejaVu Sans Mono',consolas,'Courier New',monospace\"><span style=\"font-weight: bold\"> Trainable params: </span><span style=\"color: #00af00; text-decoration-color: #00af00\">913,729</span> (3.49 MB)\n",
       "</pre>\n"
      ],
      "text/plain": [
       "\u001b[1m Trainable params: \u001b[0m\u001b[38;5;34m913,729\u001b[0m (3.49 MB)\n"
      ]
     },
     "metadata": {},
     "output_type": "display_data"
    },
    {
     "data": {
      "text/html": [
       "<pre style=\"white-space:pre;overflow-x:auto;line-height:normal;font-family:Menlo,'DejaVu Sans Mono',consolas,'Courier New',monospace\"><span style=\"font-weight: bold\"> Non-trainable params: </span><span style=\"color: #00af00; text-decoration-color: #00af00\">0</span> (0.00 B)\n",
       "</pre>\n"
      ],
      "text/plain": [
       "\u001b[1m Non-trainable params: \u001b[0m\u001b[38;5;34m0\u001b[0m (0.00 B)\n"
      ]
     },
     "metadata": {},
     "output_type": "display_data"
    }
   ],
   "source": [
    "model2.summary()"
   ]
  },
  {
   "cell_type": "code",
   "execution_count": 18,
   "id": "ad9b2f36",
   "metadata": {
    "execution": {
     "iopub.execute_input": "2024-05-31T16:38:40.613371Z",
     "iopub.status.busy": "2024-05-31T16:38:40.612985Z",
     "iopub.status.idle": "2024-05-31T16:38:40.628956Z",
     "shell.execute_reply": "2024-05-31T16:38:40.628200Z"
    },
    "papermill": {
     "duration": 0.921881,
     "end_time": "2024-05-31T16:38:40.630882",
     "exception": false,
     "start_time": "2024-05-31T16:38:39.709001",
     "status": "completed"
    },
    "tags": []
   },
   "outputs": [],
   "source": [
    "# optimizer adam dan learning rate 0.001\n",
    "optimizer = tf.keras.optimizers.Adam(learning_rate = 0.001)\n",
    "\n",
    "model2.compile(optimizer= optimizer, loss='binary_crossentropy',\n",
    "              metrics=['accuracy', tf.keras.metrics.Precision(), tf.keras.metrics.Recall()])\n",
    "callback = tf.keras.callbacks.EarlyStopping(monitor='val_loss',patience=2)"
   ]
  },
  {
   "cell_type": "code",
   "execution_count": 19,
   "id": "8a5afd76",
   "metadata": {
    "execution": {
     "iopub.execute_input": "2024-05-31T16:38:42.529812Z",
     "iopub.status.busy": "2024-05-31T16:38:42.529425Z",
     "iopub.status.idle": "2024-05-31T16:53:10.304266Z",
     "shell.execute_reply": "2024-05-31T16:53:10.303328Z"
    },
    "papermill": {
     "duration": 870.789329,
     "end_time": "2024-05-31T16:53:12.358708",
     "exception": false,
     "start_time": "2024-05-31T16:38:41.569379",
     "status": "completed"
    },
    "tags": []
   },
   "outputs": [
    {
     "name": "stdout",
     "output_type": "stream",
     "text": [
      "Epoch 1/100\n",
      "\u001b[1m   8/3125\u001b[0m \u001b[37m━━━━━━━━━━━━━━━━━━━━\u001b[0m \u001b[1m1:22\u001b[0m 26ms/step - accuracy: 0.4814 - loss: 0.6996 - precision_1: 0.4875 - recall_1: 0.5063"
     ]
    },
    {
     "name": "stderr",
     "output_type": "stream",
     "text": [
      "W0000 00:00:1717173528.837245      88 graph_launch.cc:671] Fallback to op-by-op mode because memset node breaks graph update\n"
     ]
    },
    {
     "name": "stdout",
     "output_type": "stream",
     "text": [
      "\u001b[1m3124/3125\u001b[0m \u001b[32m━━━━━━━━━━━━━━━━━━━\u001b[0m\u001b[37m━\u001b[0m \u001b[1m0s\u001b[0m 28ms/step - accuracy: 0.8453 - loss: 0.3392 - precision_1: 0.8474 - recall_1: 0.8398"
     ]
    },
    {
     "name": "stderr",
     "output_type": "stream",
     "text": [
      "W0000 00:00:1717173618.533569      88 graph_launch.cc:671] Fallback to op-by-op mode because memset node breaks graph update\n"
     ]
    },
    {
     "name": "stdout",
     "output_type": "stream",
     "text": [
      "\u001b[1m3125/3125\u001b[0m \u001b[32m━━━━━━━━━━━━━━━━━━━━\u001b[0m\u001b[37m\u001b[0m \u001b[1m112s\u001b[0m 34ms/step - accuracy: 0.8453 - loss: 0.3392 - precision_1: 0.8474 - recall_1: 0.8398 - val_accuracy: 0.9190 - val_loss: 0.2030 - val_precision_1: 0.8949 - val_recall_1: 0.9495\n",
      "Epoch 2/100\n",
      "\u001b[1m3125/3125\u001b[0m \u001b[32m━━━━━━━━━━━━━━━━━━━━\u001b[0m\u001b[37m\u001b[0m \u001b[1m106s\u001b[0m 34ms/step - accuracy: 0.9233 - loss: 0.1941 - precision_1: 0.9221 - recall_1: 0.9248 - val_accuracy: 0.9316 - val_loss: 0.1738 - val_precision_1: 0.9388 - val_recall_1: 0.9234\n",
      "Epoch 3/100\n",
      "\u001b[1m3125/3125\u001b[0m \u001b[32m━━━━━━━━━━━━━━━━━━━━\u001b[0m\u001b[37m\u001b[0m \u001b[1m106s\u001b[0m 34ms/step - accuracy: 0.9361 - loss: 0.1642 - precision_1: 0.9348 - recall_1: 0.9379 - val_accuracy: 0.9337 - val_loss: 0.1748 - val_precision_1: 0.9178 - val_recall_1: 0.9528\n",
      "Epoch 4/100\n",
      "\u001b[1m3125/3125\u001b[0m \u001b[32m━━━━━━━━━━━━━━━━━━━━\u001b[0m\u001b[37m\u001b[0m \u001b[1m106s\u001b[0m 34ms/step - accuracy: 0.9433 - loss: 0.1448 - precision_1: 0.9425 - recall_1: 0.9444 - val_accuracy: 0.9377 - val_loss: 0.1616 - val_precision_1: 0.9332 - val_recall_1: 0.9429\n",
      "Epoch 5/100\n",
      "\u001b[1m3125/3125\u001b[0m \u001b[32m━━━━━━━━━━━━━━━━━━━━\u001b[0m\u001b[37m\u001b[0m \u001b[1m109s\u001b[0m 35ms/step - accuracy: 0.9508 - loss: 0.1263 - precision_1: 0.9497 - recall_1: 0.9521 - val_accuracy: 0.9427 - val_loss: 0.1491 - val_precision_1: 0.9424 - val_recall_1: 0.9431\n",
      "Epoch 6/100\n",
      "\u001b[1m3125/3125\u001b[0m \u001b[32m━━━━━━━━━━━━━━━━━━━━\u001b[0m\u001b[37m\u001b[0m \u001b[1m107s\u001b[0m 34ms/step - accuracy: 0.9579 - loss: 0.1100 - precision_1: 0.9587 - recall_1: 0.9572 - val_accuracy: 0.9440 - val_loss: 0.1445 - val_precision_1: 0.9427 - val_recall_1: 0.9455\n",
      "Epoch 7/100\n",
      "\u001b[1m3125/3125\u001b[0m \u001b[32m━━━━━━━━━━━━━━━━━━━━\u001b[0m\u001b[37m\u001b[0m \u001b[1m107s\u001b[0m 34ms/step - accuracy: 0.9630 - loss: 0.0965 - precision_1: 0.9621 - recall_1: 0.9642 - val_accuracy: 0.9354 - val_loss: 0.1785 - val_precision_1: 0.9126 - val_recall_1: 0.9630\n",
      "Epoch 8/100\n",
      "\u001b[1m3125/3125\u001b[0m \u001b[32m━━━━━━━━━━━━━━━━━━━━\u001b[0m\u001b[37m\u001b[0m \u001b[1m114s\u001b[0m 36ms/step - accuracy: 0.9663 - loss: 0.0862 - precision_1: 0.9655 - recall_1: 0.9670 - val_accuracy: 0.9463 - val_loss: 0.1474 - val_precision_1: 0.9494 - val_recall_1: 0.9427\n"
     ]
    }
   ],
   "source": [
    "history = model2.fit(train_dataset,\n",
    "                    epochs = 100,\n",
    "                    validation_data = test_dataset,callbacks=[callback])"
   ]
  },
  {
   "cell_type": "markdown",
   "id": "772bed62",
   "metadata": {
    "papermill": {
     "duration": 2.093405,
     "end_time": "2024-05-31T16:53:16.441738",
     "exception": false,
     "start_time": "2024-05-31T16:53:14.348333",
     "status": "completed"
    },
    "tags": []
   },
   "source": [
    "#### Prediksi data test"
   ]
  },
  {
   "cell_type": "code",
   "execution_count": 20,
   "id": "ef5d1f95",
   "metadata": {
    "execution": {
     "iopub.execute_input": "2024-05-31T16:53:20.613412Z",
     "iopub.status.busy": "2024-05-31T16:53:20.613024Z",
     "iopub.status.idle": "2024-05-31T16:53:39.230133Z",
     "shell.execute_reply": "2024-05-31T16:53:39.229326Z"
    },
    "papermill": {
     "duration": 20.672701,
     "end_time": "2024-05-31T16:53:39.232327",
     "exception": false,
     "start_time": "2024-05-31T16:53:18.559626",
     "status": "completed"
    },
    "tags": []
   },
   "outputs": [
    {
     "name": "stdout",
     "output_type": "stream",
     "text": [
      "\u001b[1m625/625\u001b[0m \u001b[32m━━━━━━━━━━━━━━━━━━━━\u001b[0m\u001b[37m\u001b[0m \u001b[1m18s\u001b[0m 29ms/step\n"
     ]
    }
   ],
   "source": [
    "# buat prediksi\n",
    "prediksi = model2.predict(test_dataset)"
   ]
  },
  {
   "cell_type": "code",
   "execution_count": 21,
   "id": "26ff1883",
   "metadata": {
    "execution": {
     "iopub.execute_input": "2024-05-31T16:53:43.385779Z",
     "iopub.status.busy": "2024-05-31T16:53:43.385399Z",
     "iopub.status.idle": "2024-05-31T16:53:43.392801Z",
     "shell.execute_reply": "2024-05-31T16:53:43.391825Z"
    },
    "papermill": {
     "duration": 2.090456,
     "end_time": "2024-05-31T16:53:43.394911",
     "exception": false,
     "start_time": "2024-05-31T16:53:41.304455",
     "status": "completed"
    },
    "tags": []
   },
   "outputs": [
    {
     "data": {
      "text/plain": [
       "array([[0],\n",
       "       [0],\n",
       "       [0],\n",
       "       ...,\n",
       "       [1],\n",
       "       [1],\n",
       "       [0]])"
      ]
     },
     "execution_count": 21,
     "metadata": {},
     "output_type": "execute_result"
    }
   ],
   "source": [
    "binary_predictions = (prediksi > 0.5).astype(int)\n",
    "binary_predictions"
   ]
  },
  {
   "cell_type": "code",
   "execution_count": 22,
   "id": "57d5d711",
   "metadata": {
    "execution": {
     "iopub.execute_input": "2024-05-31T16:53:47.624450Z",
     "iopub.status.busy": "2024-05-31T16:53:47.624056Z",
     "iopub.status.idle": "2024-05-31T16:54:07.043975Z",
     "shell.execute_reply": "2024-05-31T16:54:07.042913Z"
    },
    "papermill": {
     "duration": 21.559718,
     "end_time": "2024-05-31T16:54:07.046246",
     "exception": false,
     "start_time": "2024-05-31T16:53:45.486528",
     "status": "completed"
    },
    "tags": []
   },
   "outputs": [
    {
     "name": "stdout",
     "output_type": "stream",
     "text": [
      "\u001b[1m625/625\u001b[0m \u001b[32m━━━━━━━━━━━━━━━━━━━━\u001b[0m\u001b[37m\u001b[0m \u001b[1m19s\u001b[0m 30ms/step\n",
      "\n",
      "Accuracy: 0.94625\n",
      "\n",
      "Confusion Matrix:\n",
      "[[9498  502]\n",
      " [ 573 9427]]\n",
      "\n",
      "Classification Report:\n",
      "              precision    recall  f1-score   support\n",
      "\n",
      "        FAKE       0.94      0.95      0.95     10000\n",
      "        REAL       0.95      0.94      0.95     10000\n",
      "\n",
      "    accuracy                           0.95     20000\n",
      "   macro avg       0.95      0.95      0.95     20000\n",
      "weighted avg       0.95      0.95      0.95     20000\n",
      "\n",
      "\n",
      "Mean Average Precision (mAP): 0.9880374074771587\n"
     ]
    }
   ],
   "source": [
    "# Make predictions on the test data\n",
    "predict_prob = model2.predict(test_dataset)\n",
    "labels = [0 if pred < 0.5 else 1 for pred in predict_prob]\n",
    "\n",
    "# Calculate accuracy\n",
    "accuracy = np.sum(np.array(test_dataset.labels) == np.array(labels)) / len(labels)\n",
    "\n",
    "# Print the accuracy\n",
    "print(\"\\nAccuracy:\", accuracy)\n",
    "\n",
    "cm = confusion_matrix(test_dataset.labels, labels)\n",
    "print(\"\\nConfusion Matrix:\")\n",
    "print(cm)\n",
    "\n",
    "# Compute the classification report\n",
    "class_names = test_dataset.class_indices.keys()\n",
    "classification_rep = classification_report(test_dataset.labels, labels, target_names=class_names)\n",
    "print(\"\\nClassification Report:\")\n",
    "print(classification_rep)\n",
    "\n",
    "# Calculate the average precision (mAP)\n",
    "mAP = average_precision_score(test_dataset.labels,  predict_prob)\n",
    "print(\"\\nMean Average Precision (mAP):\", mAP)"
   ]
  },
  {
   "cell_type": "code",
   "execution_count": 23,
   "id": "2b969721",
   "metadata": {
    "execution": {
     "iopub.execute_input": "2024-05-31T16:54:11.390134Z",
     "iopub.status.busy": "2024-05-31T16:54:11.389701Z",
     "iopub.status.idle": "2024-05-31T16:54:11.718723Z",
     "shell.execute_reply": "2024-05-31T16:54:11.717751Z"
    },
    "papermill": {
     "duration": 2.467606,
     "end_time": "2024-05-31T16:54:11.721098",
     "exception": false,
     "start_time": "2024-05-31T16:54:09.253492",
     "status": "completed"
    },
    "tags": []
   },
   "outputs": [
    {
     "data": {
      "image/png": "[encoded data removed]",
      "text/plain": [
       "<Figure size 640x480 with 2 Axes>"
      ]
     },
     "metadata": {},
     "output_type": "display_data"
    }
   ],
   "source": [
    "import matplotlib.pyplot as plt\n",
    "import seaborn as sns\n",
    "from sklearn.metrics import confusion_matrix, classification_report\n",
    "\n",
    "# Asumsikan `true_labels` dan `binary_predictions` sudah tersedia\n",
    "true_labels = test_dataset.classes\n",
    "\n",
    "# Buat confusion matrix\n",
    "cm = confusion_matrix(true_labels, binary_predictions)\n",
    "\n",
    "# Tampilkan heatmap tanpa notasi eksponensial\n",
    "sns.heatmap(cm, annot=True, fmt='g')  # 'g' memastikan format angka biasa\n",
    "plt.title(\"Confusion Matrix\")\n",
    "plt.xlabel(\"Prediksi\")\n",
    "plt.ylabel(\"Actual Classes\")\n",
    "plt.show()\n",
    "\n",
    "# Print classification report\n",
    "report = classification_report(true_labels, binary_predictions, output_dict=True)"
   ]
  },
  {
   "cell_type": "code",
   "execution_count": 24,
   "id": "a96925fd",
   "metadata": {
    "execution": {
     "iopub.execute_input": "2024-05-31T16:54:15.977817Z",
     "iopub.status.busy": "2024-05-31T16:54:15.977426Z",
     "iopub.status.idle": "2024-05-31T16:54:16.680370Z",
     "shell.execute_reply": "2024-05-31T16:54:16.679334Z"
    },
    "papermill": {
     "duration": 2.807761,
     "end_time": "2024-05-31T16:54:16.682793",
     "exception": false,
     "start_time": "2024-05-31T16:54:13.875032",
     "status": "completed"
    },
    "tags": []
   },
   "outputs": [
    {
     "data": {
      "image/png": "[encoded data removed]",
      "text/plain": [
       "<Figure size 1200x400 with 2 Axes>"
      ]
     },
     "metadata": {},
     "output_type": "display_data"
    }
   ],
   "source": [
    "# Plot accuracy and loss\n",
    "plt.figure(figsize=(12, 4))\n",
    "\n",
    "# Plot training & validation accuracy values\n",
    "plt.subplot(1, 2, 1)\n",
    "plt.plot(history.history['accuracy'])\n",
    "plt.plot(history.history['val_accuracy'])\n",
    "plt.title('Model accuracy')\n",
    "plt.xlabel('Epoch')\n",
    "plt.ylabel('Accuracy')\n",
    "plt.legend(['Train', 'Validation'], loc='upper left')\n",
    "\n",
    "# Plot training & validation loss values\n",
    "plt.subplot(1, 2, 2)\n",
    "plt.plot(history.history['loss'])\n",
    "plt.plot(history.history['val_loss'])\n",
    "plt.title('Model loss')\n",
    "plt.xlabel('Epoch')\n",
    "plt.ylabel('Loss')\n",
    "plt.legend(['Train', 'Validation'], loc='upper left')\n",
    "\n",
    "plt.tight_layout()\n",
    "plt.show()"
   ]
  },
  {
   "cell_type": "code",
   "execution_count": 25,
   "id": "3ed69b9c",
   "metadata": {
    "execution": {
     "iopub.execute_input": "2024-05-31T16:54:21.020521Z",
     "iopub.status.busy": "2024-05-31T16:54:21.019604Z",
     "iopub.status.idle": "2024-05-31T16:54:21.077692Z",
     "shell.execute_reply": "2024-05-31T16:54:21.076691Z"
    },
    "papermill": {
     "duration": 2.184309,
     "end_time": "2024-05-31T16:54:21.080019",
     "exception": false,
     "start_time": "2024-05-31T16:54:18.895710",
     "status": "completed"
    },
    "tags": []
   },
   "outputs": [],
   "source": [
    "# simpan model\n",
    "model_save = model2.save('model_skenario2.h5')"
   ]
  },
  {
   "cell_type": "code",
   "execution_count": null,
   "id": "442227cc",
   "metadata": {
    "papermill": {
     "duration": 2.125351,
     "end_time": "2024-05-31T16:54:25.316478",
     "exception": false,
     "start_time": "2024-05-31T16:54:23.191127",
     "status": "completed"
    },
    "tags": []
   },
   "outputs": [],
   "source": []
  },
  {
   "cell_type": "markdown",
   "id": "147959b3",
   "metadata": {
    "papermill": {
     "duration": 2.141854,
     "end_time": "2024-05-31T16:54:29.515770",
     "exception": false,
     "start_time": "2024-05-31T16:54:27.373916",
     "status": "completed"
    },
    "tags": []
   },
   "source": [
    "## Skenario Transfer Learning VGG16"
   ]
  },
  {
   "cell_type": "code",
   "execution_count": 26,
   "id": "e6a32949",
   "metadata": {
    "execution": {
     "iopub.execute_input": "2024-05-31T16:54:33.742247Z",
     "iopub.status.busy": "2024-05-31T16:54:33.741852Z",
     "iopub.status.idle": "2024-05-31T16:54:34.855906Z",
     "shell.execute_reply": "2024-05-31T16:54:34.855091Z"
    },
    "papermill": {
     "duration": 3.221178,
     "end_time": "2024-05-31T16:54:34.858177",
     "exception": false,
     "start_time": "2024-05-31T16:54:31.636999",
     "status": "completed"
    },
    "tags": []
   },
   "outputs": [
    {
     "name": "stdout",
     "output_type": "stream",
     "text": [
      "Downloading data from https://storage.googleapis.com/tensorflow/keras-applications/vgg16/vgg16_weights_tf_dim_ordering_tf_kernels_notop.h5\n",
      "\u001b[1m58889256/58889256\u001b[0m \u001b[32m━━━━━━━━━━━━━━━━━━━━\u001b[0m\u001b[37m\u001b[0m \u001b[1m1s\u001b[0m 0us/step\n"
     ]
    }
   ],
   "source": [
    "baseModel = tf.keras.applications.VGG16(weights=\"imagenet\", include_top=False,\n",
    "                                        input_tensor=Input(shape=(32, 32, 3)))"
   ]
  },
  {
   "cell_type": "code",
   "execution_count": 27,
   "id": "77233440",
   "metadata": {
    "execution": {
     "iopub.execute_input": "2024-05-31T16:54:39.121739Z",
     "iopub.status.busy": "2024-05-31T16:54:39.121386Z",
     "iopub.status.idle": "2024-05-31T16:54:39.157368Z",
     "shell.execute_reply": "2024-05-31T16:54:39.156600Z"
    },
    "papermill": {
     "duration": 2.165148,
     "end_time": "2024-05-31T16:54:39.159191",
     "exception": false,
     "start_time": "2024-05-31T16:54:36.994043",
     "status": "completed"
    },
    "tags": []
   },
   "outputs": [],
   "source": [
    "headModel = baseModel.output\n",
    "headModel = Flatten(name=\"flatten\")(headModel)\n",
    "headModel = Dense(256, activation=\"relu\")(headModel)\n",
    "headModel = Dense(128, activation=\"relu\")(headModel)\n",
    "headModel = Dense(1, activation=\"sigmoid\")(headModel)\n",
    "\n",
    "modelVGG16 = Model(inputs=baseModel.input, outputs=headModel)"
   ]
  },
  {
   "cell_type": "code",
   "execution_count": null,
   "id": "ccc08393",
   "metadata": {
    "execution": {
     "iopub.execute_input": "2024-05-31T15:40:32.623736Z",
     "iopub.status.busy": "2024-05-31T15:40:32.622996Z",
     "iopub.status.idle": "2024-05-31T15:40:32.627567Z",
     "shell.execute_reply": "2024-05-31T15:40:32.626638Z",
     "shell.execute_reply.started": "2024-05-31T15:40:32.623704Z"
    },
    "papermill": {
     "duration": 2.137356,
     "end_time": "2024-05-31T16:54:43.418336",
     "exception": false,
     "start_time": "2024-05-31T16:54:41.280980",
     "status": "completed"
    },
    "tags": []
   },
   "outputs": [],
   "source": []
  },
  {
   "cell_type": "code",
   "execution_count": 28,
   "id": "0224c124",
   "metadata": {
    "execution": {
     "iopub.execute_input": "2024-05-31T16:54:47.714053Z",
     "iopub.status.busy": "2024-05-31T16:54:47.712825Z",
     "iopub.status.idle": "2024-05-31T16:54:47.733208Z",
     "shell.execute_reply": "2024-05-31T16:54:47.732405Z"
    },
    "papermill": {
     "duration": 2.19424,
     "end_time": "2024-05-31T16:54:47.735846",
     "exception": false,
     "start_time": "2024-05-31T16:54:45.541606",
     "status": "completed"
    },
    "tags": []
   },
   "outputs": [],
   "source": [
    "optimizer = tf.keras.optimizers.Adam(learning_rate = 0.001)\n",
    "modelVGG16.compile(\n",
    "    optimizer = optimizer,\n",
    "    loss = tf.keras.losses.BinaryCrossentropy(),\n",
    "    metrics = ['accuracy', tf.keras.metrics.Precision(), tf.keras.metrics.Recall()]\n",
    ")\n",
    "callback = tf.keras.callbacks.EarlyStopping(monitor='val_loss',patience=2)"
   ]
  },
  {
   "cell_type": "code",
   "execution_count": 29,
   "id": "4c5861bd",
   "metadata": {
    "execution": {
     "iopub.execute_input": "2024-05-31T16:54:52.081911Z",
     "iopub.status.busy": "2024-05-31T16:54:52.081539Z",
     "iopub.status.idle": "2024-05-31T17:23:22.023677Z",
     "shell.execute_reply": "2024-05-31T17:23:22.022758Z"
    },
    "papermill": {
     "duration": 1716.223053,
     "end_time": "2024-05-31T17:23:26.161326",
     "exception": false,
     "start_time": "2024-05-31T16:54:49.938273",
     "status": "completed"
    },
    "tags": []
   },
   "outputs": [
    {
     "name": "stdout",
     "output_type": "stream",
     "text": [
      "Epoch 1/100\n",
      "\u001b[1m   5/3125\u001b[0m \u001b[37m━━━━━━━━━━━━━━━━━━━━\u001b[0m \u001b[1m1:41\u001b[0m 33ms/step - accuracy: 0.4540 - loss: 3.2305 - precision_2: 0.3791 - recall_2: 0.4525"
     ]
    },
    {
     "name": "stderr",
     "output_type": "stream",
     "text": [
      "W0000 00:00:1717174504.712584      90 graph_launch.cc:671] Fallback to op-by-op mode because memset node breaks graph update\n"
     ]
    },
    {
     "name": "stdout",
     "output_type": "stream",
     "text": [
      "\u001b[1m3125/3125\u001b[0m \u001b[32m━━━━━━━━━━━━━━━━━━━━\u001b[0m\u001b[37m\u001b[0m \u001b[1m0s\u001b[0m 31ms/step - accuracy: 0.6795 - loss: 0.5687 - precision_2: 0.6776 - recall_2: 0.6700"
     ]
    },
    {
     "name": "stderr",
     "output_type": "stream",
     "text": [
      "W0000 00:00:1717174601.711042      87 graph_launch.cc:671] Fallback to op-by-op mode because memset node breaks graph update\n"
     ]
    },
    {
     "name": "stdout",
     "output_type": "stream",
     "text": [
      "\u001b[1m3125/3125\u001b[0m \u001b[32m━━━━━━━━━━━━━━━━━━━━\u001b[0m\u001b[37m\u001b[0m \u001b[1m128s\u001b[0m 37ms/step - accuracy: 0.6795 - loss: 0.5687 - precision_2: 0.6777 - recall_2: 0.6701 - val_accuracy: 0.9065 - val_loss: 0.2313 - val_precision_2: 0.9356 - val_recall_2: 0.8731\n",
      "Epoch 2/100\n",
      "\u001b[1m3125/3125\u001b[0m \u001b[32m━━━━━━━━━━━━━━━━━━━━\u001b[0m\u001b[37m\u001b[0m \u001b[1m127s\u001b[0m 40ms/step - accuracy: 0.9120 - loss: 0.2240 - precision_2: 0.9114 - recall_2: 0.9129 - val_accuracy: 0.9251 - val_loss: 0.1949 - val_precision_2: 0.9356 - val_recall_2: 0.9129\n",
      "Epoch 3/100\n",
      "\u001b[1m3125/3125\u001b[0m \u001b[32m━━━━━━━━━━━━━━━━━━━━\u001b[0m\u001b[37m\u001b[0m \u001b[1m112s\u001b[0m 36ms/step - accuracy: 0.9313 - loss: 0.1772 - precision_2: 0.9325 - recall_2: 0.9295 - val_accuracy: 0.9311 - val_loss: 0.1729 - val_precision_2: 0.9679 - val_recall_2: 0.8918\n",
      "Epoch 4/100\n",
      "\u001b[1m3125/3125\u001b[0m \u001b[32m━━━━━━━━━━━━━━━━━━━━\u001b[0m\u001b[37m\u001b[0m \u001b[1m111s\u001b[0m 36ms/step - accuracy: 0.9363 - loss: 0.1751 - precision_2: 0.9410 - recall_2: 0.9300 - val_accuracy: 0.9204 - val_loss: 0.2010 - val_precision_2: 0.9086 - val_recall_2: 0.9350\n",
      "Epoch 5/100\n",
      "\u001b[1m3125/3125\u001b[0m \u001b[32m━━━━━━━━━━━━━━━━━━━━\u001b[0m\u001b[37m\u001b[0m \u001b[1m119s\u001b[0m 38ms/step - accuracy: 0.9281 - loss: 0.1834 - precision_2: 0.9297 - recall_2: 0.9257 - val_accuracy: 0.9377 - val_loss: 0.1609 - val_precision_2: 0.9575 - val_recall_2: 0.9161\n",
      "Epoch 6/100\n",
      "\u001b[1m3125/3125\u001b[0m \u001b[32m━━━━━━━━━━━━━━━━━━━━\u001b[0m\u001b[37m\u001b[0m \u001b[1m109s\u001b[0m 35ms/step - accuracy: 0.9446 - loss: 0.1463 - precision_2: 0.9457 - recall_2: 0.9435 - val_accuracy: 0.9352 - val_loss: 0.1670 - val_precision_2: 0.9013 - val_recall_2: 0.9774\n",
      "Epoch 7/100\n",
      "\u001b[1m3125/3125\u001b[0m \u001b[32m━━━━━━━━━━━━━━━━━━━━\u001b[0m\u001b[37m\u001b[0m \u001b[1m108s\u001b[0m 35ms/step - accuracy: 0.9376 - loss: 0.1624 - precision_2: 0.9395 - recall_2: 0.9348 - val_accuracy: 0.9506 - val_loss: 0.1307 - val_precision_2: 0.9433 - val_recall_2: 0.9588\n",
      "Epoch 8/100\n",
      "\u001b[1m3125/3125\u001b[0m \u001b[32m━━━━━━━━━━━━━━━━━━━━\u001b[0m\u001b[37m\u001b[0m \u001b[1m110s\u001b[0m 35ms/step - accuracy: 0.9160 - loss: 0.2282 - precision_2: 0.9205 - recall_2: 0.9106 - val_accuracy: 0.9360 - val_loss: 0.1675 - val_precision_2: 0.9700 - val_recall_2: 0.8998\n",
      "Epoch 9/100\n",
      "\u001b[1m3125/3125\u001b[0m \u001b[32m━━━━━━━━━━━━━━━━━━━━\u001b[0m\u001b[37m\u001b[0m \u001b[1m111s\u001b[0m 36ms/step - accuracy: 0.9452 - loss: 0.1484 - precision_2: 0.9462 - recall_2: 0.9435 - val_accuracy: 0.9493 - val_loss: 0.1306 - val_precision_2: 0.9405 - val_recall_2: 0.9594\n",
      "Epoch 10/100\n",
      "\u001b[1m3125/3125\u001b[0m \u001b[32m━━━━━━━━━━━━━━━━━━━━\u001b[0m\u001b[37m\u001b[0m \u001b[1m111s\u001b[0m 35ms/step - accuracy: 0.9526 - loss: 0.1237 - precision_2: 0.9532 - recall_2: 0.9519 - val_accuracy: 0.9357 - val_loss: 0.1635 - val_precision_2: 0.9086 - val_recall_2: 0.9689\n",
      "Epoch 11/100\n",
      "\u001b[1m3125/3125\u001b[0m \u001b[32m━━━━━━━━━━━━━━━━━━━━\u001b[0m\u001b[37m\u001b[0m \u001b[1m110s\u001b[0m 35ms/step - accuracy: 0.9513 - loss: 0.1297 - precision_2: 0.9548 - recall_2: 0.9472 - val_accuracy: 0.9536 - val_loss: 0.1294 - val_precision_2: 0.9435 - val_recall_2: 0.9650\n",
      "Epoch 12/100\n",
      "\u001b[1m3125/3125\u001b[0m \u001b[32m━━━━━━━━━━━━━━━━━━━━\u001b[0m\u001b[37m\u001b[0m \u001b[1m109s\u001b[0m 35ms/step - accuracy: 0.9379 - loss: 0.1623 - precision_2: 0.9405 - recall_2: 0.9350 - val_accuracy: 0.9464 - val_loss: 0.1348 - val_precision_2: 0.9235 - val_recall_2: 0.9735\n",
      "Epoch 13/100\n",
      "\u001b[1m3125/3125\u001b[0m \u001b[32m━━━━━━━━━━━━━━━━━━━━\u001b[0m\u001b[37m\u001b[0m \u001b[1m114s\u001b[0m 36ms/step - accuracy: 0.9612 - loss: 0.1041 - precision_2: 0.9606 - recall_2: 0.9623 - val_accuracy: 0.9536 - val_loss: 0.1259 - val_precision_2: 0.9383 - val_recall_2: 0.9710\n",
      "Epoch 14/100\n",
      "\u001b[1m3125/3125\u001b[0m \u001b[32m━━━━━━━━━━━━━━━━━━━━\u001b[0m\u001b[37m\u001b[0m \u001b[1m114s\u001b[0m 37ms/step - accuracy: 0.9605 - loss: 0.1069 - precision_2: 0.9607 - recall_2: 0.9602 - val_accuracy: 0.9462 - val_loss: 0.1367 - val_precision_2: 0.9326 - val_recall_2: 0.9618\n",
      "Epoch 15/100\n",
      "\u001b[1m3125/3125\u001b[0m \u001b[32m━━━━━━━━━━━━━━━━━━━━\u001b[0m\u001b[37m\u001b[0m \u001b[1m116s\u001b[0m 37ms/step - accuracy: 0.9156 - loss: 0.1992 - precision_2: 0.8955 - recall_2: 0.9567 - val_accuracy: 0.5000 - val_loss: 0.6936 - val_precision_2: 0.5000 - val_recall_2: 1.0000\n"
     ]
    }
   ],
   "source": [
    "history = modelVGG16.fit(train_dataset,\n",
    "                    validation_data=test_dataset,\n",
    "                    epochs=100,callbacks=[callback]\n",
    ")"
   ]
  },
  {
   "cell_type": "code",
   "execution_count": 30,
   "id": "67bb606d",
   "metadata": {
    "execution": {
     "iopub.execute_input": "2024-05-31T17:23:34.562618Z",
     "iopub.status.busy": "2024-05-31T17:23:34.562220Z",
     "iopub.status.idle": "2024-05-31T17:23:53.440965Z",
     "shell.execute_reply": "2024-05-31T17:23:53.440115Z"
    },
    "papermill": {
     "duration": 23.159952,
     "end_time": "2024-05-31T17:23:53.443197",
     "exception": false,
     "start_time": "2024-05-31T17:23:30.283245",
     "status": "completed"
    },
    "tags": []
   },
   "outputs": [
    {
     "name": "stdout",
     "output_type": "stream",
     "text": [
      "\u001b[1m  8/625\u001b[0m \u001b[37m━━━━━━━━━━━━━━━━━━━━\u001b[0m \u001b[1m16s\u001b[0m 27ms/step"
     ]
    },
    {
     "name": "stderr",
     "output_type": "stream",
     "text": [
      "W0000 00:00:1717176215.365811      88 graph_launch.cc:671] Fallback to op-by-op mode because memset node breaks graph update\n"
     ]
    },
    {
     "name": "stdout",
     "output_type": "stream",
     "text": [
      "\u001b[1m625/625\u001b[0m \u001b[32m━━━━━━━━━━━━━━━━━━━━\u001b[0m\u001b[37m\u001b[0m \u001b[1m19s\u001b[0m 29ms/step\n"
     ]
    }
   ],
   "source": [
    "# buat prediksi\n",
    "prediksi = modelVGG16.predict(test_dataset)"
   ]
  },
  {
   "cell_type": "code",
   "execution_count": 31,
   "id": "c97600ff",
   "metadata": {
    "execution": {
     "iopub.execute_input": "2024-05-31T17:24:01.797311Z",
     "iopub.status.busy": "2024-05-31T17:24:01.796480Z",
     "iopub.status.idle": "2024-05-31T17:24:01.803349Z",
     "shell.execute_reply": "2024-05-31T17:24:01.802468Z"
    },
    "papermill": {
     "duration": 4.189198,
     "end_time": "2024-05-31T17:24:01.805548",
     "exception": false,
     "start_time": "2024-05-31T17:23:57.616350",
     "status": "completed"
    },
    "tags": []
   },
   "outputs": [
    {
     "data": {
      "text/plain": [
       "array([[1],\n",
       "       [1],\n",
       "       [1],\n",
       "       ...,\n",
       "       [1],\n",
       "       [1],\n",
       "       [1]])"
      ]
     },
     "execution_count": 31,
     "metadata": {},
     "output_type": "execute_result"
    }
   ],
   "source": [
    "binary_predictions = (prediksi > 0.5).astype(int)\n",
    "binary_predictions"
   ]
  },
  {
   "cell_type": "code",
   "execution_count": 32,
   "id": "07fc0250",
   "metadata": {
    "execution": {
     "iopub.execute_input": "2024-05-31T17:24:10.272126Z",
     "iopub.status.busy": "2024-05-31T17:24:10.271255Z",
     "iopub.status.idle": "2024-05-31T17:24:27.279390Z",
     "shell.execute_reply": "2024-05-31T17:24:27.278128Z"
    },
    "papermill": {
     "duration": 21.317328,
     "end_time": "2024-05-31T17:24:27.281681",
     "exception": false,
     "start_time": "2024-05-31T17:24:05.964353",
     "status": "completed"
    },
    "tags": []
   },
   "outputs": [
    {
     "name": "stdout",
     "output_type": "stream",
     "text": [
      "\u001b[1m625/625\u001b[0m \u001b[32m━━━━━━━━━━━━━━━━━━━━\u001b[0m\u001b[37m\u001b[0m \u001b[1m17s\u001b[0m 26ms/step\n",
      "\n",
      "Accuracy: 0.5\n",
      "\n",
      "Confusion Matrix:\n",
      "[[    0 10000]\n",
      " [    0 10000]]\n",
      "\n",
      "Classification Report:\n",
      "              precision    recall  f1-score   support\n",
      "\n",
      "        FAKE       0.00      0.00      0.00     10000\n",
      "        REAL       0.50      1.00      0.67     10000\n",
      "\n",
      "    accuracy                           0.50     20000\n",
      "   macro avg       0.25      0.50      0.33     20000\n",
      "weighted avg       0.25      0.50      0.33     20000\n",
      "\n",
      "\n",
      "Mean Average Precision (mAP): 0.5\n"
     ]
    },
    {
     "name": "stderr",
     "output_type": "stream",
     "text": [
      "/opt/conda/lib/python3.10/site-packages/sklearn/metrics/_classification.py:1344: UndefinedMetricWarning: Precision and F-score are ill-defined and being set to 0.0 in labels with no predicted samples. Use `zero_division` parameter to control this behavior.\n",
      "  _warn_prf(average, modifier, msg_start, len(result))\n",
      "/opt/conda/lib/python3.10/site-packages/sklearn/metrics/_classification.py:1344: UndefinedMetricWarning: Precision and F-score are ill-defined and being set to 0.0 in labels with no predicted samples. Use `zero_division` parameter to control this behavior.\n",
      "  _warn_prf(average, modifier, msg_start, len(result))\n",
      "/opt/conda/lib/python3.10/site-packages/sklearn/metrics/_classification.py:1344: UndefinedMetricWarning: Precision and F-score are ill-defined and being set to 0.0 in labels with no predicted samples. Use `zero_division` parameter to control this behavior.\n",
      "  _warn_prf(average, modifier, msg_start, len(result))\n"
     ]
    }
   ],
   "source": [
    "# Make predictions on the test data\n",
    "predict_prob = modelVGG16.predict(test_dataset)\n",
    "labels = [0 if pred < 0.5 else 1 for pred in predict_prob]\n",
    "\n",
    "# Calculate accuracy\n",
    "accuracy = np.sum(np.array(test_dataset.labels) == np.array(labels)) / len(labels)\n",
    "\n",
    "# Print the accuracy\n",
    "print(\"\\nAccuracy:\", accuracy)\n",
    "\n",
    "cm = confusion_matrix(test_dataset.labels, labels)\n",
    "print(\"\\nConfusion Matrix:\")\n",
    "print(cm)\n",
    "\n",
    "# Compute the classification report\n",
    "class_names = test_dataset.class_indices.keys()\n",
    "classification_rep = classification_report(test_dataset.labels, labels, target_names=class_names)\n",
    "print(\"\\nClassification Report:\")\n",
    "print(classification_rep)\n",
    "\n",
    "# Calculate the average precision (mAP)\n",
    "mAP = average_precision_score(test_dataset.labels,  predict_prob)\n",
    "print(\"\\nMean Average Precision (mAP):\", mAP)"
   ]
  },
  {
   "cell_type": "code",
   "execution_count": 33,
   "id": "21e837ba",
   "metadata": {
    "execution": {
     "iopub.execute_input": "2024-05-31T17:24:35.786863Z",
     "iopub.status.busy": "2024-05-31T17:24:35.786479Z",
     "iopub.status.idle": "2024-05-31T17:24:36.077727Z",
     "shell.execute_reply": "2024-05-31T17:24:36.076722Z"
    },
    "papermill": {
     "duration": 4.563723,
     "end_time": "2024-05-31T17:24:36.080119",
     "exception": false,
     "start_time": "2024-05-31T17:24:31.516396",
     "status": "completed"
    },
    "tags": []
   },
   "outputs": [
    {
     "data": {
      "image/png": "[encoded data removed]",
      "text/plain": [
       "<Figure size 640x480 with 2 Axes>"
      ]
     },
     "metadata": {},
     "output_type": "display_data"
    },
    {
     "name": "stderr",
     "output_type": "stream",
     "text": [
      "/opt/conda/lib/python3.10/site-packages/sklearn/metrics/_classification.py:1344: UndefinedMetricWarning: Precision and F-score are ill-defined and being set to 0.0 in labels with no predicted samples. Use `zero_division` parameter to control this behavior.\n",
      "  _warn_prf(average, modifier, msg_start, len(result))\n",
      "/opt/conda/lib/python3.10/site-packages/sklearn/metrics/_classification.py:1344: UndefinedMetricWarning: Precision and F-score are ill-defined and being set to 0.0 in labels with no predicted samples. Use `zero_division` parameter to control this behavior.\n",
      "  _warn_prf(average, modifier, msg_start, len(result))\n",
      "/opt/conda/lib/python3.10/site-packages/sklearn/metrics/_classification.py:1344: UndefinedMetricWarning: Precision and F-score are ill-defined and being set to 0.0 in labels with no predicted samples. Use `zero_division` parameter to control this behavior.\n",
      "  _warn_prf(average, modifier, msg_start, len(result))\n"
     ]
    }
   ],
   "source": [
    "import matplotlib.pyplot as plt\n",
    "import seaborn as sns\n",
    "from sklearn.metrics import confusion_matrix, classification_report\n",
    "\n",
    "# Asumsikan `true_labels` dan `binary_predictions` sudah tersedia\n",
    "true_labels = test_dataset.classes\n",
    "\n",
    "# Buat confusion matrix\n",
    "cm = confusion_matrix(true_labels, binary_predictions)\n",
    "\n",
    "# Tampilkan heatmap tanpa notasi eksponensial\n",
    "sns.heatmap(cm, annot=True, fmt='g')  # 'g' memastikan format angka biasa\n",
    "plt.title(\"Confusion Matrix\")\n",
    "plt.xlabel(\"Prediksi\")\n",
    "plt.ylabel(\"Actual Classes\")\n",
    "plt.show()\n",
    "\n",
    "# Print classification report\n",
    "report = classification_report(true_labels, binary_predictions, output_dict=True)"
   ]
  },
  {
   "cell_type": "code",
   "execution_count": 34,
   "id": "dba4ecda",
   "metadata": {
    "execution": {
     "iopub.execute_input": "2024-05-31T17:24:44.683893Z",
     "iopub.status.busy": "2024-05-31T17:24:44.683049Z",
     "iopub.status.idle": "2024-05-31T17:24:45.309076Z",
     "shell.execute_reply": "2024-05-31T17:24:45.308154Z"
    },
    "papermill": {
     "duration": 4.892942,
     "end_time": "2024-05-31T17:24:45.311113",
     "exception": false,
     "start_time": "2024-05-31T17:24:40.418171",
     "status": "completed"
    },
    "tags": []
   },
   "outputs": [
    {
     "data": {
      "image/png": "[encoded data removed]",
      "text/plain": [
       "<Figure size 1200x400 with 2 Axes>"
      ]
     },
     "metadata": {},
     "output_type": "display_data"
    }
   ],
   "source": [
    "# Plot accuracy and loss\n",
    "plt.figure(figsize=(12, 4))\n",
    "\n",
    "# Plot training & validation accuracy values\n",
    "plt.subplot(1, 2, 1)\n",
    "plt.plot(history.history['accuracy'])\n",
    "plt.plot(history.history['val_accuracy'])\n",
    "plt.title('Model accuracy')\n",
    "plt.xlabel('Epoch')\n",
    "plt.ylabel('Accuracy')\n",
    "plt.legend(['Train', 'Validation'], loc='upper left')\n",
    "\n",
    "# Plot training & validation loss values\n",
    "plt.subplot(1, 2, 2)\n",
    "plt.plot(history.history['loss'])\n",
    "plt.plot(history.history['val_loss'])\n",
    "plt.title('Model loss')\n",
    "plt.xlabel('Epoch')\n",
    "plt.ylabel('Loss')\n",
    "plt.legend(['Train', 'Validation'], loc='upper left')\n",
    "\n",
    "plt.tight_layout()\n",
    "plt.show()"
   ]
  },
  {
   "cell_type": "code",
   "execution_count": 35,
   "id": "9eabdce9",
   "metadata": {
    "execution": {
     "iopub.execute_input": "2024-05-31T17:24:53.799027Z",
     "iopub.status.busy": "2024-05-31T17:24:53.798176Z",
     "iopub.status.idle": "2024-05-31T17:24:54.164578Z",
     "shell.execute_reply": "2024-05-31T17:24:54.163750Z"
    },
    "papermill": {
     "duration": 4.618711,
     "end_time": "2024-05-31T17:24:54.166818",
     "exception": false,
     "start_time": "2024-05-31T17:24:49.548107",
     "status": "completed"
    },
    "tags": []
   },
   "outputs": [],
   "source": [
    "# simpan model\n",
    "model_save = modelVGG16.save('model_vgg16.h5')"
   ]
  },
  {
   "cell_type": "code",
   "execution_count": 36,
   "id": "5111386d",
   "metadata": {
    "execution": {
     "iopub.execute_input": "2024-05-31T17:25:02.487383Z",
     "iopub.status.busy": "2024-05-31T17:25:02.486536Z",
     "iopub.status.idle": "2024-05-31T17:25:02.736526Z",
     "shell.execute_reply": "2024-05-31T17:25:02.735566Z"
    },
    "papermill": {
     "duration": 4.424586,
     "end_time": "2024-05-31T17:25:02.738762",
     "exception": false,
     "start_time": "2024-05-31T17:24:58.314176",
     "status": "completed"
    },
    "tags": []
   },
   "outputs": [
    {
     "data": {
      "text/html": [
       "<pre style=\"white-space:pre;overflow-x:auto;line-height:normal;font-family:Menlo,'DejaVu Sans Mono',consolas,'Courier New',monospace\"><span style=\"font-weight: bold\">Model: \"functional_23\"</span>\n",
       "</pre>\n"
      ],
      "text/plain": [
       "\u001b[1mModel: \"functional_23\"\u001b[0m\n"
      ]
     },
     "metadata": {},
     "output_type": "display_data"
    },
    {
     "data": {
      "text/html": [
       "<pre style=\"white-space:pre;overflow-x:auto;line-height:normal;font-family:Menlo,'DejaVu Sans Mono',consolas,'Courier New',monospace\">┏━━━━━━━━━━━━━━━━━━━━━━━━━━━━━━━━━┳━━━━━━━━━━━━━━━━━━━━━━━━┳━━━━━━━━━━━━━━━┓\n",
       "┃<span style=\"font-weight: bold\"> Layer (type)                    </span>┃<span style=\"font-weight: bold\"> Output Shape           </span>┃<span style=\"font-weight: bold\">       Param # </span>┃\n",
       "┡━━━━━━━━━━━━━━━━━━━━━━━━━━━━━━━━━╇━━━━━━━━━━━━━━━━━━━━━━━━╇━━━━━━━━━━━━━━━┩\n",
       "│ input_layer_2 (<span style=\"color: #0087ff; text-decoration-color: #0087ff\">InputLayer</span>)      │ (<span style=\"color: #00d7ff; text-decoration-color: #00d7ff\">None</span>, <span style=\"color: #00af00; text-decoration-color: #00af00\">32</span>, <span style=\"color: #00af00; text-decoration-color: #00af00\">32</span>, <span style=\"color: #00af00; text-decoration-color: #00af00\">3</span>)      │             <span style=\"color: #00af00; text-decoration-color: #00af00\">0</span> │\n",
       "├─────────────────────────────────┼────────────────────────┼───────────────┤\n",
       "│ block1_conv1 (<span style=\"color: #0087ff; text-decoration-color: #0087ff\">Conv2D</span>)           │ (<span style=\"color: #00d7ff; text-decoration-color: #00d7ff\">None</span>, <span style=\"color: #00af00; text-decoration-color: #00af00\">32</span>, <span style=\"color: #00af00; text-decoration-color: #00af00\">32</span>, <span style=\"color: #00af00; text-decoration-color: #00af00\">64</span>)     │         <span style=\"color: #00af00; text-decoration-color: #00af00\">1,792</span> │\n",
       "├─────────────────────────────────┼────────────────────────┼───────────────┤\n",
       "│ block1_conv2 (<span style=\"color: #0087ff; text-decoration-color: #0087ff\">Conv2D</span>)           │ (<span style=\"color: #00d7ff; text-decoration-color: #00d7ff\">None</span>, <span style=\"color: #00af00; text-decoration-color: #00af00\">32</span>, <span style=\"color: #00af00; text-decoration-color: #00af00\">32</span>, <span style=\"color: #00af00; text-decoration-color: #00af00\">64</span>)     │        <span style=\"color: #00af00; text-decoration-color: #00af00\">36,928</span> │\n",
       "├─────────────────────────────────┼────────────────────────┼───────────────┤\n",
       "│ block1_pool (<span style=\"color: #0087ff; text-decoration-color: #0087ff\">MaxPooling2D</span>)      │ (<span style=\"color: #00d7ff; text-decoration-color: #00d7ff\">None</span>, <span style=\"color: #00af00; text-decoration-color: #00af00\">16</span>, <span style=\"color: #00af00; text-decoration-color: #00af00\">16</span>, <span style=\"color: #00af00; text-decoration-color: #00af00\">64</span>)     │             <span style=\"color: #00af00; text-decoration-color: #00af00\">0</span> │\n",
       "├─────────────────────────────────┼────────────────────────┼───────────────┤\n",
       "│ block2_conv1 (<span style=\"color: #0087ff; text-decoration-color: #0087ff\">Conv2D</span>)           │ (<span style=\"color: #00d7ff; text-decoration-color: #00d7ff\">None</span>, <span style=\"color: #00af00; text-decoration-color: #00af00\">16</span>, <span style=\"color: #00af00; text-decoration-color: #00af00\">16</span>, <span style=\"color: #00af00; text-decoration-color: #00af00\">128</span>)    │        <span style=\"color: #00af00; text-decoration-color: #00af00\">73,856</span> │\n",
       "├─────────────────────────────────┼────────────────────────┼───────────────┤\n",
       "│ block2_conv2 (<span style=\"color: #0087ff; text-decoration-color: #0087ff\">Conv2D</span>)           │ (<span style=\"color: #00d7ff; text-decoration-color: #00d7ff\">None</span>, <span style=\"color: #00af00; text-decoration-color: #00af00\">16</span>, <span style=\"color: #00af00; text-decoration-color: #00af00\">16</span>, <span style=\"color: #00af00; text-decoration-color: #00af00\">128</span>)    │       <span style=\"color: #00af00; text-decoration-color: #00af00\">147,584</span> │\n",
       "├─────────────────────────────────┼────────────────────────┼───────────────┤\n",
       "│ block2_pool (<span style=\"color: #0087ff; text-decoration-color: #0087ff\">MaxPooling2D</span>)      │ (<span style=\"color: #00d7ff; text-decoration-color: #00d7ff\">None</span>, <span style=\"color: #00af00; text-decoration-color: #00af00\">8</span>, <span style=\"color: #00af00; text-decoration-color: #00af00\">8</span>, <span style=\"color: #00af00; text-decoration-color: #00af00\">128</span>)      │             <span style=\"color: #00af00; text-decoration-color: #00af00\">0</span> │\n",
       "├─────────────────────────────────┼────────────────────────┼───────────────┤\n",
       "│ block3_conv1 (<span style=\"color: #0087ff; text-decoration-color: #0087ff\">Conv2D</span>)           │ (<span style=\"color: #00d7ff; text-decoration-color: #00d7ff\">None</span>, <span style=\"color: #00af00; text-decoration-color: #00af00\">8</span>, <span style=\"color: #00af00; text-decoration-color: #00af00\">8</span>, <span style=\"color: #00af00; text-decoration-color: #00af00\">256</span>)      │       <span style=\"color: #00af00; text-decoration-color: #00af00\">295,168</span> │\n",
       "├─────────────────────────────────┼────────────────────────┼───────────────┤\n",
       "│ block3_conv2 (<span style=\"color: #0087ff; text-decoration-color: #0087ff\">Conv2D</span>)           │ (<span style=\"color: #00d7ff; text-decoration-color: #00d7ff\">None</span>, <span style=\"color: #00af00; text-decoration-color: #00af00\">8</span>, <span style=\"color: #00af00; text-decoration-color: #00af00\">8</span>, <span style=\"color: #00af00; text-decoration-color: #00af00\">256</span>)      │       <span style=\"color: #00af00; text-decoration-color: #00af00\">590,080</span> │\n",
       "├─────────────────────────────────┼────────────────────────┼───────────────┤\n",
       "│ block3_conv3 (<span style=\"color: #0087ff; text-decoration-color: #0087ff\">Conv2D</span>)           │ (<span style=\"color: #00d7ff; text-decoration-color: #00d7ff\">None</span>, <span style=\"color: #00af00; text-decoration-color: #00af00\">8</span>, <span style=\"color: #00af00; text-decoration-color: #00af00\">8</span>, <span style=\"color: #00af00; text-decoration-color: #00af00\">256</span>)      │       <span style=\"color: #00af00; text-decoration-color: #00af00\">590,080</span> │\n",
       "├─────────────────────────────────┼────────────────────────┼───────────────┤\n",
       "│ block3_pool (<span style=\"color: #0087ff; text-decoration-color: #0087ff\">MaxPooling2D</span>)      │ (<span style=\"color: #00d7ff; text-decoration-color: #00d7ff\">None</span>, <span style=\"color: #00af00; text-decoration-color: #00af00\">4</span>, <span style=\"color: #00af00; text-decoration-color: #00af00\">4</span>, <span style=\"color: #00af00; text-decoration-color: #00af00\">256</span>)      │             <span style=\"color: #00af00; text-decoration-color: #00af00\">0</span> │\n",
       "├─────────────────────────────────┼────────────────────────┼───────────────┤\n",
       "│ block4_conv1 (<span style=\"color: #0087ff; text-decoration-color: #0087ff\">Conv2D</span>)           │ (<span style=\"color: #00d7ff; text-decoration-color: #00d7ff\">None</span>, <span style=\"color: #00af00; text-decoration-color: #00af00\">4</span>, <span style=\"color: #00af00; text-decoration-color: #00af00\">4</span>, <span style=\"color: #00af00; text-decoration-color: #00af00\">512</span>)      │     <span style=\"color: #00af00; text-decoration-color: #00af00\">1,180,160</span> │\n",
       "├─────────────────────────────────┼────────────────────────┼───────────────┤\n",
       "│ block4_conv2 (<span style=\"color: #0087ff; text-decoration-color: #0087ff\">Conv2D</span>)           │ (<span style=\"color: #00d7ff; text-decoration-color: #00d7ff\">None</span>, <span style=\"color: #00af00; text-decoration-color: #00af00\">4</span>, <span style=\"color: #00af00; text-decoration-color: #00af00\">4</span>, <span style=\"color: #00af00; text-decoration-color: #00af00\">512</span>)      │     <span style=\"color: #00af00; text-decoration-color: #00af00\">2,359,808</span> │\n",
       "├─────────────────────────────────┼────────────────────────┼───────────────┤\n",
       "│ block4_conv3 (<span style=\"color: #0087ff; text-decoration-color: #0087ff\">Conv2D</span>)           │ (<span style=\"color: #00d7ff; text-decoration-color: #00d7ff\">None</span>, <span style=\"color: #00af00; text-decoration-color: #00af00\">4</span>, <span style=\"color: #00af00; text-decoration-color: #00af00\">4</span>, <span style=\"color: #00af00; text-decoration-color: #00af00\">512</span>)      │     <span style=\"color: #00af00; text-decoration-color: #00af00\">2,359,808</span> │\n",
       "├─────────────────────────────────┼────────────────────────┼───────────────┤\n",
       "│ block4_pool (<span style=\"color: #0087ff; text-decoration-color: #0087ff\">MaxPooling2D</span>)      │ (<span style=\"color: #00d7ff; text-decoration-color: #00d7ff\">None</span>, <span style=\"color: #00af00; text-decoration-color: #00af00\">2</span>, <span style=\"color: #00af00; text-decoration-color: #00af00\">2</span>, <span style=\"color: #00af00; text-decoration-color: #00af00\">512</span>)      │             <span style=\"color: #00af00; text-decoration-color: #00af00\">0</span> │\n",
       "├─────────────────────────────────┼────────────────────────┼───────────────┤\n",
       "│ block5_conv1 (<span style=\"color: #0087ff; text-decoration-color: #0087ff\">Conv2D</span>)           │ (<span style=\"color: #00d7ff; text-decoration-color: #00d7ff\">None</span>, <span style=\"color: #00af00; text-decoration-color: #00af00\">2</span>, <span style=\"color: #00af00; text-decoration-color: #00af00\">2</span>, <span style=\"color: #00af00; text-decoration-color: #00af00\">512</span>)      │     <span style=\"color: #00af00; text-decoration-color: #00af00\">2,359,808</span> │\n",
       "├─────────────────────────────────┼────────────────────────┼───────────────┤\n",
       "│ block5_conv2 (<span style=\"color: #0087ff; text-decoration-color: #0087ff\">Conv2D</span>)           │ (<span style=\"color: #00d7ff; text-decoration-color: #00d7ff\">None</span>, <span style=\"color: #00af00; text-decoration-color: #00af00\">2</span>, <span style=\"color: #00af00; text-decoration-color: #00af00\">2</span>, <span style=\"color: #00af00; text-decoration-color: #00af00\">512</span>)      │     <span style=\"color: #00af00; text-decoration-color: #00af00\">2,359,808</span> │\n",
       "├─────────────────────────────────┼────────────────────────┼───────────────┤\n",
       "│ block5_conv3 (<span style=\"color: #0087ff; text-decoration-color: #0087ff\">Conv2D</span>)           │ (<span style=\"color: #00d7ff; text-decoration-color: #00d7ff\">None</span>, <span style=\"color: #00af00; text-decoration-color: #00af00\">2</span>, <span style=\"color: #00af00; text-decoration-color: #00af00\">2</span>, <span style=\"color: #00af00; text-decoration-color: #00af00\">512</span>)      │     <span style=\"color: #00af00; text-decoration-color: #00af00\">2,359,808</span> │\n",
       "├─────────────────────────────────┼────────────────────────┼───────────────┤\n",
       "│ block5_pool (<span style=\"color: #0087ff; text-decoration-color: #0087ff\">MaxPooling2D</span>)      │ (<span style=\"color: #00d7ff; text-decoration-color: #00d7ff\">None</span>, <span style=\"color: #00af00; text-decoration-color: #00af00\">1</span>, <span style=\"color: #00af00; text-decoration-color: #00af00\">1</span>, <span style=\"color: #00af00; text-decoration-color: #00af00\">512</span>)      │             <span style=\"color: #00af00; text-decoration-color: #00af00\">0</span> │\n",
       "├─────────────────────────────────┼────────────────────────┼───────────────┤\n",
       "│ flatten (<span style=\"color: #0087ff; text-decoration-color: #0087ff\">Flatten</span>)               │ (<span style=\"color: #00d7ff; text-decoration-color: #00d7ff\">None</span>, <span style=\"color: #00af00; text-decoration-color: #00af00\">512</span>)            │             <span style=\"color: #00af00; text-decoration-color: #00af00\">0</span> │\n",
       "├─────────────────────────────────┼────────────────────────┼───────────────┤\n",
       "│ dense_4 (<span style=\"color: #0087ff; text-decoration-color: #0087ff\">Dense</span>)                 │ (<span style=\"color: #00d7ff; text-decoration-color: #00d7ff\">None</span>, <span style=\"color: #00af00; text-decoration-color: #00af00\">256</span>)            │       <span style=\"color: #00af00; text-decoration-color: #00af00\">131,328</span> │\n",
       "├─────────────────────────────────┼────────────────────────┼───────────────┤\n",
       "│ dense_5 (<span style=\"color: #0087ff; text-decoration-color: #0087ff\">Dense</span>)                 │ (<span style=\"color: #00d7ff; text-decoration-color: #00d7ff\">None</span>, <span style=\"color: #00af00; text-decoration-color: #00af00\">128</span>)            │        <span style=\"color: #00af00; text-decoration-color: #00af00\">32,896</span> │\n",
       "├─────────────────────────────────┼────────────────────────┼───────────────┤\n",
       "│ dense_6 (<span style=\"color: #0087ff; text-decoration-color: #0087ff\">Dense</span>)                 │ (<span style=\"color: #00d7ff; text-decoration-color: #00d7ff\">None</span>, <span style=\"color: #00af00; text-decoration-color: #00af00\">1</span>)              │           <span style=\"color: #00af00; text-decoration-color: #00af00\">129</span> │\n",
       "└─────────────────────────────────┴────────────────────────┴───────────────┘\n",
       "</pre>\n"
      ],
      "text/plain": [
       "┏━━━━━━━━━━━━━━━━━━━━━━━━━━━━━━━━━┳━━━━━━━━━━━━━━━━━━━━━━━━┳━━━━━━━━━━━━━━━┓\n",
       "┃\u001b[1m \u001b[0m\u001b[1mLayer (type)                   \u001b[0m\u001b[1m \u001b[0m┃\u001b[1m \u001b[0m\u001b[1mOutput Shape          \u001b[0m\u001b[1m \u001b[0m┃\u001b[1m \u001b[0m\u001b[1m      Param #\u001b[0m\u001b[1m \u001b[0m┃\n",
       "┡━━━━━━━━━━━━━━━━━━━━━━━━━━━━━━━━━╇━━━━━━━━━━━━━━━━━━━━━━━━╇━━━━━━━━━━━━━━━┩\n",
       "│ input_layer_2 (\u001b[38;5;33mInputLayer\u001b[0m)      │ (\u001b[38;5;45mNone\u001b[0m, \u001b[38;5;34m32\u001b[0m, \u001b[38;5;34m32\u001b[0m, \u001b[38;5;34m3\u001b[0m)      │             \u001b[38;5;34m0\u001b[0m │\n",
       "├─────────────────────────────────┼────────────────────────┼───────────────┤\n",
       "│ block1_conv1 (\u001b[38;5;33mConv2D\u001b[0m)           │ (\u001b[38;5;45mNone\u001b[0m, \u001b[38;5;34m32\u001b[0m, \u001b[38;5;34m32\u001b[0m, \u001b[38;5;34m64\u001b[0m)     │         \u001b[38;5;34m1,792\u001b[0m │\n",
       "├─────────────────────────────────┼────────────────────────┼───────────────┤\n",
       "│ block1_conv2 (\u001b[38;5;33mConv2D\u001b[0m)           │ (\u001b[38;5;45mNone\u001b[0m, \u001b[38;5;34m32\u001b[0m, \u001b[38;5;34m32\u001b[0m, \u001b[38;5;34m64\u001b[0m)     │        \u001b[38;5;34m36,928\u001b[0m │\n",
       "├─────────────────────────────────┼────────────────────────┼───────────────┤\n",
       "│ block1_pool (\u001b[38;5;33mMaxPooling2D\u001b[0m)      │ (\u001b[38;5;45mNone\u001b[0m, \u001b[38;5;34m16\u001b[0m, \u001b[38;5;34m16\u001b[0m, \u001b[38;5;34m64\u001b[0m)     │             \u001b[38;5;34m0\u001b[0m │\n",
       "├─────────────────────────────────┼────────────────────────┼───────────────┤\n",
       "│ block2_conv1 (\u001b[38;5;33mConv2D\u001b[0m)           │ (\u001b[38;5;45mNone\u001b[0m, \u001b[38;5;34m16\u001b[0m, \u001b[38;5;34m16\u001b[0m, \u001b[38;5;34m128\u001b[0m)    │        \u001b[38;5;34m73,856\u001b[0m │\n",
       "├─────────────────────────────────┼────────────────────────┼───────────────┤\n",
       "│ block2_conv2 (\u001b[38;5;33mConv2D\u001b[0m)           │ (\u001b[38;5;45mNone\u001b[0m, \u001b[38;5;34m16\u001b[0m, \u001b[38;5;34m16\u001b[0m, \u001b[38;5;34m128\u001b[0m)    │       \u001b[38;5;34m147,584\u001b[0m │\n",
       "├─────────────────────────────────┼────────────────────────┼───────────────┤\n",
       "│ block2_pool (\u001b[38;5;33mMaxPooling2D\u001b[0m)      │ (\u001b[38;5;45mNone\u001b[0m, \u001b[38;5;34m8\u001b[0m, \u001b[38;5;34m8\u001b[0m, \u001b[38;5;34m128\u001b[0m)      │             \u001b[38;5;34m0\u001b[0m │\n",
       "├─────────────────────────────────┼────────────────────────┼───────────────┤\n",
       "│ block3_conv1 (\u001b[38;5;33mConv2D\u001b[0m)           │ (\u001b[38;5;45mNone\u001b[0m, \u001b[38;5;34m8\u001b[0m, \u001b[38;5;34m8\u001b[0m, \u001b[38;5;34m256\u001b[0m)      │       \u001b[38;5;34m295,168\u001b[0m │\n",
       "├─────────────────────────────────┼────────────────────────┼───────────────┤\n",
       "│ block3_conv2 (\u001b[38;5;33mConv2D\u001b[0m)           │ (\u001b[38;5;45mNone\u001b[0m, \u001b[38;5;34m8\u001b[0m, \u001b[38;5;34m8\u001b[0m, \u001b[38;5;34m256\u001b[0m)      │       \u001b[38;5;34m590,080\u001b[0m │\n",
       "├─────────────────────────────────┼────────────────────────┼───────────────┤\n",
       "│ block3_conv3 (\u001b[38;5;33mConv2D\u001b[0m)           │ (\u001b[38;5;45mNone\u001b[0m, \u001b[38;5;34m8\u001b[0m, \u001b[38;5;34m8\u001b[0m, \u001b[38;5;34m256\u001b[0m)      │       \u001b[38;5;34m590,080\u001b[0m │\n",
       "├─────────────────────────────────┼────────────────────────┼───────────────┤\n",
       "│ block3_pool (\u001b[38;5;33mMaxPooling2D\u001b[0m)      │ (\u001b[38;5;45mNone\u001b[0m, \u001b[38;5;34m4\u001b[0m, \u001b[38;5;34m4\u001b[0m, \u001b[38;5;34m256\u001b[0m)      │             \u001b[38;5;34m0\u001b[0m │\n",
       "├─────────────────────────────────┼────────────────────────┼───────────────┤\n",
       "│ block4_conv1 (\u001b[38;5;33mConv2D\u001b[0m)           │ (\u001b[38;5;45mNone\u001b[0m, \u001b[38;5;34m4\u001b[0m, \u001b[38;5;34m4\u001b[0m, \u001b[38;5;34m512\u001b[0m)      │     \u001b[38;5;34m1,180,160\u001b[0m │\n",
       "├─────────────────────────────────┼────────────────────────┼───────────────┤\n",
       "│ block4_conv2 (\u001b[38;5;33mConv2D\u001b[0m)           │ (\u001b[38;5;45mNone\u001b[0m, \u001b[38;5;34m4\u001b[0m, \u001b[38;5;34m4\u001b[0m, \u001b[38;5;34m512\u001b[0m)      │     \u001b[38;5;34m2,359,808\u001b[0m │\n",
       "├─────────────────────────────────┼────────────────────────┼───────────────┤\n",
       "│ block4_conv3 (\u001b[38;5;33mConv2D\u001b[0m)           │ (\u001b[38;5;45mNone\u001b[0m, \u001b[38;5;34m4\u001b[0m, \u001b[38;5;34m4\u001b[0m, \u001b[38;5;34m512\u001b[0m)      │     \u001b[38;5;34m2,359,808\u001b[0m │\n",
       "├─────────────────────────────────┼────────────────────────┼───────────────┤\n",
       "│ block4_pool (\u001b[38;5;33mMaxPooling2D\u001b[0m)      │ (\u001b[38;5;45mNone\u001b[0m, \u001b[38;5;34m2\u001b[0m, \u001b[38;5;34m2\u001b[0m, \u001b[38;5;34m512\u001b[0m)      │             \u001b[38;5;34m0\u001b[0m │\n",
       "├─────────────────────────────────┼────────────────────────┼───────────────┤\n",
       "│ block5_conv1 (\u001b[38;5;33mConv2D\u001b[0m)           │ (\u001b[38;5;45mNone\u001b[0m, \u001b[38;5;34m2\u001b[0m, \u001b[38;5;34m2\u001b[0m, \u001b[38;5;34m512\u001b[0m)      │     \u001b[38;5;34m2,359,808\u001b[0m │\n",
       "├─────────────────────────────────┼────────────────────────┼───────────────┤\n",
       "│ block5_conv2 (\u001b[38;5;33mConv2D\u001b[0m)           │ (\u001b[38;5;45mNone\u001b[0m, \u001b[38;5;34m2\u001b[0m, \u001b[38;5;34m2\u001b[0m, \u001b[38;5;34m512\u001b[0m)      │     \u001b[38;5;34m2,359,808\u001b[0m │\n",
       "├─────────────────────────────────┼────────────────────────┼───────────────┤\n",
       "│ block5_conv3 (\u001b[38;5;33mConv2D\u001b[0m)           │ (\u001b[38;5;45mNone\u001b[0m, \u001b[38;5;34m2\u001b[0m, \u001b[38;5;34m2\u001b[0m, \u001b[38;5;34m512\u001b[0m)      │     \u001b[38;5;34m2,359,808\u001b[0m │\n",
       "├─────────────────────────────────┼────────────────────────┼───────────────┤\n",
       "│ block5_pool (\u001b[38;5;33mMaxPooling2D\u001b[0m)      │ (\u001b[38;5;45mNone\u001b[0m, \u001b[38;5;34m1\u001b[0m, \u001b[38;5;34m1\u001b[0m, \u001b[38;5;34m512\u001b[0m)      │             \u001b[38;5;34m0\u001b[0m │\n",
       "├─────────────────────────────────┼────────────────────────┼───────────────┤\n",
       "│ flatten (\u001b[38;5;33mFlatten\u001b[0m)               │ (\u001b[38;5;45mNone\u001b[0m, \u001b[38;5;34m512\u001b[0m)            │             \u001b[38;5;34m0\u001b[0m │\n",
       "├─────────────────────────────────┼────────────────────────┼───────────────┤\n",
       "│ dense_4 (\u001b[38;5;33mDense\u001b[0m)                 │ (\u001b[38;5;45mNone\u001b[0m, \u001b[38;5;34m256\u001b[0m)            │       \u001b[38;5;34m131,328\u001b[0m │\n",
       "├─────────────────────────────────┼────────────────────────┼───────────────┤\n",
       "│ dense_5 (\u001b[38;5;33mDense\u001b[0m)                 │ (\u001b[38;5;45mNone\u001b[0m, \u001b[38;5;34m128\u001b[0m)            │        \u001b[38;5;34m32,896\u001b[0m │\n",
       "├─────────────────────────────────┼────────────────────────┼───────────────┤\n",
       "│ dense_6 (\u001b[38;5;33mDense\u001b[0m)                 │ (\u001b[38;5;45mNone\u001b[0m, \u001b[38;5;34m1\u001b[0m)              │           \u001b[38;5;34m129\u001b[0m │\n",
       "└─────────────────────────────────┴────────────────────────┴───────────────┘\n"
      ]
     },
     "metadata": {},
     "output_type": "display_data"
    },
    {
     "data": {
      "text/html": [
       "<pre style=\"white-space:pre;overflow-x:auto;line-height:normal;font-family:Menlo,'DejaVu Sans Mono',consolas,'Courier New',monospace\"><span style=\"font-weight: bold\"> Total params: </span><span style=\"color: #00af00; text-decoration-color: #00af00\">14,879,043</span> (56.76 MB)\n",
       "</pre>\n"
      ],
      "text/plain": [
       "\u001b[1m Total params: \u001b[0m\u001b[38;5;34m14,879,043\u001b[0m (56.76 MB)\n"
      ]
     },
     "metadata": {},
     "output_type": "display_data"
    },
    {
     "data": {
      "text/html": [
       "<pre style=\"white-space:pre;overflow-x:auto;line-height:normal;font-family:Menlo,'DejaVu Sans Mono',consolas,'Courier New',monospace\"><span style=\"font-weight: bold\"> Trainable params: </span><span style=\"color: #00af00; text-decoration-color: #00af00\">14,879,041</span> (56.76 MB)\n",
       "</pre>\n"
      ],
      "text/plain": [
       "\u001b[1m Trainable params: \u001b[0m\u001b[38;5;34m14,879,041\u001b[0m (56.76 MB)\n"
      ]
     },
     "metadata": {},
     "output_type": "display_data"
    },
    {
     "data": {
      "text/html": [
       "<pre style=\"white-space:pre;overflow-x:auto;line-height:normal;font-family:Menlo,'DejaVu Sans Mono',consolas,'Courier New',monospace\"><span style=\"font-weight: bold\"> Non-trainable params: </span><span style=\"color: #00af00; text-decoration-color: #00af00\">0</span> (0.00 B)\n",
       "</pre>\n"
      ],
      "text/plain": [
       "\u001b[1m Non-trainable params: \u001b[0m\u001b[38;5;34m0\u001b[0m (0.00 B)\n"
      ]
     },
     "metadata": {},
     "output_type": "display_data"
    },
    {
     "data": {
      "text/html": [
       "<pre style=\"white-space:pre;overflow-x:auto;line-height:normal;font-family:Menlo,'DejaVu Sans Mono',consolas,'Courier New',monospace\"><span style=\"font-weight: bold\"> Optimizer params: </span><span style=\"color: #00af00; text-decoration-color: #00af00\">2</span> (12.00 B)\n",
       "</pre>\n"
      ],
      "text/plain": [
       "\u001b[1m Optimizer params: \u001b[0m\u001b[38;5;34m2\u001b[0m (12.00 B)\n"
      ]
     },
     "metadata": {},
     "output_type": "display_data"
    }
   ],
   "source": [
    "# define dependency \n",
    "from tensorflow.keras.models import load_model\n",
    "\n",
    "# load model \n",
    "model = load_model('model_vgg16.h5')\n",
    "\n",
    "# check model info \n",
    "model.summary()"
   ]
  },
  {
   "cell_type": "code",
   "execution_count": null,
   "id": "bf211d33",
   "metadata": {
    "papermill": {
     "duration": 4.174668,
     "end_time": "2024-05-31T17:25:11.156716",
     "exception": false,
     "start_time": "2024-05-31T17:25:06.982048",
     "status": "completed"
    },
    "tags": []
   },
   "outputs": [],
   "source": []
  },
  {
   "cell_type": "markdown",
   "id": "82205c0d",
   "metadata": {
    "papermill": {
     "duration": 4.324201,
     "end_time": "2024-05-31T17:25:19.638242",
     "exception": false,
     "start_time": "2024-05-31T17:25:15.314041",
     "status": "completed"
    },
    "tags": []
   },
   "source": [
    "### Test data diluar dataset"
   ]
  },
  {
   "cell_type": "code",
   "execution_count": 37,
   "id": "1e269f59",
   "metadata": {
    "execution": {
     "iopub.execute_input": "2024-05-31T17:25:27.986974Z",
     "iopub.status.busy": "2024-05-31T17:25:27.985891Z",
     "iopub.status.idle": "2024-05-31T17:25:28.213616Z",
     "shell.execute_reply": "2024-05-31T17:25:28.212675Z"
    },
    "papermill": {
     "duration": 4.402519,
     "end_time": "2024-05-31T17:25:28.216019",
     "exception": false,
     "start_time": "2024-05-31T17:25:23.813500",
     "status": "completed"
    },
    "tags": []
   },
   "outputs": [
    {
     "data": {
      "image/png": "[encoded data removed]",
      "text/plain": [
       "<Figure size 1000x500 with 2 Axes>"
      ]
     },
     "metadata": {},
     "output_type": "display_data"
    }
   ],
   "source": [
    "from PIL import Image\n",
    "import matplotlib.pyplot as plt\n",
    "\n",
    "# Open the original image\n",
    "im = Image.open(\"/kaggle/input/cifake-real-and-ai-generated-synthetic-images/train/FAKE/1000 (2).jpg\")\n",
    "\n",
    "# Define the new size\n",
    "new_size = (256, 256)\n",
    "\n",
    "# Resize the image\n",
    "im_resized = im.resize(new_size)\n",
    "\n",
    "# Plot the original and resized images\n",
    "plt.figure(figsize=(10, 5))\n",
    "\n",
    "# Plot the original image\n",
    "plt.subplot(1, 2, 1)\n",
    "plt.imshow(im)\n",
    "plt.title('Original Image')\n",
    "plt.axis('off')\n",
    "\n",
    "# Plot the resized image\n",
    "plt.subplot(1, 2, 2)\n",
    "plt.imshow(im_resized)\n",
    "plt.title('Resized Image (256x256)')\n",
    "plt.axis('off')\n",
    "\n",
    "plt.show()"
   ]
  },
  {
   "cell_type": "code",
   "execution_count": 38,
   "id": "0a214cc8",
   "metadata": {
    "execution": {
     "iopub.execute_input": "2024-05-31T17:25:36.679083Z",
     "iopub.status.busy": "2024-05-31T17:25:36.678702Z",
     "iopub.status.idle": "2024-05-31T17:25:36.682931Z",
     "shell.execute_reply": "2024-05-31T17:25:36.682050Z"
    },
    "papermill": {
     "duration": 4.257556,
     "end_time": "2024-05-31T17:25:36.684920",
     "exception": false,
     "start_time": "2024-05-31T17:25:32.427364",
     "status": "completed"
    },
    "tags": []
   },
   "outputs": [],
   "source": [
    "# test_dir = \"/kaggle/input/data-testing/data luar\"\n",
    "test_dir = \"/kaggle/input/data-testing/data_luar_v2/data_luar_v2\""
   ]
  },
  {
   "cell_type": "code",
   "execution_count": 39,
   "id": "a9c505e9",
   "metadata": {
    "execution": {
     "iopub.execute_input": "2024-05-31T17:25:45.161848Z",
     "iopub.status.busy": "2024-05-31T17:25:45.161488Z",
     "iopub.status.idle": "2024-05-31T17:25:45.173768Z",
     "shell.execute_reply": "2024-05-31T17:25:45.172999Z"
    },
    "papermill": {
     "duration": 4.255913,
     "end_time": "2024-05-31T17:25:45.175699",
     "exception": false,
     "start_time": "2024-05-31T17:25:40.919786",
     "status": "completed"
    },
    "tags": []
   },
   "outputs": [
    {
     "name": "stdout",
     "output_type": "stream",
     "text": [
      "Found 20 images belonging to 2 classes.\n"
     ]
    }
   ],
   "source": [
    "test_datagen = ImageDataGenerator(rescale=1./255)\n",
    "test_generator = test_datagen.flow_from_directory(test_dir, target_size=(32,32),\n",
    "                                                  class_mode='binary', shuffle=False)"
   ]
  },
  {
   "cell_type": "code",
   "execution_count": 40,
   "id": "70495d47",
   "metadata": {
    "execution": {
     "iopub.execute_input": "2024-05-31T17:25:53.623176Z",
     "iopub.status.busy": "2024-05-31T17:25:53.622842Z",
     "iopub.status.idle": "2024-05-31T17:25:54.055821Z",
     "shell.execute_reply": "2024-05-31T17:25:54.054965Z"
    },
    "papermill": {
     "duration": 4.602045,
     "end_time": "2024-05-31T17:25:54.058213",
     "exception": false,
     "start_time": "2024-05-31T17:25:49.456168",
     "status": "completed"
    },
    "tags": []
   },
   "outputs": [],
   "source": [
    "model1 = load_model('/kaggle/working/model_skenario1.h5')\n",
    "model2 = load_model('/kaggle/working/model_skenario2.h5')\n",
    "modelVGG16 = load_model('/kaggle/working/model_vgg16.h5')"
   ]
  },
  {
   "cell_type": "markdown",
   "id": "dcd6af3d",
   "metadata": {
    "papermill": {
     "duration": 4.157879,
     "end_time": "2024-05-31T17:26:02.503582",
     "exception": false,
     "start_time": "2024-05-31T17:25:58.345703",
     "status": "completed"
    },
    "tags": []
   },
   "source": [
    "#### akurasi model"
   ]
  },
  {
   "cell_type": "code",
   "execution_count": 41,
   "id": "3f84765e",
   "metadata": {
    "execution": {
     "iopub.execute_input": "2024-05-31T17:26:10.978617Z",
     "iopub.status.busy": "2024-05-31T17:26:10.977616Z",
     "iopub.status.idle": "2024-05-31T17:26:12.683783Z",
     "shell.execute_reply": "2024-05-31T17:26:12.682607Z"
    },
    "papermill": {
     "duration": 5.915487,
     "end_time": "2024-05-31T17:26:12.686071",
     "exception": false,
     "start_time": "2024-05-31T17:26:06.770584",
     "status": "completed"
    },
    "tags": []
   },
   "outputs": [
    {
     "name": "stderr",
     "output_type": "stream",
     "text": [
      "/opt/conda/lib/python3.10/site-packages/keras/src/trainers/data_adapters/py_dataset_adapter.py:121: UserWarning: Your `PyDataset` class should call `super().__init__(**kwargs)` in its constructor. `**kwargs` can include `workers`, `use_multiprocessing`, `max_queue_size`. Do not pass these arguments to `fit()`, as they will be ignored.\n",
      "  self._warn_if_super_not_called()\n"
     ]
    },
    {
     "name": "stdout",
     "output_type": "stream",
     "text": [
      "\u001b[1m1/1\u001b[0m \u001b[32m━━━━━━━━━━━━━━━━━━━━\u001b[0m\u001b[37m\u001b[0m \u001b[1m2s\u001b[0m 2s/step - accuracy: 0.6500 - loss: 0.7827 - precision: 0.6154 - recall: 0.8000\n",
      "Baseline error: 0.35\n",
      "Accuracy = 0.65\n"
     ]
    },
    {
     "name": "stderr",
     "output_type": "stream",
     "text": [
      "W0000 00:00:1717176372.665732      89 graph_launch.cc:671] Fallback to op-by-op mode because memset node breaks graph update\n"
     ]
    }
   ],
   "source": [
    "# model 1\n",
    "scores = model1.evaluate(test_generator)\n",
    "\n",
    "print('Baseline error: %.2f' % (1-scores[1]))\n",
    "print(\"Accuracy = %.2f\" %scores[1])"
   ]
  },
  {
   "cell_type": "code",
   "execution_count": 42,
   "id": "b88c4953",
   "metadata": {
    "execution": {
     "iopub.execute_input": "2024-05-31T17:26:21.192036Z",
     "iopub.status.busy": "2024-05-31T17:26:21.191105Z",
     "iopub.status.idle": "2024-05-31T17:26:22.932401Z",
     "shell.execute_reply": "2024-05-31T17:26:22.931201Z"
    },
    "papermill": {
     "duration": 6.083614,
     "end_time": "2024-05-31T17:26:22.934695",
     "exception": false,
     "start_time": "2024-05-31T17:26:16.851081",
     "status": "completed"
    },
    "tags": []
   },
   "outputs": [
    {
     "name": "stdout",
     "output_type": "stream",
     "text": [
      "\u001b[1m1/1\u001b[0m \u001b[32m━━━━━━━━━━━━━━━━━━━━\u001b[0m\u001b[37m\u001b[0m \u001b[1m2s\u001b[0m 2s/step - accuracy: 0.7000 - loss: 0.8604 - precision_1: 0.6667 - recall_1: 0.8000\n",
      "Baseline error: 0.30\n",
      "Accuracy = 0.70\n"
     ]
    },
    {
     "name": "stderr",
     "output_type": "stream",
     "text": [
      "W0000 00:00:1717176382.915802      88 graph_launch.cc:671] Fallback to op-by-op mode because memset node breaks graph update\n"
     ]
    }
   ],
   "source": [
    "# model 2\n",
    "scores = model2.evaluate(test_generator)\n",
    "\n",
    "print('Baseline error: %.2f' % (1-scores[1]))\n",
    "print(\"Accuracy = %.2f\" %scores[1])"
   ]
  },
  {
   "cell_type": "code",
   "execution_count": 43,
   "id": "ecda5626",
   "metadata": {
    "execution": {
     "iopub.execute_input": "2024-05-31T17:26:31.387618Z",
     "iopub.status.busy": "2024-05-31T17:26:31.386712Z",
     "iopub.status.idle": "2024-05-31T17:26:34.697459Z",
     "shell.execute_reply": "2024-05-31T17:26:34.696355Z"
    },
    "papermill": {
     "duration": 7.593388,
     "end_time": "2024-05-31T17:26:34.699582",
     "exception": false,
     "start_time": "2024-05-31T17:26:27.106194",
     "status": "completed"
    },
    "tags": []
   },
   "outputs": [
    {
     "name": "stdout",
     "output_type": "stream",
     "text": [
      "\u001b[1m1/1\u001b[0m \u001b[32m━━━━━━━━━━━━━━━━━━━━\u001b[0m\u001b[37m\u001b[0m \u001b[1m3s\u001b[0m 3s/step - accuracy: 0.5000 - loss: 0.6936 - precision_2: 0.5000 - recall_2: 1.0000\n",
      "Baseline error: 0.50\n",
      "Accuracy = 0.50\n"
     ]
    },
    {
     "name": "stderr",
     "output_type": "stream",
     "text": [
      "W0000 00:00:1717176394.681853      87 graph_launch.cc:671] Fallback to op-by-op mode because memset node breaks graph update\n"
     ]
    }
   ],
   "source": [
    "# model vgg16\n",
    "scores = modelVGG16.evaluate(test_generator)\n",
    "\n",
    "print('Baseline error: %.2f' % (1-scores[1]))\n",
    "print(\"Accuracy = %.2f\" %scores[1])"
   ]
  },
  {
   "cell_type": "code",
   "execution_count": 44,
   "id": "d421791d",
   "metadata": {
    "execution": {
     "iopub.execute_input": "2024-05-31T17:26:43.089924Z",
     "iopub.status.busy": "2024-05-31T17:26:43.089559Z",
     "iopub.status.idle": "2024-05-31T17:26:43.540652Z",
     "shell.execute_reply": "2024-05-31T17:26:43.539390Z"
    },
    "papermill": {
     "duration": 4.637786,
     "end_time": "2024-05-31T17:26:43.542809",
     "exception": false,
     "start_time": "2024-05-31T17:26:38.905023",
     "status": "completed"
    },
    "tags": []
   },
   "outputs": [
    {
     "name": "stdout",
     "output_type": "stream",
     "text": [
      "\u001b[1m1/1\u001b[0m \u001b[32m━━━━━━━━━━━━━━━━━━━━\u001b[0m\u001b[37m\u001b[0m \u001b[1m0s\u001b[0m 357ms/step\n",
      "\n",
      "Accuracy: 0.65\n",
      "\n",
      "Confusion Matrix:\n",
      "[[5 5]\n",
      " [2 8]]\n",
      "\n",
      "Classification Report:\n",
      "              precision    recall  f1-score   support\n",
      "\n",
      "        FAKE       0.71      0.50      0.59        10\n",
      "        REAL       0.62      0.80      0.70        10\n",
      "\n",
      "    accuracy                           0.65        20\n",
      "   macro avg       0.66      0.65      0.64        20\n",
      "weighted avg       0.66      0.65      0.64        20\n",
      "\n",
      "\n",
      "Mean Average Precision (mAP): 0.7821767040149392\n"
     ]
    }
   ],
   "source": [
    "# Make predictions on the test data\n",
    "predict_prob = model1.predict(test_generator)\n",
    "labels = [0 if pred < 0.5 else 1 for pred in predict_prob]\n",
    "\n",
    "# Calculate accuracy\n",
    "accuracy = np.sum(np.array(test_generator.labels) == np.array(labels)) / len(labels)\n",
    "\n",
    "# Print the accuracy\n",
    "print(\"\\nAccuracy:\", accuracy)\n",
    "\n",
    "cm = confusion_matrix(test_generator.labels, labels)\n",
    "print(\"\\nConfusion Matrix:\")\n",
    "print(cm)\n",
    "\n",
    "# Compute the classification report\n",
    "class_names = test_generator.class_indices.keys()\n",
    "classification_rep = classification_report(test_generator.labels, labels, target_names=class_names)\n",
    "print(\"\\nClassification Report:\")\n",
    "print(classification_rep)\n",
    "\n",
    "# Calculate the average precision (mAP)\n",
    "mAP = average_precision_score(test_generator.labels,  predict_prob)\n",
    "print(\"\\nMean Average Precision (mAP):\", mAP)"
   ]
  },
  {
   "cell_type": "code",
   "execution_count": 45,
   "id": "3b380f1e",
   "metadata": {
    "execution": {
     "iopub.execute_input": "2024-05-31T17:26:52.032246Z",
     "iopub.status.busy": "2024-05-31T17:26:52.031917Z",
     "iopub.status.idle": "2024-05-31T17:26:52.324089Z",
     "shell.execute_reply": "2024-05-31T17:26:52.323013Z"
    },
    "papermill": {
     "duration": 4.498848,
     "end_time": "2024-05-31T17:26:52.326296",
     "exception": false,
     "start_time": "2024-05-31T17:26:47.827448",
     "status": "completed"
    },
    "tags": []
   },
   "outputs": [
    {
     "data": {
      "image/png": "[encoded data removed]",
      "text/plain": [
       "<Figure size 800x600 with 2 Axes>"
      ]
     },
     "metadata": {},
     "output_type": "display_data"
    }
   ],
   "source": [
    "import seaborn as sns\n",
    "\n",
    "# Confusion matrix\n",
    "cm = confusion_matrix(test_generator.labels, labels)\n",
    "plt.figure(figsize=(8, 6))\n",
    "sns.heatmap(cm, annot=True, cmap='Blues', fmt='d', xticklabels=class_names, yticklabels=class_names)\n",
    "plt.xlabel('Predicted Labels')\n",
    "plt.ylabel('True Labels')\n",
    "plt.title('Confusion Matrix')\n",
    "plt.show()"
   ]
  },
  {
   "cell_type": "code",
   "execution_count": 46,
   "id": "25a23221",
   "metadata": {
    "execution": {
     "iopub.execute_input": "2024-05-31T17:27:00.756245Z",
     "iopub.status.busy": "2024-05-31T17:27:00.755409Z",
     "iopub.status.idle": "2024-05-31T17:27:01.200124Z",
     "shell.execute_reply": "2024-05-31T17:27:01.199019Z"
    },
    "papermill": {
     "duration": 4.612271,
     "end_time": "2024-05-31T17:27:01.202243",
     "exception": false,
     "start_time": "2024-05-31T17:26:56.589972",
     "status": "completed"
    },
    "tags": []
   },
   "outputs": [
    {
     "name": "stdout",
     "output_type": "stream",
     "text": [
      "\u001b[1m1/1\u001b[0m \u001b[32m━━━━━━━━━━━━━━━━━━━━\u001b[0m\u001b[37m\u001b[0m \u001b[1m0s\u001b[0m 370ms/step\n",
      "\n",
      "Accuracy: 0.7\n",
      "\n",
      "Confusion Matrix:\n",
      "[[6 4]\n",
      " [2 8]]\n",
      "\n",
      "Classification Report:\n",
      "              precision    recall  f1-score   support\n",
      "\n",
      "        FAKE       0.75      0.60      0.67        10\n",
      "        REAL       0.67      0.80      0.73        10\n",
      "\n",
      "    accuracy                           0.70        20\n",
      "   macro avg       0.71      0.70      0.70        20\n",
      "weighted avg       0.71      0.70      0.70        20\n",
      "\n",
      "\n",
      "Mean Average Precision (mAP): 0.8426619132501485\n"
     ]
    }
   ],
   "source": [
    "# Make predictions on the test data\n",
    "predict_prob = model2.predict(test_generator)\n",
    "labels = [0 if pred < 0.5 else 1 for pred in predict_prob]\n",
    "\n",
    "# Calculate accuracy\n",
    "accuracy = np.sum(np.array(test_generator.labels) == np.array(labels)) / len(labels)\n",
    "\n",
    "# Print the accuracy\n",
    "print(\"\\nAccuracy:\", accuracy)\n",
    "\n",
    "cm = confusion_matrix(test_generator.labels, labels)\n",
    "print(\"\\nConfusion Matrix:\")\n",
    "print(cm)\n",
    "\n",
    "# Compute the classification report\n",
    "class_names = test_generator.class_indices.keys()\n",
    "classification_rep = classification_report(test_generator.labels, labels, target_names=class_names)\n",
    "print(\"\\nClassification Report:\")\n",
    "print(classification_rep)\n",
    "\n",
    "# Calculate the average precision (mAP)\n",
    "mAP = average_precision_score(test_generator.labels,  predict_prob)\n",
    "print(\"\\nMean Average Precision (mAP):\", mAP)"
   ]
  },
  {
   "cell_type": "code",
   "execution_count": 47,
   "id": "9937f4bd",
   "metadata": {
    "execution": {
     "iopub.execute_input": "2024-05-31T17:27:09.671775Z",
     "iopub.status.busy": "2024-05-31T17:27:09.671415Z",
     "iopub.status.idle": "2024-05-31T17:27:09.955572Z",
     "shell.execute_reply": "2024-05-31T17:27:09.954706Z"
    },
    "papermill": {
     "duration": 4.566912,
     "end_time": "2024-05-31T17:27:09.957520",
     "exception": false,
     "start_time": "2024-05-31T17:27:05.390608",
     "status": "completed"
    },
    "tags": []
   },
   "outputs": [
    {
     "data": {
      "image/png": "[encoded data removed]",
      "text/plain": [
       "<Figure size 800x600 with 2 Axes>"
      ]
     },
     "metadata": {},
     "output_type": "display_data"
    }
   ],
   "source": [
    "import seaborn as sns\n",
    "\n",
    "# Confusion matrix\n",
    "cm = confusion_matrix(test_generator.labels, labels)\n",
    "plt.figure(figsize=(8, 6))\n",
    "sns.heatmap(cm, annot=True, cmap='Blues', fmt='d', xticklabels=class_names, yticklabels=class_names)\n",
    "plt.xlabel('Predicted Labels')\n",
    "plt.ylabel('True Labels')\n",
    "plt.title('Confusion Matrix')\n",
    "plt.show()"
   ]
  },
  {
   "cell_type": "code",
   "execution_count": 48,
   "id": "4ee2d930",
   "metadata": {
    "execution": {
     "iopub.execute_input": "2024-05-31T17:27:18.467748Z",
     "iopub.status.busy": "2024-05-31T17:27:18.466999Z",
     "iopub.status.idle": "2024-05-31T17:27:19.231151Z",
     "shell.execute_reply": "2024-05-31T17:27:19.230041Z"
    },
    "papermill": {
     "duration": 5.042229,
     "end_time": "2024-05-31T17:27:19.233216",
     "exception": false,
     "start_time": "2024-05-31T17:27:14.190987",
     "status": "completed"
    },
    "tags": []
   },
   "outputs": [
    {
     "name": "stdout",
     "output_type": "stream",
     "text": [
      "\u001b[1m1/1\u001b[0m \u001b[32m━━━━━━━━━━━━━━━━━━━━\u001b[0m\u001b[37m\u001b[0m \u001b[1m1s\u001b[0m 694ms/step\n",
      "\n",
      "Accuracy: 0.5\n",
      "\n",
      "Confusion Matrix:\n",
      "[[ 0 10]\n",
      " [ 0 10]]\n",
      "\n",
      "Classification Report:\n",
      "              precision    recall  f1-score   support\n",
      "\n",
      "        FAKE       0.00      0.00      0.00        10\n",
      "        REAL       0.50      1.00      0.67        10\n",
      "\n",
      "    accuracy                           0.50        20\n",
      "   macro avg       0.25      0.50      0.33        20\n",
      "weighted avg       0.25      0.50      0.33        20\n",
      "\n",
      "\n",
      "Mean Average Precision (mAP): 0.5\n"
     ]
    },
    {
     "name": "stderr",
     "output_type": "stream",
     "text": [
      "W0000 00:00:1717176439.212107      89 graph_launch.cc:671] Fallback to op-by-op mode because memset node breaks graph update\n",
      "/opt/conda/lib/python3.10/site-packages/sklearn/metrics/_classification.py:1344: UndefinedMetricWarning: Precision and F-score are ill-defined and being set to 0.0 in labels with no predicted samples. Use `zero_division` parameter to control this behavior.\n",
      "  _warn_prf(average, modifier, msg_start, len(result))\n",
      "/opt/conda/lib/python3.10/site-packages/sklearn/metrics/_classification.py:1344: UndefinedMetricWarning: Precision and F-score are ill-defined and being set to 0.0 in labels with no predicted samples. Use `zero_division` parameter to control this behavior.\n",
      "  _warn_prf(average, modifier, msg_start, len(result))\n",
      "/opt/conda/lib/python3.10/site-packages/sklearn/metrics/_classification.py:1344: UndefinedMetricWarning: Precision and F-score are ill-defined and being set to 0.0 in labels with no predicted samples. Use `zero_division` parameter to control this behavior.\n",
      "  _warn_prf(average, modifier, msg_start, len(result))\n"
     ]
    }
   ],
   "source": [
    "# Make predictions on the test data\n",
    "predict_prob = modelVGG16.predict(test_generator)\n",
    "labels = [0 if pred < 0.5 else 1 for pred in predict_prob]\n",
    "\n",
    "# Calculate accuracy\n",
    "accuracy = np.sum(np.array(test_generator.labels) == np.array(labels)) / len(labels)\n",
    "\n",
    "# Print the accuracy\n",
    "print(\"\\nAccuracy:\", accuracy)\n",
    "\n",
    "cm = confusion_matrix(test_generator.labels, labels)\n",
    "print(\"\\nConfusion Matrix:\")\n",
    "print(cm)\n",
    "\n",
    "# Compute the classification report\n",
    "class_names = test_generator.class_indices.keys()\n",
    "classification_rep = classification_report(test_generator.labels, labels, target_names=class_names)\n",
    "print(\"\\nClassification Report:\")\n",
    "print(classification_rep)\n",
    "\n",
    "# Calculate the average precision (mAP)\n",
    "mAP = average_precision_score(test_generator.labels,  predict_prob)\n",
    "print(\"\\nMean Average Precision (mAP):\", mAP)"
   ]
  },
  {
   "cell_type": "code",
   "execution_count": 49,
   "id": "7fb347ea",
   "metadata": {
    "execution": {
     "iopub.execute_input": "2024-05-31T17:27:27.646121Z",
     "iopub.status.busy": "2024-05-31T17:27:27.644948Z",
     "iopub.status.idle": "2024-05-31T17:27:27.867952Z",
     "shell.execute_reply": "2024-05-31T17:27:27.866286Z"
    },
    "papermill": {
     "duration": 4.407034,
     "end_time": "2024-05-31T17:27:27.870491",
     "exception": false,
     "start_time": "2024-05-31T17:27:23.463457",
     "status": "completed"
    },
    "tags": []
   },
   "outputs": [
    {
     "data": {
      "image/png": "[encoded data removed]",
      "text/plain": [
       "<Figure size 800x600 with 2 Axes>"
      ]
     },
     "metadata": {},
     "output_type": "display_data"
    }
   ],
   "source": [
    "import seaborn as sns\n",
    "\n",
    "# Confusion matrix\n",
    "cm = confusion_matrix(test_generator.labels, labels)\n",
    "plt.figure(figsize=(8, 6))\n",
    "sns.heatmap(cm, annot=True, cmap='Blues', fmt='d', xticklabels=class_names, yticklabels=class_names)\n",
    "plt.xlabel('Predicted Labels')\n",
    "plt.ylabel('True Labels')\n",
    "plt.title('Confusion Matrix')\n",
    "plt.show()"
   ]
  },
  {
   "cell_type": "code",
   "execution_count": null,
   "id": "24f4219b",
   "metadata": {
    "papermill": {
     "duration": 4.149698,
     "end_time": "2024-05-31T17:27:36.296856",
     "exception": false,
     "start_time": "2024-05-31T17:27:32.147158",
     "status": "completed"
    },
    "tags": []
   },
   "outputs": [],
   "source": []
  }
 ],
 "metadata": {
  "kaggle": {
   "accelerator": "nvidiaTeslaT4",
   "dataSources": [
    {
     "databundleVersionId": 5329502,
     "datasetId": 3041726,
     "sourceId": 5256696,
     "sourceType": "datasetVersion"
    },
    {
     "databundleVersionId": 8714965,
     "datasetId": 5121341,
     "sourceId": 8569760,
     "sourceType": "datasetVersion"
    }
   ],
   "isGpuEnabled": true,
   "isInternetEnabled": true,
   "language": "python",
   "sourceType": "notebook"
  },
  "kernelspec": {
   "display_name": "Python 3",
   "language": "python",
   "name": "python3"
  },
  "language_info": {
   "codemirror_mode": {
    "name": "ipython",
    "version": 3
   },
   "file_extension": ".py",
   "mimetype": "text/x-python",
   "name": "python",
   "nbconvert_exporter": "python",
   "pygments_lexer": "ipython3",
   "version": "3.10.13"
  },
  "papermill": {
   "default_parameters": {},
   "duration": 4492.62113,
   "end_time": "2024-05-31T17:27:44.087785",
   "environment_variables": {},
   "exception": null,
   "input_path": "__notebook__.ipynb",
   "output_path": "__notebook__.ipynb",
   "parameters": {},
   "start_time": "2024-05-31T16:12:51.466655",
   "version": "2.5.0"
  }
 },
 "nbformat": 4,
 "nbformat_minor": 5
}
