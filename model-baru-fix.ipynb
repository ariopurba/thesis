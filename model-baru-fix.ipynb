{
 "cells": [
  {
   "cell_type": "code",
   "execution_count": 1,
   "id": "af87ea20",
   "metadata": {
    "_cell_guid": "b1076dfc-b9ad-4769-8c92-a6c4dae69d19",
    "_uuid": "8f2839f25d086af736a60e9eeb907d3b93b6e0e5",
    "execution": {
     "iopub.execute_input": "2024-05-31T18:13:40.637114Z",
     "iopub.status.busy": "2024-05-31T18:13:40.636765Z",
     "iopub.status.idle": "2024-05-31T18:15:32.485586Z",
     "shell.execute_reply": "2024-05-31T18:15:32.484717Z"
    },
    "jupyter": {
     "source_hidden": true
    },
    "papermill": {
     "duration": 111.873191,
     "end_time": "2024-05-31T18:15:32.488676",
     "exception": false,
     "start_time": "2024-05-31T18:13:40.615485",
     "status": "completed"
    },
    "tags": []
   },
   "outputs": [],
   "source": [
    "# This Python 3 environment comes with many helpful analytics libraries installed\n",
    "# It is defined by the kaggle/python Docker image: https://github.com/kaggle/docker-python\n",
    "# For example, here's several helpful packages to load\n",
    "\n",
    "import numpy as np # linear algebra\n",
    "import pandas as pd # data processing, CSV file I/O (e.g. pd.read_csv)\n",
    "\n",
    "# Input data files are available in the read-only \"../input/\" directory\n",
    "# For example, running this (by clicking run or pressing Shift+Enter) will list all files under the input directory\n",
    "\n",
    "import os\n",
    "for dirname, _, filenames in os.walk('/kaggle/input'):\n",
    "    for filename in filenames:\n",
    "        (os.path.join(dirname, filename))\n",
    "\n",
    "# You can write up to 20GB to the current directory (/kaggle/working/) that gets preserved as output when you create a version using \"Save & Run All\" \n",
    "# You can also write temporary files to /kaggle/temp/, but they won't be saved outside of the current session"
   ]
  },
  {
   "cell_type": "markdown",
   "id": "ec598661",
   "metadata": {
    "papermill": {
     "duration": 0.020875,
     "end_time": "2024-05-31T18:15:32.531722",
     "exception": false,
     "start_time": "2024-05-31T18:15:32.510847",
     "status": "completed"
    },
    "tags": []
   },
   "source": [
    "## import library"
   ]
  },
  {
   "cell_type": "code",
   "execution_count": 2,
   "id": "213c1ec5",
   "metadata": {
    "execution": {
     "iopub.execute_input": "2024-05-31T18:15:32.574798Z",
     "iopub.status.busy": "2024-05-31T18:15:32.573783Z",
     "iopub.status.idle": "2024-05-31T18:15:55.836061Z",
     "shell.execute_reply": "2024-05-31T18:15:55.834827Z"
    },
    "papermill": {
     "duration": 23.286657,
     "end_time": "2024-05-31T18:15:55.838595",
     "exception": false,
     "start_time": "2024-05-31T18:15:32.551938",
     "status": "completed"
    },
    "tags": []
   },
   "outputs": [
    {
     "name": "stderr",
     "output_type": "stream",
     "text": [
      "2024-05-31 18:15:36.185563: E external/local_xla/xla/stream_executor/cuda/cuda_dnn.cc:9261] Unable to register cuDNN factory: Attempting to register factory for plugin cuDNN when one has already been registered\n",
      "2024-05-31 18:15:36.185699: E external/local_xla/xla/stream_executor/cuda/cuda_fft.cc:607] Unable to register cuFFT factory: Attempting to register factory for plugin cuFFT when one has already been registered\n",
      "2024-05-31 18:15:36.440104: E external/local_xla/xla/stream_executor/cuda/cuda_blas.cc:1515] Unable to register cuBLAS factory: Attempting to register factory for plugin cuBLAS when one has already been registered\n",
      "/opt/conda/lib/python3.10/pty.py:89: RuntimeWarning: os.fork() was called. os.fork() is incompatible with multithreaded code, and JAX is multithreaded, so this will likely lead to a deadlock.\n",
      "  pid, fd = os.forkpty()\n"
     ]
    },
    {
     "name": "stdout",
     "output_type": "stream",
     "text": [
      "Fri May 31 18:15:55 2024       \r\n",
      "+---------------------------------------------------------------------------------------+\r\n",
      "| NVIDIA-SMI 535.129.03             Driver Version: 535.129.03   CUDA Version: 12.2     |\r\n",
      "|-----------------------------------------+----------------------+----------------------+\r\n",
      "| GPU  Name                 Persistence-M | Bus-Id        Disp.A | Volatile Uncorr. ECC |\r\n",
      "| Fan  Temp   Perf          Pwr:Usage/Cap |         Memory-Usage | GPU-Util  Compute M. |\r\n",
      "|                                         |                      |               MIG M. |\r\n",
      "|=========================================+======================+======================|\r\n",
      "|   0  Tesla T4                       Off | 00000000:00:04.0 Off |                    0 |\r\n",
      "| N/A   40C    P8               9W /  70W |      0MiB / 15360MiB |      0%      Default |\r\n",
      "|                                         |                      |                  N/A |\r\n",
      "+-----------------------------------------+----------------------+----------------------+\r\n",
      "|   1  Tesla T4                       Off | 00000000:00:05.0 Off |                    0 |\r\n",
      "| N/A   41C    P8               9W /  70W |      0MiB / 15360MiB |      0%      Default |\r\n",
      "|                                         |                      |                  N/A |\r\n",
      "+-----------------------------------------+----------------------+----------------------+\r\n",
      "                                                                                         \r\n",
      "+---------------------------------------------------------------------------------------+\r\n",
      "| Processes:                                                                            |\r\n",
      "|  GPU   GI   CI        PID   Type   Process name                            GPU Memory |\r\n",
      "|        ID   ID                                                             Usage      |\r\n",
      "|=======================================================================================|\r\n",
      "|  No running processes found                                                           |\r\n",
      "+---------------------------------------------------------------------------------------+\r\n"
     ]
    }
   ],
   "source": [
    "import tensorflow as tf\n",
    "from tensorflow.keras.preprocessing.image import ImageDataGenerator\n",
    "from tensorflow.keras.applications import VGG16, ResNet50, ResNet50V2, VGG19, InceptionV3, InceptionResNetV2, VGG16\n",
    "from tensorflow.keras.layers import Dropout, Flatten, Dense, Input, Conv2D, MaxPooling2D, GlobalAveragePooling2D\n",
    "from tensorflow.keras.models import Model, Sequential\n",
    "from tensorflow.keras.saving import load_model\n",
    "from tensorflow.keras.optimizers import SGD, RMSprop\n",
    "from sklearn.metrics import classification_report\n",
    "import matplotlib.pyplot as plt\n",
    "import os\n",
    "from sklearn.metrics import confusion_matrix, classification_report\n",
    "from sklearn.metrics import average_precision_score\n",
    "import numpy as np # linear algebra\n",
    "import pandas as pd # data processing, CSV file I/O (e.g. pd.read_csv)\n",
    "import tensorflow as tf\n",
    "from tensorflow.keras import layers, models\n",
    "from tensorflow.keras.optimizers import Adam\n",
    "from tensorflow.keras.callbacks import LearningRateScheduler, EarlyStopping\n",
    "from matplotlib import pyplot as plt\n",
    "\n",
    "import numpy as np\n",
    "import matplotlib.pyplot as plt\n",
    "import seaborn as sns\n",
    "import os\n",
    "\n",
    "import tensorflow as tf\n",
    "from tensorflow.keras import layers, models\n",
    "from tensorflow.keras.callbacks import ModelCheckpoint\n",
    "from tensorflow.keras.preprocessing.image import ImageDataGenerator\n",
    "!nvidia-smi"
   ]
  },
  {
   "cell_type": "markdown",
   "id": "6653ac84",
   "metadata": {
    "papermill": {
     "duration": 0.020388,
     "end_time": "2024-05-31T18:15:55.879393",
     "exception": false,
     "start_time": "2024-05-31T18:15:55.859005",
     "status": "completed"
    },
    "tags": []
   },
   "source": [
    "### Load Dataset"
   ]
  },
  {
   "cell_type": "code",
   "execution_count": 3,
   "id": "908986c5",
   "metadata": {
    "execution": {
     "iopub.execute_input": "2024-05-31T18:15:55.923656Z",
     "iopub.status.busy": "2024-05-31T18:15:55.922684Z",
     "iopub.status.idle": "2024-05-31T18:15:55.928928Z",
     "shell.execute_reply": "2024-05-31T18:15:55.928051Z"
    },
    "papermill": {
     "duration": 0.031006,
     "end_time": "2024-05-31T18:15:55.931317",
     "exception": false,
     "start_time": "2024-05-31T18:15:55.900311",
     "status": "completed"
    },
    "tags": []
   },
   "outputs": [
    {
     "name": "stdout",
     "output_type": "stream",
     "text": [
      "Loading dataset from: /kaggle/input/cifake-real-and-ai-generated-synthetic-images/\n"
     ]
    }
   ],
   "source": [
    "dataset_dir = \"/kaggle/input/cifake-real-and-ai-generated-synthetic-images/\" # For Kaggle notebooks. If you run locally, point this line to the CIFAKE directory\n",
    "print(\"Loading dataset from: \" + dataset_dir)"
   ]
  },
  {
   "cell_type": "code",
   "execution_count": 4,
   "id": "d0204480",
   "metadata": {
    "execution": {
     "iopub.execute_input": "2024-05-31T18:15:55.973195Z",
     "iopub.status.busy": "2024-05-31T18:15:55.972859Z",
     "iopub.status.idle": "2024-05-31T18:16:45.909596Z",
     "shell.execute_reply": "2024-05-31T18:16:45.908538Z"
    },
    "papermill": {
     "duration": 49.960693,
     "end_time": "2024-05-31T18:16:45.912159",
     "exception": false,
     "start_time": "2024-05-31T18:15:55.951466",
     "status": "completed"
    },
    "tags": []
   },
   "outputs": [
    {
     "name": "stdout",
     "output_type": "stream",
     "text": [
      "Found 100000 images belonging to 2 classes.\n",
      "Found 20000 images belonging to 2 classes.\n"
     ]
    }
   ],
   "source": [
    "# bagi data train dan test\n",
    "# direktory\n",
    "train_path = '/kaggle/input/cifake-real-and-ai-generated-synthetic-images/train'\n",
    "test_path = '/kaggle/input/cifake-real-and-ai-generated-synthetic-images/test' \n",
    "\n",
    "weight, height = 32, 32\n",
    "batch_size = 32\n",
    "\n",
    "# normalize pixel data\n",
    "train_data_gen = ImageDataGenerator(\n",
    "    rescale = 1.0/255\n",
    ")\n",
    "test_data_gen = ImageDataGenerator(\n",
    "    rescale = 1.0/255\n",
    ")\n",
    "\n",
    "train_dataset = train_data_gen.flow_from_directory(\n",
    "    train_path,\n",
    "    target_size = (weight, height),\n",
    "    batch_size = batch_size,\n",
    "    class_mode = 'binary',\n",
    "    shuffle = True\n",
    ")\n",
    "test_dataset = test_data_gen.flow_from_directory(\n",
    "    test_path,\n",
    "    target_size = (weight, height),\n",
    "    batch_size = batch_size,\n",
    "    class_mode = 'binary',\n",
    "    shuffle = False\n",
    ")"
   ]
  },
  {
   "cell_type": "code",
   "execution_count": 5,
   "id": "ba840ab6",
   "metadata": {
    "execution": {
     "iopub.execute_input": "2024-05-31T18:16:45.956337Z",
     "iopub.status.busy": "2024-05-31T18:16:45.955927Z",
     "iopub.status.idle": "2024-05-31T18:16:45.963258Z",
     "shell.execute_reply": "2024-05-31T18:16:45.962292Z"
    },
    "papermill": {
     "duration": 0.032014,
     "end_time": "2024-05-31T18:16:45.965582",
     "exception": false,
     "start_time": "2024-05-31T18:16:45.933568",
     "status": "completed"
    },
    "tags": []
   },
   "outputs": [
    {
     "data": {
      "text/plain": [
       "{'FAKE': 0, 'REAL': 1}"
      ]
     },
     "execution_count": 5,
     "metadata": {},
     "output_type": "execute_result"
    }
   ],
   "source": [
    "# check kelas\n",
    "train_dataset.class_indices"
   ]
  },
  {
   "cell_type": "markdown",
   "id": "dab2a366",
   "metadata": {
    "papermill": {
     "duration": 0.021162,
     "end_time": "2024-05-31T18:16:46.008030",
     "exception": false,
     "start_time": "2024-05-31T18:16:45.986868",
     "status": "completed"
    },
    "tags": []
   },
   "source": [
    "## Skenario 1"
   ]
  },
  {
   "cell_type": "code",
   "execution_count": 6,
   "id": "8ba02ed6",
   "metadata": {
    "execution": {
     "iopub.execute_input": "2024-05-31T18:16:46.052630Z",
     "iopub.status.busy": "2024-05-31T18:16:46.052295Z",
     "iopub.status.idle": "2024-05-31T18:16:47.309479Z",
     "shell.execute_reply": "2024-05-31T18:16:47.308609Z"
    },
    "papermill": {
     "duration": 1.282553,
     "end_time": "2024-05-31T18:16:47.312090",
     "exception": false,
     "start_time": "2024-05-31T18:16:46.029537",
     "status": "completed"
    },
    "tags": []
   },
   "outputs": [
    {
     "name": "stderr",
     "output_type": "stream",
     "text": [
      "/opt/conda/lib/python3.10/site-packages/keras/src/layers/convolutional/base_conv.py:107: UserWarning: Do not pass an `input_shape`/`input_dim` argument to a layer. When using Sequential models, prefer using an `Input(shape)` object as the first layer in the model instead.\n",
      "  super().__init__(activity_regularizer=activity_regularizer, **kwargs)\n"
     ]
    }
   ],
   "source": [
    "# mendefinisikan model\n",
    "model1 = models.Sequential()\n",
    "\n",
    "# convolutional layers\n",
    "model1.add(layers.Conv2D(32, (3, 3), activation = 'relu', input_shape=(weight, height, 3) ))\n",
    "model1.add(layers.MaxPooling2D((2, 2)))\n",
    "model1.add(layers.Conv2D(64, (3, 3), activation='relu'))\n",
    "model1.add(layers.MaxPooling2D((2, 2)))\n",
    "model1.add(layers.Conv2D(128, (3, 3)))\n",
    "model1.add(layers.MaxPooling2D((2, 2)))\n",
    "\n",
    "# Flatten layer\n",
    "model1.add(layers.Flatten())\n",
    "\n",
    "# dense layers\n",
    "model1.add(layers.Dense(256, activation='relu'))\n",
    "model1.add(layers.Dropout(0.5))\n",
    "model1.add(layers.Dense(1, activation='sigmoid'))\n"
   ]
  },
  {
   "cell_type": "code",
   "execution_count": 7,
   "id": "a7652edc",
   "metadata": {
    "execution": {
     "iopub.execute_input": "2024-05-31T18:16:47.356948Z",
     "iopub.status.busy": "2024-05-31T18:16:47.356299Z",
     "iopub.status.idle": "2024-05-31T18:16:47.379764Z",
     "shell.execute_reply": "2024-05-31T18:16:47.378972Z"
    },
    "papermill": {
     "duration": 0.048319,
     "end_time": "2024-05-31T18:16:47.382192",
     "exception": false,
     "start_time": "2024-05-31T18:16:47.333873",
     "status": "completed"
    },
    "tags": []
   },
   "outputs": [],
   "source": [
    "# optimizer adam dan learning rate 0.001\n",
    "optimizer = tf.keras.optimizers.Adam(learning_rate = 0.001)\n",
    "model1.compile(optimizer= optimizer, loss='binary_crossentropy',\n",
    "              metrics=['accuracy', tf.keras.metrics.Precision(), tf.keras.metrics.Recall()])\n",
    "callback = tf.keras.callbacks.EarlyStopping(monitor='val_loss',patience=2)"
   ]
  },
  {
   "cell_type": "code",
   "execution_count": 8,
   "id": "1c1f747f",
   "metadata": {
    "execution": {
     "iopub.execute_input": "2024-05-31T18:16:47.426661Z",
     "iopub.status.busy": "2024-05-31T18:16:47.426294Z",
     "iopub.status.idle": "2024-05-31T18:16:47.454251Z",
     "shell.execute_reply": "2024-05-31T18:16:47.453442Z"
    },
    "papermill": {
     "duration": 0.053167,
     "end_time": "2024-05-31T18:16:47.456606",
     "exception": false,
     "start_time": "2024-05-31T18:16:47.403439",
     "status": "completed"
    },
    "tags": []
   },
   "outputs": [
    {
     "data": {
      "text/html": [
       "<pre style=\"white-space:pre;overflow-x:auto;line-height:normal;font-family:Menlo,'DejaVu Sans Mono',consolas,'Courier New',monospace\"><span style=\"font-weight: bold\">Model: \"sequential\"</span>\n",
       "</pre>\n"
      ],
      "text/plain": [
       "\u001b[1mModel: \"sequential\"\u001b[0m\n"
      ]
     },
     "metadata": {},
     "output_type": "display_data"
    },
    {
     "data": {
      "text/html": [
       "<pre style=\"white-space:pre;overflow-x:auto;line-height:normal;font-family:Menlo,'DejaVu Sans Mono',consolas,'Courier New',monospace\">┏━━━━━━━━━━━━━━━━━━━━━━━━━━━━━━━━━┳━━━━━━━━━━━━━━━━━━━━━━━━┳━━━━━━━━━━━━━━━┓\n",
       "┃<span style=\"font-weight: bold\"> Layer (type)                    </span>┃<span style=\"font-weight: bold\"> Output Shape           </span>┃<span style=\"font-weight: bold\">       Param # </span>┃\n",
       "┡━━━━━━━━━━━━━━━━━━━━━━━━━━━━━━━━━╇━━━━━━━━━━━━━━━━━━━━━━━━╇━━━━━━━━━━━━━━━┩\n",
       "│ conv2d (<span style=\"color: #0087ff; text-decoration-color: #0087ff\">Conv2D</span>)                 │ (<span style=\"color: #00d7ff; text-decoration-color: #00d7ff\">None</span>, <span style=\"color: #00af00; text-decoration-color: #00af00\">30</span>, <span style=\"color: #00af00; text-decoration-color: #00af00\">30</span>, <span style=\"color: #00af00; text-decoration-color: #00af00\">32</span>)     │           <span style=\"color: #00af00; text-decoration-color: #00af00\">896</span> │\n",
       "├─────────────────────────────────┼────────────────────────┼───────────────┤\n",
       "│ max_pooling2d (<span style=\"color: #0087ff; text-decoration-color: #0087ff\">MaxPooling2D</span>)    │ (<span style=\"color: #00d7ff; text-decoration-color: #00d7ff\">None</span>, <span style=\"color: #00af00; text-decoration-color: #00af00\">15</span>, <span style=\"color: #00af00; text-decoration-color: #00af00\">15</span>, <span style=\"color: #00af00; text-decoration-color: #00af00\">32</span>)     │             <span style=\"color: #00af00; text-decoration-color: #00af00\">0</span> │\n",
       "├─────────────────────────────────┼────────────────────────┼───────────────┤\n",
       "│ conv2d_1 (<span style=\"color: #0087ff; text-decoration-color: #0087ff\">Conv2D</span>)               │ (<span style=\"color: #00d7ff; text-decoration-color: #00d7ff\">None</span>, <span style=\"color: #00af00; text-decoration-color: #00af00\">13</span>, <span style=\"color: #00af00; text-decoration-color: #00af00\">13</span>, <span style=\"color: #00af00; text-decoration-color: #00af00\">64</span>)     │        <span style=\"color: #00af00; text-decoration-color: #00af00\">18,496</span> │\n",
       "├─────────────────────────────────┼────────────────────────┼───────────────┤\n",
       "│ max_pooling2d_1 (<span style=\"color: #0087ff; text-decoration-color: #0087ff\">MaxPooling2D</span>)  │ (<span style=\"color: #00d7ff; text-decoration-color: #00d7ff\">None</span>, <span style=\"color: #00af00; text-decoration-color: #00af00\">6</span>, <span style=\"color: #00af00; text-decoration-color: #00af00\">6</span>, <span style=\"color: #00af00; text-decoration-color: #00af00\">64</span>)       │             <span style=\"color: #00af00; text-decoration-color: #00af00\">0</span> │\n",
       "├─────────────────────────────────┼────────────────────────┼───────────────┤\n",
       "│ conv2d_2 (<span style=\"color: #0087ff; text-decoration-color: #0087ff\">Conv2D</span>)               │ (<span style=\"color: #00d7ff; text-decoration-color: #00d7ff\">None</span>, <span style=\"color: #00af00; text-decoration-color: #00af00\">4</span>, <span style=\"color: #00af00; text-decoration-color: #00af00\">4</span>, <span style=\"color: #00af00; text-decoration-color: #00af00\">128</span>)      │        <span style=\"color: #00af00; text-decoration-color: #00af00\">73,856</span> │\n",
       "├─────────────────────────────────┼────────────────────────┼───────────────┤\n",
       "│ max_pooling2d_2 (<span style=\"color: #0087ff; text-decoration-color: #0087ff\">MaxPooling2D</span>)  │ (<span style=\"color: #00d7ff; text-decoration-color: #00d7ff\">None</span>, <span style=\"color: #00af00; text-decoration-color: #00af00\">2</span>, <span style=\"color: #00af00; text-decoration-color: #00af00\">2</span>, <span style=\"color: #00af00; text-decoration-color: #00af00\">128</span>)      │             <span style=\"color: #00af00; text-decoration-color: #00af00\">0</span> │\n",
       "├─────────────────────────────────┼────────────────────────┼───────────────┤\n",
       "│ flatten (<span style=\"color: #0087ff; text-decoration-color: #0087ff\">Flatten</span>)               │ (<span style=\"color: #00d7ff; text-decoration-color: #00d7ff\">None</span>, <span style=\"color: #00af00; text-decoration-color: #00af00\">512</span>)            │             <span style=\"color: #00af00; text-decoration-color: #00af00\">0</span> │\n",
       "├─────────────────────────────────┼────────────────────────┼───────────────┤\n",
       "│ dense (<span style=\"color: #0087ff; text-decoration-color: #0087ff\">Dense</span>)                   │ (<span style=\"color: #00d7ff; text-decoration-color: #00d7ff\">None</span>, <span style=\"color: #00af00; text-decoration-color: #00af00\">256</span>)            │       <span style=\"color: #00af00; text-decoration-color: #00af00\">131,328</span> │\n",
       "├─────────────────────────────────┼────────────────────────┼───────────────┤\n",
       "│ dropout (<span style=\"color: #0087ff; text-decoration-color: #0087ff\">Dropout</span>)               │ (<span style=\"color: #00d7ff; text-decoration-color: #00d7ff\">None</span>, <span style=\"color: #00af00; text-decoration-color: #00af00\">256</span>)            │             <span style=\"color: #00af00; text-decoration-color: #00af00\">0</span> │\n",
       "├─────────────────────────────────┼────────────────────────┼───────────────┤\n",
       "│ dense_1 (<span style=\"color: #0087ff; text-decoration-color: #0087ff\">Dense</span>)                 │ (<span style=\"color: #00d7ff; text-decoration-color: #00d7ff\">None</span>, <span style=\"color: #00af00; text-decoration-color: #00af00\">1</span>)              │           <span style=\"color: #00af00; text-decoration-color: #00af00\">257</span> │\n",
       "└─────────────────────────────────┴────────────────────────┴───────────────┘\n",
       "</pre>\n"
      ],
      "text/plain": [
       "┏━━━━━━━━━━━━━━━━━━━━━━━━━━━━━━━━━┳━━━━━━━━━━━━━━━━━━━━━━━━┳━━━━━━━━━━━━━━━┓\n",
       "┃\u001b[1m \u001b[0m\u001b[1mLayer (type)                   \u001b[0m\u001b[1m \u001b[0m┃\u001b[1m \u001b[0m\u001b[1mOutput Shape          \u001b[0m\u001b[1m \u001b[0m┃\u001b[1m \u001b[0m\u001b[1m      Param #\u001b[0m\u001b[1m \u001b[0m┃\n",
       "┡━━━━━━━━━━━━━━━━━━━━━━━━━━━━━━━━━╇━━━━━━━━━━━━━━━━━━━━━━━━╇━━━━━━━━━━━━━━━┩\n",
       "│ conv2d (\u001b[38;5;33mConv2D\u001b[0m)                 │ (\u001b[38;5;45mNone\u001b[0m, \u001b[38;5;34m30\u001b[0m, \u001b[38;5;34m30\u001b[0m, \u001b[38;5;34m32\u001b[0m)     │           \u001b[38;5;34m896\u001b[0m │\n",
       "├─────────────────────────────────┼────────────────────────┼───────────────┤\n",
       "│ max_pooling2d (\u001b[38;5;33mMaxPooling2D\u001b[0m)    │ (\u001b[38;5;45mNone\u001b[0m, \u001b[38;5;34m15\u001b[0m, \u001b[38;5;34m15\u001b[0m, \u001b[38;5;34m32\u001b[0m)     │             \u001b[38;5;34m0\u001b[0m │\n",
       "├─────────────────────────────────┼────────────────────────┼───────────────┤\n",
       "│ conv2d_1 (\u001b[38;5;33mConv2D\u001b[0m)               │ (\u001b[38;5;45mNone\u001b[0m, \u001b[38;5;34m13\u001b[0m, \u001b[38;5;34m13\u001b[0m, \u001b[38;5;34m64\u001b[0m)     │        \u001b[38;5;34m18,496\u001b[0m │\n",
       "├─────────────────────────────────┼────────────────────────┼───────────────┤\n",
       "│ max_pooling2d_1 (\u001b[38;5;33mMaxPooling2D\u001b[0m)  │ (\u001b[38;5;45mNone\u001b[0m, \u001b[38;5;34m6\u001b[0m, \u001b[38;5;34m6\u001b[0m, \u001b[38;5;34m64\u001b[0m)       │             \u001b[38;5;34m0\u001b[0m │\n",
       "├─────────────────────────────────┼────────────────────────┼───────────────┤\n",
       "│ conv2d_2 (\u001b[38;5;33mConv2D\u001b[0m)               │ (\u001b[38;5;45mNone\u001b[0m, \u001b[38;5;34m4\u001b[0m, \u001b[38;5;34m4\u001b[0m, \u001b[38;5;34m128\u001b[0m)      │        \u001b[38;5;34m73,856\u001b[0m │\n",
       "├─────────────────────────────────┼────────────────────────┼───────────────┤\n",
       "│ max_pooling2d_2 (\u001b[38;5;33mMaxPooling2D\u001b[0m)  │ (\u001b[38;5;45mNone\u001b[0m, \u001b[38;5;34m2\u001b[0m, \u001b[38;5;34m2\u001b[0m, \u001b[38;5;34m128\u001b[0m)      │             \u001b[38;5;34m0\u001b[0m │\n",
       "├─────────────────────────────────┼────────────────────────┼───────────────┤\n",
       "│ flatten (\u001b[38;5;33mFlatten\u001b[0m)               │ (\u001b[38;5;45mNone\u001b[0m, \u001b[38;5;34m512\u001b[0m)            │             \u001b[38;5;34m0\u001b[0m │\n",
       "├─────────────────────────────────┼────────────────────────┼───────────────┤\n",
       "│ dense (\u001b[38;5;33mDense\u001b[0m)                   │ (\u001b[38;5;45mNone\u001b[0m, \u001b[38;5;34m256\u001b[0m)            │       \u001b[38;5;34m131,328\u001b[0m │\n",
       "├─────────────────────────────────┼────────────────────────┼───────────────┤\n",
       "│ dropout (\u001b[38;5;33mDropout\u001b[0m)               │ (\u001b[38;5;45mNone\u001b[0m, \u001b[38;5;34m256\u001b[0m)            │             \u001b[38;5;34m0\u001b[0m │\n",
       "├─────────────────────────────────┼────────────────────────┼───────────────┤\n",
       "│ dense_1 (\u001b[38;5;33mDense\u001b[0m)                 │ (\u001b[38;5;45mNone\u001b[0m, \u001b[38;5;34m1\u001b[0m)              │           \u001b[38;5;34m257\u001b[0m │\n",
       "└─────────────────────────────────┴────────────────────────┴───────────────┘\n"
      ]
     },
     "metadata": {},
     "output_type": "display_data"
    },
    {
     "data": {
      "text/html": [
       "<pre style=\"white-space:pre;overflow-x:auto;line-height:normal;font-family:Menlo,'DejaVu Sans Mono',consolas,'Courier New',monospace\"><span style=\"font-weight: bold\"> Total params: </span><span style=\"color: #00af00; text-decoration-color: #00af00\">224,833</span> (878.25 KB)\n",
       "</pre>\n"
      ],
      "text/plain": [
       "\u001b[1m Total params: \u001b[0m\u001b[38;5;34m224,833\u001b[0m (878.25 KB)\n"
      ]
     },
     "metadata": {},
     "output_type": "display_data"
    },
    {
     "data": {
      "text/html": [
       "<pre style=\"white-space:pre;overflow-x:auto;line-height:normal;font-family:Menlo,'DejaVu Sans Mono',consolas,'Courier New',monospace\"><span style=\"font-weight: bold\"> Trainable params: </span><span style=\"color: #00af00; text-decoration-color: #00af00\">224,833</span> (878.25 KB)\n",
       "</pre>\n"
      ],
      "text/plain": [
       "\u001b[1m Trainable params: \u001b[0m\u001b[38;5;34m224,833\u001b[0m (878.25 KB)\n"
      ]
     },
     "metadata": {},
     "output_type": "display_data"
    },
    {
     "data": {
      "text/html": [
       "<pre style=\"white-space:pre;overflow-x:auto;line-height:normal;font-family:Menlo,'DejaVu Sans Mono',consolas,'Courier New',monospace\"><span style=\"font-weight: bold\"> Non-trainable params: </span><span style=\"color: #00af00; text-decoration-color: #00af00\">0</span> (0.00 B)\n",
       "</pre>\n"
      ],
      "text/plain": [
       "\u001b[1m Non-trainable params: \u001b[0m\u001b[38;5;34m0\u001b[0m (0.00 B)\n"
      ]
     },
     "metadata": {},
     "output_type": "display_data"
    }
   ],
   "source": [
    "# summary model\n",
    "model1.summary()"
   ]
  },
  {
   "cell_type": "code",
   "execution_count": 9,
   "id": "8e13ef6e",
   "metadata": {
    "execution": {
     "iopub.execute_input": "2024-05-31T18:16:47.502354Z",
     "iopub.status.busy": "2024-05-31T18:16:47.501675Z",
     "iopub.status.idle": "2024-05-31T18:48:30.438089Z",
     "shell.execute_reply": "2024-05-31T18:48:30.437122Z"
    },
    "papermill": {
     "duration": 1904.302125,
     "end_time": "2024-05-31T18:48:31.781162",
     "exception": false,
     "start_time": "2024-05-31T18:16:47.479037",
     "status": "completed"
    },
    "tags": []
   },
   "outputs": [
    {
     "name": "stdout",
     "output_type": "stream",
     "text": [
      "Epoch 1/100\n"
     ]
    },
    {
     "name": "stderr",
     "output_type": "stream",
     "text": [
      "/opt/conda/lib/python3.10/site-packages/keras/src/trainers/data_adapters/py_dataset_adapter.py:121: UserWarning: Your `PyDataset` class should call `super().__init__(**kwargs)` in its constructor. `**kwargs` can include `workers`, `use_multiprocessing`, `max_queue_size`. Do not pass these arguments to `fit()`, as they will be ignored.\n",
      "  self._warn_if_super_not_called()\n"
     ]
    },
    {
     "name": "stdout",
     "output_type": "stream",
     "text": [
      "\u001b[1m   1/3125\u001b[0m \u001b[37m━━━━━━━━━━━━━━━━━━━━\u001b[0m \u001b[1m8:51:43\u001b[0m 10s/step - accuracy: 0.6250 - loss: 0.6874 - precision: 0.6552 - recall: 0.9048"
     ]
    },
    {
     "name": "stderr",
     "output_type": "stream",
     "text": [
      "WARNING: All log messages before absl::InitializeLog() is called are written to STDERR\n",
      "I0000 00:00:1717179418.186750      90 device_compiler.h:186] Compiled cluster using XLA!  This line is logged at most once for the lifetime of the process.\n",
      "W0000 00:00:1717179418.206904      90 graph_launch.cc:671] Fallback to op-by-op mode because memset node breaks graph update\n"
     ]
    },
    {
     "name": "stdout",
     "output_type": "stream",
     "text": [
      "\u001b[1m3118/3125\u001b[0m \u001b[32m━━━━━━━━━━━━━━━━━━━\u001b[0m\u001b[37m━\u001b[0m \u001b[1m1s\u001b[0m 208ms/step - accuracy: 0.8076 - loss: 0.4092 - precision: 0.8024 - recall: 0.8169"
     ]
    },
    {
     "name": "stderr",
     "output_type": "stream",
     "text": [
      "W0000 00:00:1717180068.702380      90 graph_launch.cc:671] Fallback to op-by-op mode because memset node breaks graph update\n"
     ]
    },
    {
     "name": "stdout",
     "output_type": "stream",
     "text": [
      "\u001b[1m3125/3125\u001b[0m \u001b[32m━━━━━━━━━━━━━━━━━━━━\u001b[0m\u001b[37m\u001b[0m \u001b[1m794s\u001b[0m 251ms/step - accuracy: 0.8077 - loss: 0.4090 - precision: 0.8025 - recall: 0.8170 - val_accuracy: 0.8897 - val_loss: 0.2596 - val_precision: 0.8521 - val_recall: 0.9431\n",
      "Epoch 2/100\n",
      "\u001b[1m3125/3125\u001b[0m \u001b[32m━━━━━━━━━━━━━━━━━━━━\u001b[0m\u001b[37m\u001b[0m \u001b[1m224s\u001b[0m 72ms/step - accuracy: 0.9015 - loss: 0.2419 - precision: 0.9014 - recall: 0.9026 - val_accuracy: 0.9093 - val_loss: 0.2258 - val_precision: 0.9221 - val_recall: 0.8941\n",
      "Epoch 3/100\n",
      "\u001b[1m3125/3125\u001b[0m \u001b[32m━━━━━━━━━━━━━━━━━━━━\u001b[0m\u001b[37m\u001b[0m \u001b[1m179s\u001b[0m 57ms/step - accuracy: 0.9182 - loss: 0.2020 - precision: 0.9172 - recall: 0.9194 - val_accuracy: 0.9193 - val_loss: 0.1974 - val_precision: 0.9069 - val_recall: 0.9345\n",
      "Epoch 4/100\n",
      "\u001b[1m3125/3125\u001b[0m \u001b[32m━━━━━━━━━━━━━━━━━━━━\u001b[0m\u001b[37m\u001b[0m \u001b[1m179s\u001b[0m 57ms/step - accuracy: 0.9277 - loss: 0.1841 - precision: 0.9269 - recall: 0.9288 - val_accuracy: 0.9222 - val_loss: 0.1960 - val_precision: 0.9507 - val_recall: 0.8905\n",
      "Epoch 5/100\n",
      "\u001b[1m3125/3125\u001b[0m \u001b[32m━━━━━━━━━━━━━━━━━━━━\u001b[0m\u001b[37m\u001b[0m \u001b[1m178s\u001b[0m 57ms/step - accuracy: 0.9346 - loss: 0.1659 - precision: 0.9331 - recall: 0.9366 - val_accuracy: 0.9319 - val_loss: 0.1769 - val_precision: 0.9321 - val_recall: 0.9317\n",
      "Epoch 6/100\n",
      "\u001b[1m3125/3125\u001b[0m \u001b[32m━━━━━━━━━━━━━━━━━━━━\u001b[0m\u001b[37m\u001b[0m \u001b[1m175s\u001b[0m 56ms/step - accuracy: 0.9425 - loss: 0.1463 - precision: 0.9415 - recall: 0.9435 - val_accuracy: 0.9295 - val_loss: 0.1807 - val_precision: 0.9191 - val_recall: 0.9419\n",
      "Epoch 7/100\n",
      "\u001b[1m3125/3125\u001b[0m \u001b[32m━━━━━━━━━━━━━━━━━━━━\u001b[0m\u001b[37m\u001b[0m \u001b[1m173s\u001b[0m 55ms/step - accuracy: 0.9458 - loss: 0.1390 - precision: 0.9432 - recall: 0.9489 - val_accuracy: 0.9194 - val_loss: 0.2121 - val_precision: 0.9033 - val_recall: 0.9394\n"
     ]
    }
   ],
   "source": [
    "history = model1.fit(train_dataset,\n",
    "                    epochs = 100,\n",
    "                    validation_data = test_dataset,callbacks=[callback])"
   ]
  },
  {
   "cell_type": "markdown",
   "id": "7a63bc40",
   "metadata": {
    "papermill": {
     "duration": 1.288011,
     "end_time": "2024-05-31T18:48:34.426281",
     "exception": false,
     "start_time": "2024-05-31T18:48:33.138270",
     "status": "completed"
    },
    "tags": []
   },
   "source": [
    "### prediksi pada data test"
   ]
  },
  {
   "cell_type": "code",
   "execution_count": 10,
   "id": "5dd921b4",
   "metadata": {
    "execution": {
     "iopub.execute_input": "2024-05-31T18:48:37.103667Z",
     "iopub.status.busy": "2024-05-31T18:48:37.102756Z",
     "iopub.status.idle": "2024-05-31T18:49:07.091014Z",
     "shell.execute_reply": "2024-05-31T18:49:07.090127Z"
    },
    "papermill": {
     "duration": 31.318917,
     "end_time": "2024-05-31T18:49:07.093548",
     "exception": false,
     "start_time": "2024-05-31T18:48:35.774631",
     "status": "completed"
    },
    "tags": []
   },
   "outputs": [
    {
     "name": "stdout",
     "output_type": "stream",
     "text": [
      "\u001b[1m625/625\u001b[0m \u001b[32m━━━━━━━━━━━━━━━━━━━━\u001b[0m\u001b[37m\u001b[0m \u001b[1m29s\u001b[0m 47ms/step\n"
     ]
    }
   ],
   "source": [
    "# buat prediksi\n",
    "prediksi = model1.predict(test_dataset)"
   ]
  },
  {
   "cell_type": "code",
   "execution_count": 11,
   "id": "5622da7d",
   "metadata": {
    "execution": {
     "iopub.execute_input": "2024-05-31T18:49:09.823989Z",
     "iopub.status.busy": "2024-05-31T18:49:09.823601Z",
     "iopub.status.idle": "2024-05-31T18:49:09.830578Z",
     "shell.execute_reply": "2024-05-31T18:49:09.829567Z"
    },
    "papermill": {
     "duration": 1.408419,
     "end_time": "2024-05-31T18:49:09.832738",
     "exception": false,
     "start_time": "2024-05-31T18:49:08.424319",
     "status": "completed"
    },
    "tags": []
   },
   "outputs": [
    {
     "data": {
      "text/plain": [
       "array([[0],\n",
       "       [0],\n",
       "       [0],\n",
       "       ...,\n",
       "       [1],\n",
       "       [1],\n",
       "       [0]])"
      ]
     },
     "execution_count": 11,
     "metadata": {},
     "output_type": "execute_result"
    }
   ],
   "source": [
    "binary_predictions = (prediksi > 0.5).astype(int)\n",
    "binary_predictions"
   ]
  },
  {
   "cell_type": "code",
   "execution_count": 12,
   "id": "a4d2d8c8",
   "metadata": {
    "execution": {
     "iopub.execute_input": "2024-05-31T18:49:12.597745Z",
     "iopub.status.busy": "2024-05-31T18:49:12.597369Z",
     "iopub.status.idle": "2024-05-31T18:49:40.754452Z",
     "shell.execute_reply": "2024-05-31T18:49:40.753214Z"
    },
    "papermill": {
     "duration": 29.544263,
     "end_time": "2024-05-31T18:49:40.756762",
     "exception": false,
     "start_time": "2024-05-31T18:49:11.212499",
     "status": "completed"
    },
    "tags": []
   },
   "outputs": [
    {
     "name": "stdout",
     "output_type": "stream",
     "text": [
      "\u001b[1m625/625\u001b[0m \u001b[32m━━━━━━━━━━━━━━━━━━━━\u001b[0m\u001b[37m\u001b[0m \u001b[1m28s\u001b[0m 44ms/step\n",
      "\n",
      "Accuracy: 0.9194\n",
      "\n",
      "Confusion Matrix:\n",
      "[[8994 1006]\n",
      " [ 606 9394]]\n",
      "\n",
      "Classification Report:\n",
      "              precision    recall  f1-score   support\n",
      "\n",
      "        FAKE       0.94      0.90      0.92     10000\n",
      "        REAL       0.90      0.94      0.92     10000\n",
      "\n",
      "    accuracy                           0.92     20000\n",
      "   macro avg       0.92      0.92      0.92     20000\n",
      "weighted avg       0.92      0.92      0.92     20000\n",
      "\n",
      "\n",
      "Mean Average Precision (mAP): 0.9778312147354105\n"
     ]
    }
   ],
   "source": [
    "# Make predictions on the test data\n",
    "predict_prob = model1.predict(test_dataset)\n",
    "labels = [0 if pred < 0.5 else 1 for pred in predict_prob]\n",
    "\n",
    "# Calculate accuracy\n",
    "accuracy = np.sum(np.array(test_dataset.labels) == np.array(labels)) / len(labels)\n",
    "\n",
    "# Print the accuracy\n",
    "print(\"\\nAccuracy:\", accuracy)\n",
    "\n",
    "cm = confusion_matrix(test_dataset.labels, labels)\n",
    "print(\"\\nConfusion Matrix:\")\n",
    "print(cm)\n",
    "\n",
    "# Compute the classification report\n",
    "class_names = test_dataset.class_indices.keys()\n",
    "classification_rep = classification_report(test_dataset.labels, labels, target_names=class_names)\n",
    "print(\"\\nClassification Report:\")\n",
    "print(classification_rep)\n",
    "\n",
    "# Calculate the average precision (mAP)\n",
    "mAP = average_precision_score(test_dataset.labels,  predict_prob)\n",
    "print(\"\\nMean Average Precision (mAP):\", mAP)"
   ]
  },
  {
   "cell_type": "code",
   "execution_count": 13,
   "id": "ea9bed88",
   "metadata": {
    "execution": {
     "iopub.execute_input": "2024-05-31T18:49:43.545761Z",
     "iopub.status.busy": "2024-05-31T18:49:43.545410Z",
     "iopub.status.idle": "2024-05-31T18:49:43.919585Z",
     "shell.execute_reply": "2024-05-31T18:49:43.918842Z"
    },
    "papermill": {
     "duration": 1.718024,
     "end_time": "2024-05-31T18:49:43.921433",
     "exception": false,
     "start_time": "2024-05-31T18:49:42.203409",
     "status": "completed"
    },
    "tags": []
   },
   "outputs": [
    {
     "data": {
      "image/png": "[encoded data removed]",
      "text/plain": [
       "<Figure size 640x480 with 2 Axes>"
      ]
     },
     "metadata": {},
     "output_type": "display_data"
    }
   ],
   "source": [
    "import matplotlib.pyplot as plt\n",
    "import seaborn as sns\n",
    "from sklearn.metrics import confusion_matrix, classification_report\n",
    "\n",
    "# Asumsikan `true_labels` dan `binary_predictions` sudah tersedia\n",
    "true_labels = test_dataset.classes\n",
    "\n",
    "# Buat confusion matrix\n",
    "cm = confusion_matrix(true_labels, binary_predictions)\n",
    "\n",
    "# Tampilkan heatmap tanpa notasi eksponensial\n",
    "sns.heatmap(cm, annot=True, fmt='g')  # 'g' memastikan format angka biasa\n",
    "plt.title(\"Confusion Matrix\")\n",
    "plt.xlabel(\"Prediksi\")\n",
    "plt.ylabel(\"Actual Classes\")\n",
    "plt.show()\n",
    "\n",
    "# Print classification report\n",
    "report = classification_report(true_labels, binary_predictions, output_dict=True)"
   ]
  },
  {
   "cell_type": "code",
   "execution_count": 14,
   "id": "76fd5005",
   "metadata": {
    "execution": {
     "iopub.execute_input": "2024-05-31T18:49:46.697689Z",
     "iopub.status.busy": "2024-05-31T18:49:46.696821Z",
     "iopub.status.idle": "2024-05-31T18:49:47.211377Z",
     "shell.execute_reply": "2024-05-31T18:49:47.210423Z"
    },
    "papermill": {
     "duration": 1.909062,
     "end_time": "2024-05-31T18:49:47.213795",
     "exception": false,
     "start_time": "2024-05-31T18:49:45.304733",
     "status": "completed"
    },
    "tags": []
   },
   "outputs": [
    {
     "data": {
      "image/png": "[encoded data removed]",
      "text/plain": [
       "<Figure size 1200x400 with 2 Axes>"
      ]
     },
     "metadata": {},
     "output_type": "display_data"
    }
   ],
   "source": [
    "# Plot accuracy and loss\n",
    "plt.figure(figsize=(12, 4))\n",
    "\n",
    "# Plot training & validation accuracy values\n",
    "plt.subplot(1, 2, 1)\n",
    "plt.plot(history.history['accuracy'])\n",
    "plt.plot(history.history['val_accuracy'])\n",
    "plt.title('Model accuracy')\n",
    "plt.xlabel('Epoch')\n",
    "plt.ylabel('Accuracy')\n",
    "plt.legend(['Train', 'Validation'], loc='upper left')\n",
    "\n",
    "# Plot training & validation loss values\n",
    "plt.subplot(1, 2, 2)\n",
    "plt.plot(history.history['loss'])\n",
    "plt.plot(history.history['val_loss'])\n",
    "plt.title('Model loss')\n",
    "plt.xlabel('Epoch')\n",
    "plt.ylabel('Loss')\n",
    "plt.legend(['Train', 'Validation'], loc='upper left')\n",
    "\n",
    "plt.tight_layout()\n",
    "plt.show()"
   ]
  },
  {
   "cell_type": "code",
   "execution_count": 15,
   "id": "176ba85e",
   "metadata": {
    "execution": {
     "iopub.execute_input": "2024-05-31T18:49:49.966106Z",
     "iopub.status.busy": "2024-05-31T18:49:49.965439Z",
     "iopub.status.idle": "2024-05-31T18:49:50.020981Z",
     "shell.execute_reply": "2024-05-31T18:49:50.020079Z"
    },
    "papermill": {
     "duration": 1.47751,
     "end_time": "2024-05-31T18:49:50.023071",
     "exception": false,
     "start_time": "2024-05-31T18:49:48.545561",
     "status": "completed"
    },
    "tags": []
   },
   "outputs": [],
   "source": [
    "# simpan model\n",
    "model_save = model1.save('model_skenario1.h5')"
   ]
  },
  {
   "cell_type": "code",
   "execution_count": null,
   "id": "3be83e3c",
   "metadata": {
    "papermill": {
     "duration": 1.397253,
     "end_time": "2024-05-31T18:49:52.756021",
     "exception": false,
     "start_time": "2024-05-31T18:49:51.358768",
     "status": "completed"
    },
    "tags": []
   },
   "outputs": [],
   "source": []
  },
  {
   "cell_type": "markdown",
   "id": "740cbb4c",
   "metadata": {
    "papermill": {
     "duration": 1.343872,
     "end_time": "2024-05-31T18:49:55.497259",
     "exception": false,
     "start_time": "2024-05-31T18:49:54.153387",
     "status": "completed"
    },
    "tags": []
   },
   "source": [
    "## Skenario 2"
   ]
  },
  {
   "cell_type": "code",
   "execution_count": 16,
   "id": "4c07a8d4",
   "metadata": {
    "execution": {
     "iopub.execute_input": "2024-05-31T18:49:58.265310Z",
     "iopub.status.busy": "2024-05-31T18:49:58.264413Z",
     "iopub.status.idle": "2024-05-31T18:49:58.387354Z",
     "shell.execute_reply": "2024-05-31T18:49:58.386343Z"
    },
    "papermill": {
     "duration": 1.468514,
     "end_time": "2024-05-31T18:49:58.389356",
     "exception": false,
     "start_time": "2024-05-31T18:49:56.920842",
     "status": "completed"
    },
    "tags": []
   },
   "outputs": [
    {
     "name": "stderr",
     "output_type": "stream",
     "text": [
      "/opt/conda/lib/python3.10/site-packages/keras/src/layers/convolutional/base_conv.py:107: UserWarning: Do not pass an `input_shape`/`input_dim` argument to a layer. When using Sequential models, prefer using an `Input(shape)` object as the first layer in the model instead.\n",
      "  super().__init__(activity_regularizer=activity_regularizer, **kwargs)\n"
     ]
    }
   ],
   "source": [
    "# # mendefinisikan model\n",
    "# model2 = models.Sequential()\n",
    "\n",
    "# # convolutional layers\n",
    "# model2.add(layers.Conv2D(32, (3, 3), activation = 'relu', input_shape=(weight, height, 3) ))\n",
    "# model2.add(layers.MaxPooling2D((2, 2)))\n",
    "# model2.add(layers.Conv2D(64, (3, 3), activation='relu'))\n",
    "# model2.add(layers.MaxPooling2D((2, 2)))\n",
    "# model2.add(layers.Conv2D(128, (3, 3)))\n",
    "# model2.add(layers.MaxPooling2D((2, 2)))\n",
    "# model2.add(layers.Conv2D(256, (3, 3)))\n",
    "# model2.add(layers.MaxPooling2D((2, 2)))\n",
    "# # Flatten layer\n",
    "# model2.add(layers.Flatten())\n",
    "\n",
    "# # dense layers\n",
    "# model2.add(layers.Dense(512, activation='relu'))\n",
    "# model2.add(layers.Dropout(0.5))\n",
    "# model2.add(layers.Dense(1, activation='sigmoid'))\n",
    "# Mendefinisikan model\n",
    "model2 = models.Sequential()\n",
    "\n",
    "# Convolutional layers\n",
    "model2.add(layers.Conv2D(32, (3, 3), activation='relu', input_shape=(weight, height, 3), padding='same'))\n",
    "model2.add(layers.MaxPooling2D((2, 2)))\n",
    "model2.add(layers.Conv2D(64, (3, 3), activation='relu', padding='same'))\n",
    "model2.add(layers.MaxPooling2D((2, 2)))\n",
    "model2.add(layers.Conv2D(128, (3, 3), activation='relu', padding='same'))\n",
    "model2.add(layers.MaxPooling2D((2, 2)))\n",
    "model2.add(layers.Conv2D(256, (3, 3), activation='relu', padding='same'))\n",
    "model2.add(layers.MaxPooling2D((2, 2)))\n",
    "\n",
    "# Flatten layer\n",
    "model2.add(layers.Flatten())\n",
    "\n",
    "# Dense layers\n",
    "model2.add(layers.Dense(512, activation='relu'))\n",
    "model2.add(layers.Dropout(0.5))\n",
    "model2.add(layers.Dense(1, activation='sigmoid'))\n"
   ]
  },
  {
   "cell_type": "code",
   "execution_count": 17,
   "id": "f207af48",
   "metadata": {
    "execution": {
     "iopub.execute_input": "2024-05-31T18:50:01.134364Z",
     "iopub.status.busy": "2024-05-31T18:50:01.133953Z",
     "iopub.status.idle": "2024-05-31T18:50:01.160730Z",
     "shell.execute_reply": "2024-05-31T18:50:01.159881Z"
    },
    "papermill": {
     "duration": 1.363686,
     "end_time": "2024-05-31T18:50:01.162564",
     "exception": false,
     "start_time": "2024-05-31T18:49:59.798878",
     "status": "completed"
    },
    "tags": []
   },
   "outputs": [
    {
     "data": {
      "text/html": [
       "<pre style=\"white-space:pre;overflow-x:auto;line-height:normal;font-family:Menlo,'DejaVu Sans Mono',consolas,'Courier New',monospace\"><span style=\"font-weight: bold\">Model: \"sequential_1\"</span>\n",
       "</pre>\n"
      ],
      "text/plain": [
       "\u001b[1mModel: \"sequential_1\"\u001b[0m\n"
      ]
     },
     "metadata": {},
     "output_type": "display_data"
    },
    {
     "data": {
      "text/html": [
       "<pre style=\"white-space:pre;overflow-x:auto;line-height:normal;font-family:Menlo,'DejaVu Sans Mono',consolas,'Courier New',monospace\">┏━━━━━━━━━━━━━━━━━━━━━━━━━━━━━━━━━┳━━━━━━━━━━━━━━━━━━━━━━━━┳━━━━━━━━━━━━━━━┓\n",
       "┃<span style=\"font-weight: bold\"> Layer (type)                    </span>┃<span style=\"font-weight: bold\"> Output Shape           </span>┃<span style=\"font-weight: bold\">       Param # </span>┃\n",
       "┡━━━━━━━━━━━━━━━━━━━━━━━━━━━━━━━━━╇━━━━━━━━━━━━━━━━━━━━━━━━╇━━━━━━━━━━━━━━━┩\n",
       "│ conv2d_3 (<span style=\"color: #0087ff; text-decoration-color: #0087ff\">Conv2D</span>)               │ (<span style=\"color: #00d7ff; text-decoration-color: #00d7ff\">None</span>, <span style=\"color: #00af00; text-decoration-color: #00af00\">32</span>, <span style=\"color: #00af00; text-decoration-color: #00af00\">32</span>, <span style=\"color: #00af00; text-decoration-color: #00af00\">32</span>)     │           <span style=\"color: #00af00; text-decoration-color: #00af00\">896</span> │\n",
       "├─────────────────────────────────┼────────────────────────┼───────────────┤\n",
       "│ max_pooling2d_3 (<span style=\"color: #0087ff; text-decoration-color: #0087ff\">MaxPooling2D</span>)  │ (<span style=\"color: #00d7ff; text-decoration-color: #00d7ff\">None</span>, <span style=\"color: #00af00; text-decoration-color: #00af00\">16</span>, <span style=\"color: #00af00; text-decoration-color: #00af00\">16</span>, <span style=\"color: #00af00; text-decoration-color: #00af00\">32</span>)     │             <span style=\"color: #00af00; text-decoration-color: #00af00\">0</span> │\n",
       "├─────────────────────────────────┼────────────────────────┼───────────────┤\n",
       "│ conv2d_4 (<span style=\"color: #0087ff; text-decoration-color: #0087ff\">Conv2D</span>)               │ (<span style=\"color: #00d7ff; text-decoration-color: #00d7ff\">None</span>, <span style=\"color: #00af00; text-decoration-color: #00af00\">16</span>, <span style=\"color: #00af00; text-decoration-color: #00af00\">16</span>, <span style=\"color: #00af00; text-decoration-color: #00af00\">64</span>)     │        <span style=\"color: #00af00; text-decoration-color: #00af00\">18,496</span> │\n",
       "├─────────────────────────────────┼────────────────────────┼───────────────┤\n",
       "│ max_pooling2d_4 (<span style=\"color: #0087ff; text-decoration-color: #0087ff\">MaxPooling2D</span>)  │ (<span style=\"color: #00d7ff; text-decoration-color: #00d7ff\">None</span>, <span style=\"color: #00af00; text-decoration-color: #00af00\">8</span>, <span style=\"color: #00af00; text-decoration-color: #00af00\">8</span>, <span style=\"color: #00af00; text-decoration-color: #00af00\">64</span>)       │             <span style=\"color: #00af00; text-decoration-color: #00af00\">0</span> │\n",
       "├─────────────────────────────────┼────────────────────────┼───────────────┤\n",
       "│ conv2d_5 (<span style=\"color: #0087ff; text-decoration-color: #0087ff\">Conv2D</span>)               │ (<span style=\"color: #00d7ff; text-decoration-color: #00d7ff\">None</span>, <span style=\"color: #00af00; text-decoration-color: #00af00\">8</span>, <span style=\"color: #00af00; text-decoration-color: #00af00\">8</span>, <span style=\"color: #00af00; text-decoration-color: #00af00\">128</span>)      │        <span style=\"color: #00af00; text-decoration-color: #00af00\">73,856</span> │\n",
       "├─────────────────────────────────┼────────────────────────┼───────────────┤\n",
       "│ max_pooling2d_5 (<span style=\"color: #0087ff; text-decoration-color: #0087ff\">MaxPooling2D</span>)  │ (<span style=\"color: #00d7ff; text-decoration-color: #00d7ff\">None</span>, <span style=\"color: #00af00; text-decoration-color: #00af00\">4</span>, <span style=\"color: #00af00; text-decoration-color: #00af00\">4</span>, <span style=\"color: #00af00; text-decoration-color: #00af00\">128</span>)      │             <span style=\"color: #00af00; text-decoration-color: #00af00\">0</span> │\n",
       "├─────────────────────────────────┼────────────────────────┼───────────────┤\n",
       "│ conv2d_6 (<span style=\"color: #0087ff; text-decoration-color: #0087ff\">Conv2D</span>)               │ (<span style=\"color: #00d7ff; text-decoration-color: #00d7ff\">None</span>, <span style=\"color: #00af00; text-decoration-color: #00af00\">4</span>, <span style=\"color: #00af00; text-decoration-color: #00af00\">4</span>, <span style=\"color: #00af00; text-decoration-color: #00af00\">256</span>)      │       <span style=\"color: #00af00; text-decoration-color: #00af00\">295,168</span> │\n",
       "├─────────────────────────────────┼────────────────────────┼───────────────┤\n",
       "│ max_pooling2d_6 (<span style=\"color: #0087ff; text-decoration-color: #0087ff\">MaxPooling2D</span>)  │ (<span style=\"color: #00d7ff; text-decoration-color: #00d7ff\">None</span>, <span style=\"color: #00af00; text-decoration-color: #00af00\">2</span>, <span style=\"color: #00af00; text-decoration-color: #00af00\">2</span>, <span style=\"color: #00af00; text-decoration-color: #00af00\">256</span>)      │             <span style=\"color: #00af00; text-decoration-color: #00af00\">0</span> │\n",
       "├─────────────────────────────────┼────────────────────────┼───────────────┤\n",
       "│ flatten_1 (<span style=\"color: #0087ff; text-decoration-color: #0087ff\">Flatten</span>)             │ (<span style=\"color: #00d7ff; text-decoration-color: #00d7ff\">None</span>, <span style=\"color: #00af00; text-decoration-color: #00af00\">1024</span>)           │             <span style=\"color: #00af00; text-decoration-color: #00af00\">0</span> │\n",
       "├─────────────────────────────────┼────────────────────────┼───────────────┤\n",
       "│ dense_2 (<span style=\"color: #0087ff; text-decoration-color: #0087ff\">Dense</span>)                 │ (<span style=\"color: #00d7ff; text-decoration-color: #00d7ff\">None</span>, <span style=\"color: #00af00; text-decoration-color: #00af00\">512</span>)            │       <span style=\"color: #00af00; text-decoration-color: #00af00\">524,800</span> │\n",
       "├─────────────────────────────────┼────────────────────────┼───────────────┤\n",
       "│ dropout_1 (<span style=\"color: #0087ff; text-decoration-color: #0087ff\">Dropout</span>)             │ (<span style=\"color: #00d7ff; text-decoration-color: #00d7ff\">None</span>, <span style=\"color: #00af00; text-decoration-color: #00af00\">512</span>)            │             <span style=\"color: #00af00; text-decoration-color: #00af00\">0</span> │\n",
       "├─────────────────────────────────┼────────────────────────┼───────────────┤\n",
       "│ dense_3 (<span style=\"color: #0087ff; text-decoration-color: #0087ff\">Dense</span>)                 │ (<span style=\"color: #00d7ff; text-decoration-color: #00d7ff\">None</span>, <span style=\"color: #00af00; text-decoration-color: #00af00\">1</span>)              │           <span style=\"color: #00af00; text-decoration-color: #00af00\">513</span> │\n",
       "└─────────────────────────────────┴────────────────────────┴───────────────┘\n",
       "</pre>\n"
      ],
      "text/plain": [
       "┏━━━━━━━━━━━━━━━━━━━━━━━━━━━━━━━━━┳━━━━━━━━━━━━━━━━━━━━━━━━┳━━━━━━━━━━━━━━━┓\n",
       "┃\u001b[1m \u001b[0m\u001b[1mLayer (type)                   \u001b[0m\u001b[1m \u001b[0m┃\u001b[1m \u001b[0m\u001b[1mOutput Shape          \u001b[0m\u001b[1m \u001b[0m┃\u001b[1m \u001b[0m\u001b[1m      Param #\u001b[0m\u001b[1m \u001b[0m┃\n",
       "┡━━━━━━━━━━━━━━━━━━━━━━━━━━━━━━━━━╇━━━━━━━━━━━━━━━━━━━━━━━━╇━━━━━━━━━━━━━━━┩\n",
       "│ conv2d_3 (\u001b[38;5;33mConv2D\u001b[0m)               │ (\u001b[38;5;45mNone\u001b[0m, \u001b[38;5;34m32\u001b[0m, \u001b[38;5;34m32\u001b[0m, \u001b[38;5;34m32\u001b[0m)     │           \u001b[38;5;34m896\u001b[0m │\n",
       "├─────────────────────────────────┼────────────────────────┼───────────────┤\n",
       "│ max_pooling2d_3 (\u001b[38;5;33mMaxPooling2D\u001b[0m)  │ (\u001b[38;5;45mNone\u001b[0m, \u001b[38;5;34m16\u001b[0m, \u001b[38;5;34m16\u001b[0m, \u001b[38;5;34m32\u001b[0m)     │             \u001b[38;5;34m0\u001b[0m │\n",
       "├─────────────────────────────────┼────────────────────────┼───────────────┤\n",
       "│ conv2d_4 (\u001b[38;5;33mConv2D\u001b[0m)               │ (\u001b[38;5;45mNone\u001b[0m, \u001b[38;5;34m16\u001b[0m, \u001b[38;5;34m16\u001b[0m, \u001b[38;5;34m64\u001b[0m)     │        \u001b[38;5;34m18,496\u001b[0m │\n",
       "├─────────────────────────────────┼────────────────────────┼───────────────┤\n",
       "│ max_pooling2d_4 (\u001b[38;5;33mMaxPooling2D\u001b[0m)  │ (\u001b[38;5;45mNone\u001b[0m, \u001b[38;5;34m8\u001b[0m, \u001b[38;5;34m8\u001b[0m, \u001b[38;5;34m64\u001b[0m)       │             \u001b[38;5;34m0\u001b[0m │\n",
       "├─────────────────────────────────┼────────────────────────┼───────────────┤\n",
       "│ conv2d_5 (\u001b[38;5;33mConv2D\u001b[0m)               │ (\u001b[38;5;45mNone\u001b[0m, \u001b[38;5;34m8\u001b[0m, \u001b[38;5;34m8\u001b[0m, \u001b[38;5;34m128\u001b[0m)      │        \u001b[38;5;34m73,856\u001b[0m │\n",
       "├─────────────────────────────────┼────────────────────────┼───────────────┤\n",
       "│ max_pooling2d_5 (\u001b[38;5;33mMaxPooling2D\u001b[0m)  │ (\u001b[38;5;45mNone\u001b[0m, \u001b[38;5;34m4\u001b[0m, \u001b[38;5;34m4\u001b[0m, \u001b[38;5;34m128\u001b[0m)      │             \u001b[38;5;34m0\u001b[0m │\n",
       "├─────────────────────────────────┼────────────────────────┼───────────────┤\n",
       "│ conv2d_6 (\u001b[38;5;33mConv2D\u001b[0m)               │ (\u001b[38;5;45mNone\u001b[0m, \u001b[38;5;34m4\u001b[0m, \u001b[38;5;34m4\u001b[0m, \u001b[38;5;34m256\u001b[0m)      │       \u001b[38;5;34m295,168\u001b[0m │\n",
       "├─────────────────────────────────┼────────────────────────┼───────────────┤\n",
       "│ max_pooling2d_6 (\u001b[38;5;33mMaxPooling2D\u001b[0m)  │ (\u001b[38;5;45mNone\u001b[0m, \u001b[38;5;34m2\u001b[0m, \u001b[38;5;34m2\u001b[0m, \u001b[38;5;34m256\u001b[0m)      │             \u001b[38;5;34m0\u001b[0m │\n",
       "├─────────────────────────────────┼────────────────────────┼───────────────┤\n",
       "│ flatten_1 (\u001b[38;5;33mFlatten\u001b[0m)             │ (\u001b[38;5;45mNone\u001b[0m, \u001b[38;5;34m1024\u001b[0m)           │             \u001b[38;5;34m0\u001b[0m │\n",
       "├─────────────────────────────────┼────────────────────────┼───────────────┤\n",
       "│ dense_2 (\u001b[38;5;33mDense\u001b[0m)                 │ (\u001b[38;5;45mNone\u001b[0m, \u001b[38;5;34m512\u001b[0m)            │       \u001b[38;5;34m524,800\u001b[0m │\n",
       "├─────────────────────────────────┼────────────────────────┼───────────────┤\n",
       "│ dropout_1 (\u001b[38;5;33mDropout\u001b[0m)             │ (\u001b[38;5;45mNone\u001b[0m, \u001b[38;5;34m512\u001b[0m)            │             \u001b[38;5;34m0\u001b[0m │\n",
       "├─────────────────────────────────┼────────────────────────┼───────────────┤\n",
       "│ dense_3 (\u001b[38;5;33mDense\u001b[0m)                 │ (\u001b[38;5;45mNone\u001b[0m, \u001b[38;5;34m1\u001b[0m)              │           \u001b[38;5;34m513\u001b[0m │\n",
       "└─────────────────────────────────┴────────────────────────┴───────────────┘\n"
      ]
     },
     "metadata": {},
     "output_type": "display_data"
    },
    {
     "data": {
      "text/html": [
       "<pre style=\"white-space:pre;overflow-x:auto;line-height:normal;font-family:Menlo,'DejaVu Sans Mono',consolas,'Courier New',monospace\"><span style=\"font-weight: bold\"> Total params: </span><span style=\"color: #00af00; text-decoration-color: #00af00\">913,729</span> (3.49 MB)\n",
       "</pre>\n"
      ],
      "text/plain": [
       "\u001b[1m Total params: \u001b[0m\u001b[38;5;34m913,729\u001b[0m (3.49 MB)\n"
      ]
     },
     "metadata": {},
     "output_type": "display_data"
    },
    {
     "data": {
      "text/html": [
       "<pre style=\"white-space:pre;overflow-x:auto;line-height:normal;font-family:Menlo,'DejaVu Sans Mono',consolas,'Courier New',monospace\"><span style=\"font-weight: bold\"> Trainable params: </span><span style=\"color: #00af00; text-decoration-color: #00af00\">913,729</span> (3.49 MB)\n",
       "</pre>\n"
      ],
      "text/plain": [
       "\u001b[1m Trainable params: \u001b[0m\u001b[38;5;34m913,729\u001b[0m (3.49 MB)\n"
      ]
     },
     "metadata": {},
     "output_type": "display_data"
    },
    {
     "data": {
      "text/html": [
       "<pre style=\"white-space:pre;overflow-x:auto;line-height:normal;font-family:Menlo,'DejaVu Sans Mono',consolas,'Courier New',monospace\"><span style=\"font-weight: bold\"> Non-trainable params: </span><span style=\"color: #00af00; text-decoration-color: #00af00\">0</span> (0.00 B)\n",
       "</pre>\n"
      ],
      "text/plain": [
       "\u001b[1m Non-trainable params: \u001b[0m\u001b[38;5;34m0\u001b[0m (0.00 B)\n"
      ]
     },
     "metadata": {},
     "output_type": "display_data"
    }
   ],
   "source": [
    "model2.summary()"
   ]
  },
  {
   "cell_type": "code",
   "execution_count": 18,
   "id": "3b3cb511",
   "metadata": {
    "execution": {
     "iopub.execute_input": "2024-05-31T18:50:04.010586Z",
     "iopub.status.busy": "2024-05-31T18:50:04.010223Z",
     "iopub.status.idle": "2024-05-31T18:50:04.025949Z",
     "shell.execute_reply": "2024-05-31T18:50:04.025234Z"
    },
    "papermill": {
     "duration": 1.457759,
     "end_time": "2024-05-31T18:50:04.027884",
     "exception": false,
     "start_time": "2024-05-31T18:50:02.570125",
     "status": "completed"
    },
    "tags": []
   },
   "outputs": [],
   "source": [
    "# optimizer adam dan learning rate 0.001\n",
    "optimizer = tf.keras.optimizers.Adam(learning_rate = 0.001)\n",
    "\n",
    "model2.compile(optimizer= optimizer, loss='binary_crossentropy',\n",
    "              metrics=['accuracy', tf.keras.metrics.Precision(), tf.keras.metrics.Recall()])\n",
    "callback = tf.keras.callbacks.EarlyStopping(monitor='val_loss',patience=2)"
   ]
  },
  {
   "cell_type": "code",
   "execution_count": 19,
   "id": "de1a9560",
   "metadata": {
    "execution": {
     "iopub.execute_input": "2024-05-31T18:50:06.841525Z",
     "iopub.status.busy": "2024-05-31T18:50:06.841144Z",
     "iopub.status.idle": "2024-05-31T19:18:06.295615Z",
     "shell.execute_reply": "2024-05-31T19:18:06.294507Z"
    },
    "papermill": {
     "duration": 1680.887027,
     "end_time": "2024-05-31T19:18:06.297951",
     "exception": false,
     "start_time": "2024-05-31T18:50:05.410924",
     "status": "completed"
    },
    "tags": []
   },
   "outputs": [
    {
     "name": "stdout",
     "output_type": "stream",
     "text": [
      "Epoch 1/100\n",
      "\u001b[1m   5/3125\u001b[0m \u001b[37m━━━━━━━━━━━━━━━━━━━━\u001b[0m \u001b[1m1:53\u001b[0m 37ms/step - accuracy: 0.4315 - loss: 0.7112 - precision_1: 0.3647 - recall_1: 0.2714"
     ]
    },
    {
     "name": "stderr",
     "output_type": "stream",
     "text": [
      "W0000 00:00:1717181413.507894      89 graph_launch.cc:671] Fallback to op-by-op mode because memset node breaks graph update\n"
     ]
    },
    {
     "name": "stdout",
     "output_type": "stream",
     "text": [
      "\u001b[1m3119/3125\u001b[0m \u001b[32m━━━━━━━━━━━━━━━━━━━\u001b[0m\u001b[37m━\u001b[0m \u001b[1m0s\u001b[0m 47ms/step - accuracy: 0.8426 - loss: 0.3463 - precision_1: 0.8406 - recall_1: 0.8465"
     ]
    },
    {
     "name": "stderr",
     "output_type": "stream",
     "text": [
      "W0000 00:00:1717181562.314548      89 graph_launch.cc:671] Fallback to op-by-op mode because memset node breaks graph update\n"
     ]
    },
    {
     "name": "stdout",
     "output_type": "stream",
     "text": [
      "\u001b[1m3125/3125\u001b[0m \u001b[32m━━━━━━━━━━━━━━━━━━━━\u001b[0m\u001b[37m\u001b[0m \u001b[1m185s\u001b[0m 57ms/step - accuracy: 0.8427 - loss: 0.3461 - precision_1: 0.8407 - recall_1: 0.8466 - val_accuracy: 0.9186 - val_loss: 0.2113 - val_precision_1: 0.9491 - val_recall_1: 0.8846\n",
      "Epoch 2/100\n",
      "\u001b[1m3125/3125\u001b[0m \u001b[32m━━━━━━━━━━━━━━━━━━━━\u001b[0m\u001b[37m\u001b[0m \u001b[1m177s\u001b[0m 57ms/step - accuracy: 0.9254 - loss: 0.1898 - precision_1: 0.9244 - recall_1: 0.9265 - val_accuracy: 0.9340 - val_loss: 0.1745 - val_precision_1: 0.9356 - val_recall_1: 0.9322\n",
      "Epoch 3/100\n",
      "\u001b[1m3125/3125\u001b[0m \u001b[32m━━━━━━━━━━━━━━━━━━━━\u001b[0m\u001b[37m\u001b[0m \u001b[1m200s\u001b[0m 56ms/step - accuracy: 0.9378 - loss: 0.1600 - precision_1: 0.9373 - recall_1: 0.9383 - val_accuracy: 0.9256 - val_loss: 0.1794 - val_precision_1: 0.9493 - val_recall_1: 0.8992\n",
      "Epoch 4/100\n",
      "\u001b[1m3125/3125\u001b[0m \u001b[32m━━━━━━━━━━━━━━━━━━━━\u001b[0m\u001b[37m\u001b[0m \u001b[1m181s\u001b[0m 58ms/step - accuracy: 0.9465 - loss: 0.1410 - precision_1: 0.9446 - recall_1: 0.9484 - val_accuracy: 0.9362 - val_loss: 0.1699 - val_precision_1: 0.9614 - val_recall_1: 0.9089\n",
      "Epoch 5/100\n",
      "\u001b[1m3125/3125\u001b[0m \u001b[32m━━━━━━━━━━━━━━━━━━━━\u001b[0m\u001b[37m\u001b[0m \u001b[1m184s\u001b[0m 59ms/step - accuracy: 0.9532 - loss: 0.1245 - precision_1: 0.9530 - recall_1: 0.9530 - val_accuracy: 0.9433 - val_loss: 0.1491 - val_precision_1: 0.9316 - val_recall_1: 0.9568\n",
      "Epoch 6/100\n",
      "\u001b[1m3125/3125\u001b[0m \u001b[32m━━━━━━━━━━━━━━━━━━━━\u001b[0m\u001b[37m\u001b[0m \u001b[1m187s\u001b[0m 60ms/step - accuracy: 0.9597 - loss: 0.1054 - precision_1: 0.9582 - recall_1: 0.9611 - val_accuracy: 0.9352 - val_loss: 0.1753 - val_precision_1: 0.9048 - val_recall_1: 0.9727\n",
      "Epoch 7/100\n",
      "\u001b[1m3125/3125\u001b[0m \u001b[32m━━━━━━━━━━━━━━━━━━━━\u001b[0m\u001b[37m\u001b[0m \u001b[1m183s\u001b[0m 59ms/step - accuracy: 0.9650 - loss: 0.0926 - precision_1: 0.9628 - recall_1: 0.9675 - val_accuracy: 0.9495 - val_loss: 0.1364 - val_precision_1: 0.9544 - val_recall_1: 0.9442\n",
      "Epoch 8/100\n",
      "\u001b[1m3125/3125\u001b[0m \u001b[32m━━━━━━━━━━━━━━━━━━━━\u001b[0m\u001b[37m\u001b[0m \u001b[1m180s\u001b[0m 58ms/step - accuracy: 0.9687 - loss: 0.0809 - precision_1: 0.9680 - recall_1: 0.9694 - val_accuracy: 0.9442 - val_loss: 0.1776 - val_precision_1: 0.9388 - val_recall_1: 0.9505\n",
      "Epoch 9/100\n",
      "\u001b[1m3125/3125\u001b[0m \u001b[32m━━━━━━━━━━━━━━━━━━━━\u001b[0m\u001b[37m\u001b[0m \u001b[1m184s\u001b[0m 59ms/step - accuracy: 0.9722 - loss: 0.0736 - precision_1: 0.9703 - recall_1: 0.9743 - val_accuracy: 0.9442 - val_loss: 0.1528 - val_precision_1: 0.9313 - val_recall_1: 0.9591\n"
     ]
    }
   ],
   "source": [
    "history = model2.fit(train_dataset,\n",
    "                    epochs = 100,\n",
    "                    validation_data = test_dataset,callbacks=[callback])"
   ]
  },
  {
   "cell_type": "markdown",
   "id": "9b613ff2",
   "metadata": {
    "papermill": {
     "duration": 2.755793,
     "end_time": "2024-05-31T19:18:11.956540",
     "exception": false,
     "start_time": "2024-05-31T19:18:09.200747",
     "status": "completed"
    },
    "tags": []
   },
   "source": [
    "#### Prediksi data test"
   ]
  },
  {
   "cell_type": "code",
   "execution_count": 20,
   "id": "618459f9",
   "metadata": {
    "execution": {
     "iopub.execute_input": "2024-05-31T19:18:17.637184Z",
     "iopub.status.busy": "2024-05-31T19:18:17.636780Z",
     "iopub.status.idle": "2024-05-31T19:18:48.112053Z",
     "shell.execute_reply": "2024-05-31T19:18:48.110999Z"
    },
    "papermill": {
     "duration": 35.833268,
     "end_time": "2024-05-31T19:18:50.650566",
     "exception": false,
     "start_time": "2024-05-31T19:18:14.817298",
     "status": "completed"
    },
    "tags": []
   },
   "outputs": [
    {
     "name": "stdout",
     "output_type": "stream",
     "text": [
      "\u001b[1m625/625\u001b[0m \u001b[32m━━━━━━━━━━━━━━━━━━━━\u001b[0m\u001b[37m\u001b[0m \u001b[1m30s\u001b[0m 48ms/step\n"
     ]
    }
   ],
   "source": [
    "# buat prediksi\n",
    "prediksi = model2.predict(test_dataset)"
   ]
  },
  {
   "cell_type": "code",
   "execution_count": 21,
   "id": "c1a4532b",
   "metadata": {
    "execution": {
     "iopub.execute_input": "2024-05-31T19:18:56.462755Z",
     "iopub.status.busy": "2024-05-31T19:18:56.462394Z",
     "iopub.status.idle": "2024-05-31T19:18:56.469199Z",
     "shell.execute_reply": "2024-05-31T19:18:56.468249Z"
    },
    "papermill": {
     "duration": 2.869242,
     "end_time": "2024-05-31T19:18:56.471353",
     "exception": false,
     "start_time": "2024-05-31T19:18:53.602111",
     "status": "completed"
    },
    "tags": []
   },
   "outputs": [
    {
     "data": {
      "text/plain": [
       "array([[0],\n",
       "       [0],\n",
       "       [0],\n",
       "       ...,\n",
       "       [1],\n",
       "       [1],\n",
       "       [0]])"
      ]
     },
     "execution_count": 21,
     "metadata": {},
     "output_type": "execute_result"
    }
   ],
   "source": [
    "binary_predictions = (prediksi > 0.5).astype(int)\n",
    "binary_predictions"
   ]
  },
  {
   "cell_type": "code",
   "execution_count": 22,
   "id": "e973e0cd",
   "metadata": {
    "execution": {
     "iopub.execute_input": "2024-05-31T19:19:02.265511Z",
     "iopub.status.busy": "2024-05-31T19:19:02.264792Z",
     "iopub.status.idle": "2024-05-31T19:19:32.187811Z",
     "shell.execute_reply": "2024-05-31T19:19:32.186766Z"
    },
    "papermill": {
     "duration": 32.818001,
     "end_time": "2024-05-31T19:19:32.189788",
     "exception": false,
     "start_time": "2024-05-31T19:18:59.371787",
     "status": "completed"
    },
    "tags": []
   },
   "outputs": [
    {
     "name": "stdout",
     "output_type": "stream",
     "text": [
      "\u001b[1m625/625\u001b[0m \u001b[32m━━━━━━━━━━━━━━━━━━━━\u001b[0m\u001b[37m\u001b[0m \u001b[1m29s\u001b[0m 47ms/step\n",
      "\n",
      "Accuracy: 0.9442\n",
      "\n",
      "Confusion Matrix:\n",
      "[[9293  707]\n",
      " [ 409 9591]]\n",
      "\n",
      "Classification Report:\n",
      "              precision    recall  f1-score   support\n",
      "\n",
      "        FAKE       0.96      0.93      0.94     10000\n",
      "        REAL       0.93      0.96      0.95     10000\n",
      "\n",
      "    accuracy                           0.94     20000\n",
      "   macro avg       0.94      0.94      0.94     20000\n",
      "weighted avg       0.94      0.94      0.94     20000\n",
      "\n",
      "\n",
      "Mean Average Precision (mAP): 0.9878732636715971\n"
     ]
    }
   ],
   "source": [
    "# Make predictions on the test data\n",
    "predict_prob = model2.predict(test_dataset)\n",
    "labels = [0 if pred < 0.5 else 1 for pred in predict_prob]\n",
    "\n",
    "# Calculate accuracy\n",
    "accuracy = np.sum(np.array(test_dataset.labels) == np.array(labels)) / len(labels)\n",
    "\n",
    "# Print the accuracy\n",
    "print(\"\\nAccuracy:\", accuracy)\n",
    "\n",
    "cm = confusion_matrix(test_dataset.labels, labels)\n",
    "print(\"\\nConfusion Matrix:\")\n",
    "print(cm)\n",
    "\n",
    "# Compute the classification report\n",
    "class_names = test_dataset.class_indices.keys()\n",
    "classification_rep = classification_report(test_dataset.labels, labels, target_names=class_names)\n",
    "print(\"\\nClassification Report:\")\n",
    "print(classification_rep)\n",
    "\n",
    "# Calculate the average precision (mAP)\n",
    "mAP = average_precision_score(test_dataset.labels,  predict_prob)\n",
    "print(\"\\nMean Average Precision (mAP):\", mAP)"
   ]
  },
  {
   "cell_type": "code",
   "execution_count": 23,
   "id": "4d8cce60",
   "metadata": {
    "execution": {
     "iopub.execute_input": "2024-05-31T19:19:37.894836Z",
     "iopub.status.busy": "2024-05-31T19:19:37.894478Z",
     "iopub.status.idle": "2024-05-31T19:19:38.089357Z",
     "shell.execute_reply": "2024-05-31T19:19:38.088443Z"
    },
    "papermill": {
     "duration": 3.028204,
     "end_time": "2024-05-31T19:19:38.091256",
     "exception": false,
     "start_time": "2024-05-31T19:19:35.063052",
     "status": "completed"
    },
    "tags": []
   },
   "outputs": [
    {
     "data": {
      "image/png": "[encoded data removed]",
      "text/plain": [
       "<Figure size 640x480 with 2 Axes>"
      ]
     },
     "metadata": {},
     "output_type": "display_data"
    }
   ],
   "source": [
    "import matplotlib.pyplot as plt\n",
    "import seaborn as sns\n",
    "from sklearn.metrics import confusion_matrix, classification_report\n",
    "\n",
    "# Asumsikan `true_labels` dan `binary_predictions` sudah tersedia\n",
    "true_labels = test_dataset.classes\n",
    "\n",
    "# Buat confusion matrix\n",
    "cm = confusion_matrix(true_labels, binary_predictions)\n",
    "\n",
    "# Tampilkan heatmap tanpa notasi eksponensial\n",
    "sns.heatmap(cm, annot=True, fmt='g')  # 'g' memastikan format angka biasa\n",
    "plt.title(\"Confusion Matrix\")\n",
    "plt.xlabel(\"Prediksi\")\n",
    "plt.ylabel(\"Actual Classes\")\n",
    "plt.show()\n",
    "\n",
    "# Print classification report\n",
    "report = classification_report(true_labels, binary_predictions, output_dict=True)"
   ]
  },
  {
   "cell_type": "code",
   "execution_count": 24,
   "id": "e0515a73",
   "metadata": {
    "execution": {
     "iopub.execute_input": "2024-05-31T19:19:43.779825Z",
     "iopub.status.busy": "2024-05-31T19:19:43.779470Z",
     "iopub.status.idle": "2024-05-31T19:19:44.282076Z",
     "shell.execute_reply": "2024-05-31T19:19:44.281124Z"
    },
    "papermill": {
     "duration": 3.313141,
     "end_time": "2024-05-31T19:19:44.284077",
     "exception": false,
     "start_time": "2024-05-31T19:19:40.970936",
     "status": "completed"
    },
    "tags": []
   },
   "outputs": [
    {
     "data": {
      "image/png": "[encoded data removed]",
      "text/plain": [
       "<Figure size 1200x400 with 2 Axes>"
      ]
     },
     "metadata": {},
     "output_type": "display_data"
    }
   ],
   "source": [
    "# Plot accuracy and loss\n",
    "plt.figure(figsize=(12, 4))\n",
    "\n",
    "# Plot training & validation accuracy values\n",
    "plt.subplot(1, 2, 1)\n",
    "plt.plot(history.history['accuracy'])\n",
    "plt.plot(history.history['val_accuracy'])\n",
    "plt.title('Model accuracy')\n",
    "plt.xlabel('Epoch')\n",
    "plt.ylabel('Accuracy')\n",
    "plt.legend(['Train', 'Validation'], loc='upper left')\n",
    "\n",
    "# Plot training & validation loss values\n",
    "plt.subplot(1, 2, 2)\n",
    "plt.plot(history.history['loss'])\n",
    "plt.plot(history.history['val_loss'])\n",
    "plt.title('Model loss')\n",
    "plt.xlabel('Epoch')\n",
    "plt.ylabel('Loss')\n",
    "plt.legend(['Train', 'Validation'], loc='upper left')\n",
    "\n",
    "plt.tight_layout()\n",
    "plt.show()"
   ]
  },
  {
   "cell_type": "code",
   "execution_count": 25,
   "id": "cfad9dca",
   "metadata": {
    "execution": {
     "iopub.execute_input": "2024-05-31T19:19:49.963172Z",
     "iopub.status.busy": "2024-05-31T19:19:49.962778Z",
     "iopub.status.idle": "2024-05-31T19:19:50.018107Z",
     "shell.execute_reply": "2024-05-31T19:19:50.017329Z"
    },
    "papermill": {
     "duration": 2.906875,
     "end_time": "2024-05-31T19:19:50.020298",
     "exception": false,
     "start_time": "2024-05-31T19:19:47.113423",
     "status": "completed"
    },
    "tags": []
   },
   "outputs": [],
   "source": [
    "# simpan model\n",
    "model_save = model2.save('model_skenario2.h5')"
   ]
  },
  {
   "cell_type": "code",
   "execution_count": null,
   "id": "51040222",
   "metadata": {
    "papermill": {
     "duration": 2.871486,
     "end_time": "2024-05-31T19:19:55.724294",
     "exception": false,
     "start_time": "2024-05-31T19:19:52.852808",
     "status": "completed"
    },
    "tags": []
   },
   "outputs": [],
   "source": []
  },
  {
   "cell_type": "markdown",
   "id": "a868d6ee",
   "metadata": {
    "papermill": {
     "duration": 2.828966,
     "end_time": "2024-05-31T19:20:01.399724",
     "exception": false,
     "start_time": "2024-05-31T19:19:58.570758",
     "status": "completed"
    },
    "tags": []
   },
   "source": [
    "## Skenario Transfer Learning VGG16"
   ]
  },
  {
   "cell_type": "code",
   "execution_count": 26,
   "id": "12bd72f9",
   "metadata": {
    "execution": {
     "iopub.execute_input": "2024-05-31T19:20:07.178372Z",
     "iopub.status.busy": "2024-05-31T19:20:07.177997Z",
     "iopub.status.idle": "2024-05-31T19:20:08.105837Z",
     "shell.execute_reply": "2024-05-31T19:20:08.105082Z"
    },
    "papermill": {
     "duration": 3.783255,
     "end_time": "2024-05-31T19:20:08.108045",
     "exception": false,
     "start_time": "2024-05-31T19:20:04.324790",
     "status": "completed"
    },
    "tags": []
   },
   "outputs": [
    {
     "name": "stdout",
     "output_type": "stream",
     "text": [
      "Downloading data from https://storage.googleapis.com/tensorflow/keras-applications/vgg16/vgg16_weights_tf_dim_ordering_tf_kernels_notop.h5\n",
      "\u001b[1m58889256/58889256\u001b[0m \u001b[32m━━━━━━━━━━━━━━━━━━━━\u001b[0m\u001b[37m\u001b[0m \u001b[1m0s\u001b[0m 0us/step\n"
     ]
    }
   ],
   "source": [
    "baseModel = tf.keras.applications.VGG16(weights=\"imagenet\", include_top=False,\n",
    "                                        input_tensor=Input(shape=(32, 32, 3)))"
   ]
  },
  {
   "cell_type": "code",
   "execution_count": 27,
   "id": "5a8ae4c2",
   "metadata": {
    "execution": {
     "iopub.execute_input": "2024-05-31T19:20:13.788118Z",
     "iopub.status.busy": "2024-05-31T19:20:13.787741Z",
     "iopub.status.idle": "2024-05-31T19:20:13.822315Z",
     "shell.execute_reply": "2024-05-31T19:20:13.821522Z"
    },
    "papermill": {
     "duration": 2.83313,
     "end_time": "2024-05-31T19:20:13.824176",
     "exception": false,
     "start_time": "2024-05-31T19:20:10.991046",
     "status": "completed"
    },
    "tags": []
   },
   "outputs": [],
   "source": [
    "headModel = baseModel.output\n",
    "headModel = Flatten(name=\"flatten\")(headModel)\n",
    "headModel = Dense(256, activation=\"relu\")(headModel)\n",
    "headModel = Dense(128, activation=\"relu\")(headModel)\n",
    "headModel = Dense(1, activation=\"sigmoid\")(headModel)\n",
    "\n",
    "modelVGG16 = Model(inputs=baseModel.input, outputs=headModel)"
   ]
  },
  {
   "cell_type": "code",
   "execution_count": null,
   "id": "f2c9e4a4",
   "metadata": {
    "execution": {
     "iopub.execute_input": "2024-05-31T15:40:32.623736Z",
     "iopub.status.busy": "2024-05-31T15:40:32.622996Z",
     "iopub.status.idle": "2024-05-31T15:40:32.627567Z",
     "shell.execute_reply": "2024-05-31T15:40:32.626638Z",
     "shell.execute_reply.started": "2024-05-31T15:40:32.623704Z"
    },
    "papermill": {
     "duration": 2.757047,
     "end_time": "2024-05-31T19:20:19.441556",
     "exception": false,
     "start_time": "2024-05-31T19:20:16.684509",
     "status": "completed"
    },
    "tags": []
   },
   "outputs": [],
   "source": []
  },
  {
   "cell_type": "code",
   "execution_count": 28,
   "id": "92f50395",
   "metadata": {
    "execution": {
     "iopub.execute_input": "2024-05-31T19:20:25.244137Z",
     "iopub.status.busy": "2024-05-31T19:20:25.243493Z",
     "iopub.status.idle": "2024-05-31T19:20:25.259620Z",
     "shell.execute_reply": "2024-05-31T19:20:25.258896Z"
    },
    "papermill": {
     "duration": 2.87984,
     "end_time": "2024-05-31T19:20:25.261599",
     "exception": false,
     "start_time": "2024-05-31T19:20:22.381759",
     "status": "completed"
    },
    "tags": []
   },
   "outputs": [],
   "source": [
    "optimizer = tf.keras.optimizers.Adam(learning_rate = 0.001)\n",
    "modelVGG16.compile(\n",
    "    optimizer = optimizer,\n",
    "    loss = tf.keras.losses.BinaryCrossentropy(),\n",
    "    metrics = ['accuracy', tf.keras.metrics.Precision(), tf.keras.metrics.Recall()]\n",
    ")\n",
    "callback = tf.keras.callbacks.EarlyStopping(monitor='val_loss',patience=2)"
   ]
  },
  {
   "cell_type": "code",
   "execution_count": 29,
   "id": "300efd45",
   "metadata": {
    "execution": {
     "iopub.execute_input": "2024-05-31T19:20:30.922790Z",
     "iopub.status.busy": "2024-05-31T19:20:30.922045Z",
     "iopub.status.idle": "2024-05-31T19:33:03.305308Z",
     "shell.execute_reply": "2024-05-31T19:33:03.304345Z"
    },
    "papermill": {
     "duration": 758.771694,
     "end_time": "2024-05-31T19:33:06.856887",
     "exception": false,
     "start_time": "2024-05-31T19:20:28.085193",
     "status": "completed"
    },
    "tags": []
   },
   "outputs": [
    {
     "name": "stdout",
     "output_type": "stream",
     "text": [
      "Epoch 1/100\n",
      "\u001b[1m   3/3125\u001b[0m \u001b[37m━━━━━━━━━━━━━━━━━━━━\u001b[0m \u001b[1m2:27\u001b[0m 47ms/step - accuracy: 0.5868 - loss: 0.9167 - precision_2: 0.4672 - recall_2: 0.3977   "
     ]
    },
    {
     "name": "stderr",
     "output_type": "stream",
     "text": [
      "W0000 00:00:1717183243.426310      87 graph_launch.cc:671] Fallback to op-by-op mode because memset node breaks graph update\n"
     ]
    },
    {
     "name": "stdout",
     "output_type": "stream",
     "text": [
      "\u001b[1m3125/3125\u001b[0m \u001b[32m━━━━━━━━━━━━━━━━━━━━\u001b[0m\u001b[37m\u001b[0m \u001b[1m0s\u001b[0m 50ms/step - accuracy: 0.7940 - loss: 0.4206 - precision_2: 0.7954 - recall_2: 0.7911"
     ]
    },
    {
     "name": "stderr",
     "output_type": "stream",
     "text": [
      "W0000 00:00:1717183400.966079      87 graph_launch.cc:671] Fallback to op-by-op mode because memset node breaks graph update\n"
     ]
    },
    {
     "name": "stdout",
     "output_type": "stream",
     "text": [
      "\u001b[1m3125/3125\u001b[0m \u001b[32m━━━━━━━━━━━━━━━━━━━━\u001b[0m\u001b[37m\u001b[0m \u001b[1m200s\u001b[0m 60ms/step - accuracy: 0.7941 - loss: 0.4206 - precision_2: 0.7954 - recall_2: 0.7911 - val_accuracy: 0.9268 - val_loss: 0.1850 - val_precision_2: 0.9294 - val_recall_2: 0.9237\n",
      "Epoch 2/100\n",
      "\u001b[1m3125/3125\u001b[0m \u001b[32m━━━━━━━━━━━━━━━━━━━━\u001b[0m\u001b[37m\u001b[0m \u001b[1m186s\u001b[0m 60ms/step - accuracy: 0.9167 - loss: 0.2113 - precision_2: 0.9190 - recall_2: 0.9135 - val_accuracy: 0.9265 - val_loss: 0.1773 - val_precision_2: 0.9596 - val_recall_2: 0.8906\n",
      "Epoch 3/100\n",
      "\u001b[1m3125/3125\u001b[0m \u001b[32m━━━━━━━━━━━━━━━━━━━━\u001b[0m\u001b[37m\u001b[0m \u001b[1m185s\u001b[0m 59ms/step - accuracy: 0.9294 - loss: 0.1838 - precision_2: 0.9312 - recall_2: 0.9274 - val_accuracy: 0.9347 - val_loss: 0.1780 - val_precision_2: 0.9298 - val_recall_2: 0.9404\n",
      "Epoch 4/100\n",
      "\u001b[1m3125/3125\u001b[0m \u001b[32m━━━━━━━━━━━━━━━━━━━━\u001b[0m\u001b[37m\u001b[0m \u001b[1m180s\u001b[0m 58ms/step - accuracy: 0.9131 - loss: 0.2204 - precision_2: 0.9181 - recall_2: 0.9070 - val_accuracy: 0.9208 - val_loss: 0.2010 - val_precision_2: 0.8837 - val_recall_2: 0.9690\n"
     ]
    }
   ],
   "source": [
    "history = modelVGG16.fit(train_dataset,\n",
    "                    validation_data=test_dataset,\n",
    "                    epochs=100,callbacks=[callback]\n",
    ")"
   ]
  },
  {
   "cell_type": "code",
   "execution_count": 30,
   "id": "4aacc52a",
   "metadata": {
    "execution": {
     "iopub.execute_input": "2024-05-31T19:33:13.918345Z",
     "iopub.status.busy": "2024-05-31T19:33:13.917988Z",
     "iopub.status.idle": "2024-05-31T19:33:44.212258Z",
     "shell.execute_reply": "2024-05-31T19:33:44.211175Z"
    },
    "papermill": {
     "duration": 37.120823,
     "end_time": "2024-05-31T19:33:47.537465",
     "exception": false,
     "start_time": "2024-05-31T19:33:10.416642",
     "status": "completed"
    },
    "tags": []
   },
   "outputs": [
    {
     "name": "stdout",
     "output_type": "stream",
     "text": [
      "\u001b[1m  4/625\u001b[0m \u001b[37m━━━━━━━━━━━━━━━━━━━━\u001b[0m \u001b[1m26s\u001b[0m 42ms/step"
     ]
    },
    {
     "name": "stderr",
     "output_type": "stream",
     "text": [
      "W0000 00:00:1717183994.767472      90 graph_launch.cc:671] Fallback to op-by-op mode because memset node breaks graph update\n"
     ]
    },
    {
     "name": "stdout",
     "output_type": "stream",
     "text": [
      "\u001b[1m625/625\u001b[0m \u001b[32m━━━━━━━━━━━━━━━━━━━━\u001b[0m\u001b[37m\u001b[0m \u001b[1m30s\u001b[0m 47ms/step\n"
     ]
    }
   ],
   "source": [
    "# buat prediksi\n",
    "prediksi = modelVGG16.predict(test_dataset)"
   ]
  },
  {
   "cell_type": "code",
   "execution_count": 31,
   "id": "5a255429",
   "metadata": {
    "execution": {
     "iopub.execute_input": "2024-05-31T19:33:55.005366Z",
     "iopub.status.busy": "2024-05-31T19:33:55.004995Z",
     "iopub.status.idle": "2024-05-31T19:33:55.012601Z",
     "shell.execute_reply": "2024-05-31T19:33:55.011572Z"
    },
    "papermill": {
     "duration": 3.848909,
     "end_time": "2024-05-31T19:33:55.014568",
     "exception": false,
     "start_time": "2024-05-31T19:33:51.165659",
     "status": "completed"
    },
    "tags": []
   },
   "outputs": [
    {
     "data": {
      "text/plain": [
       "array([[0],\n",
       "       [0],\n",
       "       [0],\n",
       "       ...,\n",
       "       [1],\n",
       "       [1],\n",
       "       [0]])"
      ]
     },
     "execution_count": 31,
     "metadata": {},
     "output_type": "execute_result"
    }
   ],
   "source": [
    "binary_predictions = (prediksi > 0.5).astype(int)\n",
    "binary_predictions"
   ]
  },
  {
   "cell_type": "code",
   "execution_count": 32,
   "id": "ed7c4a1a",
   "metadata": {
    "execution": {
     "iopub.execute_input": "2024-05-31T19:34:02.496130Z",
     "iopub.status.busy": "2024-05-31T19:34:02.495231Z",
     "iopub.status.idle": "2024-05-31T19:34:33.011540Z",
     "shell.execute_reply": "2024-05-31T19:34:33.010395Z"
    },
    "papermill": {
     "duration": 37.450568,
     "end_time": "2024-05-31T19:34:36.276506",
     "exception": false,
     "start_time": "2024-05-31T19:33:58.825938",
     "status": "completed"
    },
    "tags": []
   },
   "outputs": [
    {
     "name": "stdout",
     "output_type": "stream",
     "text": [
      "\u001b[1m625/625\u001b[0m \u001b[32m━━━━━━━━━━━━━━━━━━━━\u001b[0m\u001b[37m\u001b[0m \u001b[1m30s\u001b[0m 48ms/step\n",
      "\n",
      "Accuracy: 0.92075\n",
      "\n",
      "Confusion Matrix:\n",
      "[[8725 1275]\n",
      " [ 310 9690]]\n",
      "\n",
      "Classification Report:\n",
      "              precision    recall  f1-score   support\n",
      "\n",
      "        FAKE       0.97      0.87      0.92     10000\n",
      "        REAL       0.88      0.97      0.92     10000\n",
      "\n",
      "    accuracy                           0.92     20000\n",
      "   macro avg       0.92      0.92      0.92     20000\n",
      "weighted avg       0.92      0.92      0.92     20000\n",
      "\n",
      "\n",
      "Mean Average Precision (mAP): 0.9825490249870412\n"
     ]
    }
   ],
   "source": [
    "# Make predictions on the test data\n",
    "predict_prob = modelVGG16.predict(test_dataset)\n",
    "labels = [0 if pred < 0.5 else 1 for pred in predict_prob]\n",
    "\n",
    "# Calculate accuracy\n",
    "accuracy = np.sum(np.array(test_dataset.labels) == np.array(labels)) / len(labels)\n",
    "\n",
    "# Print the accuracy\n",
    "print(\"\\nAccuracy:\", accuracy)\n",
    "\n",
    "cm = confusion_matrix(test_dataset.labels, labels)\n",
    "print(\"\\nConfusion Matrix:\")\n",
    "print(cm)\n",
    "\n",
    "# Compute the classification report\n",
    "class_names = test_dataset.class_indices.keys()\n",
    "classification_rep = classification_report(test_dataset.labels, labels, target_names=class_names)\n",
    "print(\"\\nClassification Report:\")\n",
    "print(classification_rep)\n",
    "\n",
    "# Calculate the average precision (mAP)\n",
    "mAP = average_precision_score(test_dataset.labels,  predict_prob)\n",
    "print(\"\\nMean Average Precision (mAP):\", mAP)"
   ]
  },
  {
   "cell_type": "code",
   "execution_count": 33,
   "id": "a03508f3",
   "metadata": {
    "execution": {
     "iopub.execute_input": "2024-05-31T19:34:44.088010Z",
     "iopub.status.busy": "2024-05-31T19:34:44.087561Z",
     "iopub.status.idle": "2024-05-31T19:34:44.413344Z",
     "shell.execute_reply": "2024-05-31T19:34:44.412138Z"
    },
    "papermill": {
     "duration": 4.245134,
     "end_time": "2024-05-31T19:34:44.416294",
     "exception": false,
     "start_time": "2024-05-31T19:34:40.171160",
     "status": "completed"
    },
    "tags": []
   },
   "outputs": [
    {
     "data": {
      "image/png": "[encoded data removed]",
      "text/plain": [
       "<Figure size 640x480 with 2 Axes>"
      ]
     },
     "metadata": {},
     "output_type": "display_data"
    }
   ],
   "source": [
    "import matplotlib.pyplot as plt\n",
    "import seaborn as sns\n",
    "from sklearn.metrics import confusion_matrix, classification_report\n",
    "\n",
    "# Asumsikan `true_labels` dan `binary_predictions` sudah tersedia\n",
    "true_labels = test_dataset.classes\n",
    "\n",
    "# Buat confusion matrix\n",
    "cm = confusion_matrix(true_labels, binary_predictions)\n",
    "\n",
    "# Tampilkan heatmap tanpa notasi eksponensial\n",
    "sns.heatmap(cm, annot=True, fmt='g')  # 'g' memastikan format angka biasa\n",
    "plt.title(\"Confusion Matrix\")\n",
    "plt.xlabel(\"Prediksi\")\n",
    "plt.ylabel(\"Actual Classes\")\n",
    "plt.show()\n",
    "\n",
    "# Print classification report\n",
    "report = classification_report(true_labels, binary_predictions, output_dict=True)"
   ]
  },
  {
   "cell_type": "code",
   "execution_count": 34,
   "id": "bd3e576e",
   "metadata": {
    "execution": {
     "iopub.execute_input": "2024-05-31T19:34:52.234566Z",
     "iopub.status.busy": "2024-05-31T19:34:52.233716Z",
     "iopub.status.idle": "2024-05-31T19:34:52.945448Z",
     "shell.execute_reply": "2024-05-31T19:34:52.944429Z"
    },
    "papermill": {
     "duration": 4.63477,
     "end_time": "2024-05-31T19:34:52.947751",
     "exception": false,
     "start_time": "2024-05-31T19:34:48.312981",
     "status": "completed"
    },
    "tags": []
   },
   "outputs": [
    {
     "data": {
      "image/png": "[encoded data removed]",
      "text/plain": [
       "<Figure size 1200x400 with 2 Axes>"
      ]
     },
     "metadata": {},
     "output_type": "display_data"
    }
   ],
   "source": [
    "# Plot accuracy and loss\n",
    "plt.figure(figsize=(12, 4))\n",
    "\n",
    "# Plot training & validation accuracy values\n",
    "plt.subplot(1, 2, 1)\n",
    "plt.plot(history.history['accuracy'])\n",
    "plt.plot(history.history['val_accuracy'])\n",
    "plt.title('Model accuracy')\n",
    "plt.xlabel('Epoch')\n",
    "plt.ylabel('Accuracy')\n",
    "plt.legend(['Train', 'Validation'], loc='upper left')\n",
    "\n",
    "# Plot training & validation loss values\n",
    "plt.subplot(1, 2, 2)\n",
    "plt.plot(history.history['loss'])\n",
    "plt.plot(history.history['val_loss'])\n",
    "plt.title('Model loss')\n",
    "plt.xlabel('Epoch')\n",
    "plt.ylabel('Loss')\n",
    "plt.legend(['Train', 'Validation'], loc='upper left')\n",
    "\n",
    "plt.tight_layout()\n",
    "plt.show()"
   ]
  },
  {
   "cell_type": "code",
   "execution_count": 35,
   "id": "e18add95",
   "metadata": {
    "execution": {
     "iopub.execute_input": "2024-05-31T19:35:00.778182Z",
     "iopub.status.busy": "2024-05-31T19:35:00.777568Z",
     "iopub.status.idle": "2024-05-31T19:35:01.176908Z",
     "shell.execute_reply": "2024-05-31T19:35:01.176006Z"
    },
    "papermill": {
     "duration": 4.405734,
     "end_time": "2024-05-31T19:35:01.179337",
     "exception": false,
     "start_time": "2024-05-31T19:34:56.773603",
     "status": "completed"
    },
    "tags": []
   },
   "outputs": [],
   "source": [
    "# simpan model\n",
    "model_save = modelVGG16.save('model_vgg16.h5')"
   ]
  },
  {
   "cell_type": "code",
   "execution_count": 36,
   "id": "ab57ed6d",
   "metadata": {
    "execution": {
     "iopub.execute_input": "2024-05-31T19:35:08.814619Z",
     "iopub.status.busy": "2024-05-31T19:35:08.813731Z",
     "iopub.status.idle": "2024-05-31T19:35:09.074372Z",
     "shell.execute_reply": "2024-05-31T19:35:09.073348Z"
    },
    "papermill": {
     "duration": 4.059833,
     "end_time": "2024-05-31T19:35:09.076436",
     "exception": false,
     "start_time": "2024-05-31T19:35:05.016603",
     "status": "completed"
    },
    "tags": []
   },
   "outputs": [
    {
     "data": {
      "text/html": [
       "<pre style=\"white-space:pre;overflow-x:auto;line-height:normal;font-family:Menlo,'DejaVu Sans Mono',consolas,'Courier New',monospace\"><span style=\"font-weight: bold\">Model: \"functional_23\"</span>\n",
       "</pre>\n"
      ],
      "text/plain": [
       "\u001b[1mModel: \"functional_23\"\u001b[0m\n"
      ]
     },
     "metadata": {},
     "output_type": "display_data"
    },
    {
     "data": {
      "text/html": [
       "<pre style=\"white-space:pre;overflow-x:auto;line-height:normal;font-family:Menlo,'DejaVu Sans Mono',consolas,'Courier New',monospace\">┏━━━━━━━━━━━━━━━━━━━━━━━━━━━━━━━━━┳━━━━━━━━━━━━━━━━━━━━━━━━┳━━━━━━━━━━━━━━━┓\n",
       "┃<span style=\"font-weight: bold\"> Layer (type)                    </span>┃<span style=\"font-weight: bold\"> Output Shape           </span>┃<span style=\"font-weight: bold\">       Param # </span>┃\n",
       "┡━━━━━━━━━━━━━━━━━━━━━━━━━━━━━━━━━╇━━━━━━━━━━━━━━━━━━━━━━━━╇━━━━━━━━━━━━━━━┩\n",
       "│ input_layer_2 (<span style=\"color: #0087ff; text-decoration-color: #0087ff\">InputLayer</span>)      │ (<span style=\"color: #00d7ff; text-decoration-color: #00d7ff\">None</span>, <span style=\"color: #00af00; text-decoration-color: #00af00\">32</span>, <span style=\"color: #00af00; text-decoration-color: #00af00\">32</span>, <span style=\"color: #00af00; text-decoration-color: #00af00\">3</span>)      │             <span style=\"color: #00af00; text-decoration-color: #00af00\">0</span> │\n",
       "├─────────────────────────────────┼────────────────────────┼───────────────┤\n",
       "│ block1_conv1 (<span style=\"color: #0087ff; text-decoration-color: #0087ff\">Conv2D</span>)           │ (<span style=\"color: #00d7ff; text-decoration-color: #00d7ff\">None</span>, <span style=\"color: #00af00; text-decoration-color: #00af00\">32</span>, <span style=\"color: #00af00; text-decoration-color: #00af00\">32</span>, <span style=\"color: #00af00; text-decoration-color: #00af00\">64</span>)     │         <span style=\"color: #00af00; text-decoration-color: #00af00\">1,792</span> │\n",
       "├─────────────────────────────────┼────────────────────────┼───────────────┤\n",
       "│ block1_conv2 (<span style=\"color: #0087ff; text-decoration-color: #0087ff\">Conv2D</span>)           │ (<span style=\"color: #00d7ff; text-decoration-color: #00d7ff\">None</span>, <span style=\"color: #00af00; text-decoration-color: #00af00\">32</span>, <span style=\"color: #00af00; text-decoration-color: #00af00\">32</span>, <span style=\"color: #00af00; text-decoration-color: #00af00\">64</span>)     │        <span style=\"color: #00af00; text-decoration-color: #00af00\">36,928</span> │\n",
       "├─────────────────────────────────┼────────────────────────┼───────────────┤\n",
       "│ block1_pool (<span style=\"color: #0087ff; text-decoration-color: #0087ff\">MaxPooling2D</span>)      │ (<span style=\"color: #00d7ff; text-decoration-color: #00d7ff\">None</span>, <span style=\"color: #00af00; text-decoration-color: #00af00\">16</span>, <span style=\"color: #00af00; text-decoration-color: #00af00\">16</span>, <span style=\"color: #00af00; text-decoration-color: #00af00\">64</span>)     │             <span style=\"color: #00af00; text-decoration-color: #00af00\">0</span> │\n",
       "├─────────────────────────────────┼────────────────────────┼───────────────┤\n",
       "│ block2_conv1 (<span style=\"color: #0087ff; text-decoration-color: #0087ff\">Conv2D</span>)           │ (<span style=\"color: #00d7ff; text-decoration-color: #00d7ff\">None</span>, <span style=\"color: #00af00; text-decoration-color: #00af00\">16</span>, <span style=\"color: #00af00; text-decoration-color: #00af00\">16</span>, <span style=\"color: #00af00; text-decoration-color: #00af00\">128</span>)    │        <span style=\"color: #00af00; text-decoration-color: #00af00\">73,856</span> │\n",
       "├─────────────────────────────────┼────────────────────────┼───────────────┤\n",
       "│ block2_conv2 (<span style=\"color: #0087ff; text-decoration-color: #0087ff\">Conv2D</span>)           │ (<span style=\"color: #00d7ff; text-decoration-color: #00d7ff\">None</span>, <span style=\"color: #00af00; text-decoration-color: #00af00\">16</span>, <span style=\"color: #00af00; text-decoration-color: #00af00\">16</span>, <span style=\"color: #00af00; text-decoration-color: #00af00\">128</span>)    │       <span style=\"color: #00af00; text-decoration-color: #00af00\">147,584</span> │\n",
       "├─────────────────────────────────┼────────────────────────┼───────────────┤\n",
       "│ block2_pool (<span style=\"color: #0087ff; text-decoration-color: #0087ff\">MaxPooling2D</span>)      │ (<span style=\"color: #00d7ff; text-decoration-color: #00d7ff\">None</span>, <span style=\"color: #00af00; text-decoration-color: #00af00\">8</span>, <span style=\"color: #00af00; text-decoration-color: #00af00\">8</span>, <span style=\"color: #00af00; text-decoration-color: #00af00\">128</span>)      │             <span style=\"color: #00af00; text-decoration-color: #00af00\">0</span> │\n",
       "├─────────────────────────────────┼────────────────────────┼───────────────┤\n",
       "│ block3_conv1 (<span style=\"color: #0087ff; text-decoration-color: #0087ff\">Conv2D</span>)           │ (<span style=\"color: #00d7ff; text-decoration-color: #00d7ff\">None</span>, <span style=\"color: #00af00; text-decoration-color: #00af00\">8</span>, <span style=\"color: #00af00; text-decoration-color: #00af00\">8</span>, <span style=\"color: #00af00; text-decoration-color: #00af00\">256</span>)      │       <span style=\"color: #00af00; text-decoration-color: #00af00\">295,168</span> │\n",
       "├─────────────────────────────────┼────────────────────────┼───────────────┤\n",
       "│ block3_conv2 (<span style=\"color: #0087ff; text-decoration-color: #0087ff\">Conv2D</span>)           │ (<span style=\"color: #00d7ff; text-decoration-color: #00d7ff\">None</span>, <span style=\"color: #00af00; text-decoration-color: #00af00\">8</span>, <span style=\"color: #00af00; text-decoration-color: #00af00\">8</span>, <span style=\"color: #00af00; text-decoration-color: #00af00\">256</span>)      │       <span style=\"color: #00af00; text-decoration-color: #00af00\">590,080</span> │\n",
       "├─────────────────────────────────┼────────────────────────┼───────────────┤\n",
       "│ block3_conv3 (<span style=\"color: #0087ff; text-decoration-color: #0087ff\">Conv2D</span>)           │ (<span style=\"color: #00d7ff; text-decoration-color: #00d7ff\">None</span>, <span style=\"color: #00af00; text-decoration-color: #00af00\">8</span>, <span style=\"color: #00af00; text-decoration-color: #00af00\">8</span>, <span style=\"color: #00af00; text-decoration-color: #00af00\">256</span>)      │       <span style=\"color: #00af00; text-decoration-color: #00af00\">590,080</span> │\n",
       "├─────────────────────────────────┼────────────────────────┼───────────────┤\n",
       "│ block3_pool (<span style=\"color: #0087ff; text-decoration-color: #0087ff\">MaxPooling2D</span>)      │ (<span style=\"color: #00d7ff; text-decoration-color: #00d7ff\">None</span>, <span style=\"color: #00af00; text-decoration-color: #00af00\">4</span>, <span style=\"color: #00af00; text-decoration-color: #00af00\">4</span>, <span style=\"color: #00af00; text-decoration-color: #00af00\">256</span>)      │             <span style=\"color: #00af00; text-decoration-color: #00af00\">0</span> │\n",
       "├─────────────────────────────────┼────────────────────────┼───────────────┤\n",
       "│ block4_conv1 (<span style=\"color: #0087ff; text-decoration-color: #0087ff\">Conv2D</span>)           │ (<span style=\"color: #00d7ff; text-decoration-color: #00d7ff\">None</span>, <span style=\"color: #00af00; text-decoration-color: #00af00\">4</span>, <span style=\"color: #00af00; text-decoration-color: #00af00\">4</span>, <span style=\"color: #00af00; text-decoration-color: #00af00\">512</span>)      │     <span style=\"color: #00af00; text-decoration-color: #00af00\">1,180,160</span> │\n",
       "├─────────────────────────────────┼────────────────────────┼───────────────┤\n",
       "│ block4_conv2 (<span style=\"color: #0087ff; text-decoration-color: #0087ff\">Conv2D</span>)           │ (<span style=\"color: #00d7ff; text-decoration-color: #00d7ff\">None</span>, <span style=\"color: #00af00; text-decoration-color: #00af00\">4</span>, <span style=\"color: #00af00; text-decoration-color: #00af00\">4</span>, <span style=\"color: #00af00; text-decoration-color: #00af00\">512</span>)      │     <span style=\"color: #00af00; text-decoration-color: #00af00\">2,359,808</span> │\n",
       "├─────────────────────────────────┼────────────────────────┼───────────────┤\n",
       "│ block4_conv3 (<span style=\"color: #0087ff; text-decoration-color: #0087ff\">Conv2D</span>)           │ (<span style=\"color: #00d7ff; text-decoration-color: #00d7ff\">None</span>, <span style=\"color: #00af00; text-decoration-color: #00af00\">4</span>, <span style=\"color: #00af00; text-decoration-color: #00af00\">4</span>, <span style=\"color: #00af00; text-decoration-color: #00af00\">512</span>)      │     <span style=\"color: #00af00; text-decoration-color: #00af00\">2,359,808</span> │\n",
       "├─────────────────────────────────┼────────────────────────┼───────────────┤\n",
       "│ block4_pool (<span style=\"color: #0087ff; text-decoration-color: #0087ff\">MaxPooling2D</span>)      │ (<span style=\"color: #00d7ff; text-decoration-color: #00d7ff\">None</span>, <span style=\"color: #00af00; text-decoration-color: #00af00\">2</span>, <span style=\"color: #00af00; text-decoration-color: #00af00\">2</span>, <span style=\"color: #00af00; text-decoration-color: #00af00\">512</span>)      │             <span style=\"color: #00af00; text-decoration-color: #00af00\">0</span> │\n",
       "├─────────────────────────────────┼────────────────────────┼───────────────┤\n",
       "│ block5_conv1 (<span style=\"color: #0087ff; text-decoration-color: #0087ff\">Conv2D</span>)           │ (<span style=\"color: #00d7ff; text-decoration-color: #00d7ff\">None</span>, <span style=\"color: #00af00; text-decoration-color: #00af00\">2</span>, <span style=\"color: #00af00; text-decoration-color: #00af00\">2</span>, <span style=\"color: #00af00; text-decoration-color: #00af00\">512</span>)      │     <span style=\"color: #00af00; text-decoration-color: #00af00\">2,359,808</span> │\n",
       "├─────────────────────────────────┼────────────────────────┼───────────────┤\n",
       "│ block5_conv2 (<span style=\"color: #0087ff; text-decoration-color: #0087ff\">Conv2D</span>)           │ (<span style=\"color: #00d7ff; text-decoration-color: #00d7ff\">None</span>, <span style=\"color: #00af00; text-decoration-color: #00af00\">2</span>, <span style=\"color: #00af00; text-decoration-color: #00af00\">2</span>, <span style=\"color: #00af00; text-decoration-color: #00af00\">512</span>)      │     <span style=\"color: #00af00; text-decoration-color: #00af00\">2,359,808</span> │\n",
       "├─────────────────────────────────┼────────────────────────┼───────────────┤\n",
       "│ block5_conv3 (<span style=\"color: #0087ff; text-decoration-color: #0087ff\">Conv2D</span>)           │ (<span style=\"color: #00d7ff; text-decoration-color: #00d7ff\">None</span>, <span style=\"color: #00af00; text-decoration-color: #00af00\">2</span>, <span style=\"color: #00af00; text-decoration-color: #00af00\">2</span>, <span style=\"color: #00af00; text-decoration-color: #00af00\">512</span>)      │     <span style=\"color: #00af00; text-decoration-color: #00af00\">2,359,808</span> │\n",
       "├─────────────────────────────────┼────────────────────────┼───────────────┤\n",
       "│ block5_pool (<span style=\"color: #0087ff; text-decoration-color: #0087ff\">MaxPooling2D</span>)      │ (<span style=\"color: #00d7ff; text-decoration-color: #00d7ff\">None</span>, <span style=\"color: #00af00; text-decoration-color: #00af00\">1</span>, <span style=\"color: #00af00; text-decoration-color: #00af00\">1</span>, <span style=\"color: #00af00; text-decoration-color: #00af00\">512</span>)      │             <span style=\"color: #00af00; text-decoration-color: #00af00\">0</span> │\n",
       "├─────────────────────────────────┼────────────────────────┼───────────────┤\n",
       "│ flatten (<span style=\"color: #0087ff; text-decoration-color: #0087ff\">Flatten</span>)               │ (<span style=\"color: #00d7ff; text-decoration-color: #00d7ff\">None</span>, <span style=\"color: #00af00; text-decoration-color: #00af00\">512</span>)            │             <span style=\"color: #00af00; text-decoration-color: #00af00\">0</span> │\n",
       "├─────────────────────────────────┼────────────────────────┼───────────────┤\n",
       "│ dense_4 (<span style=\"color: #0087ff; text-decoration-color: #0087ff\">Dense</span>)                 │ (<span style=\"color: #00d7ff; text-decoration-color: #00d7ff\">None</span>, <span style=\"color: #00af00; text-decoration-color: #00af00\">256</span>)            │       <span style=\"color: #00af00; text-decoration-color: #00af00\">131,328</span> │\n",
       "├─────────────────────────────────┼────────────────────────┼───────────────┤\n",
       "│ dense_5 (<span style=\"color: #0087ff; text-decoration-color: #0087ff\">Dense</span>)                 │ (<span style=\"color: #00d7ff; text-decoration-color: #00d7ff\">None</span>, <span style=\"color: #00af00; text-decoration-color: #00af00\">128</span>)            │        <span style=\"color: #00af00; text-decoration-color: #00af00\">32,896</span> │\n",
       "├─────────────────────────────────┼────────────────────────┼───────────────┤\n",
       "│ dense_6 (<span style=\"color: #0087ff; text-decoration-color: #0087ff\">Dense</span>)                 │ (<span style=\"color: #00d7ff; text-decoration-color: #00d7ff\">None</span>, <span style=\"color: #00af00; text-decoration-color: #00af00\">1</span>)              │           <span style=\"color: #00af00; text-decoration-color: #00af00\">129</span> │\n",
       "└─────────────────────────────────┴────────────────────────┴───────────────┘\n",
       "</pre>\n"
      ],
      "text/plain": [
       "┏━━━━━━━━━━━━━━━━━━━━━━━━━━━━━━━━━┳━━━━━━━━━━━━━━━━━━━━━━━━┳━━━━━━━━━━━━━━━┓\n",
       "┃\u001b[1m \u001b[0m\u001b[1mLayer (type)                   \u001b[0m\u001b[1m \u001b[0m┃\u001b[1m \u001b[0m\u001b[1mOutput Shape          \u001b[0m\u001b[1m \u001b[0m┃\u001b[1m \u001b[0m\u001b[1m      Param #\u001b[0m\u001b[1m \u001b[0m┃\n",
       "┡━━━━━━━━━━━━━━━━━━━━━━━━━━━━━━━━━╇━━━━━━━━━━━━━━━━━━━━━━━━╇━━━━━━━━━━━━━━━┩\n",
       "│ input_layer_2 (\u001b[38;5;33mInputLayer\u001b[0m)      │ (\u001b[38;5;45mNone\u001b[0m, \u001b[38;5;34m32\u001b[0m, \u001b[38;5;34m32\u001b[0m, \u001b[38;5;34m3\u001b[0m)      │             \u001b[38;5;34m0\u001b[0m │\n",
       "├─────────────────────────────────┼────────────────────────┼───────────────┤\n",
       "│ block1_conv1 (\u001b[38;5;33mConv2D\u001b[0m)           │ (\u001b[38;5;45mNone\u001b[0m, \u001b[38;5;34m32\u001b[0m, \u001b[38;5;34m32\u001b[0m, \u001b[38;5;34m64\u001b[0m)     │         \u001b[38;5;34m1,792\u001b[0m │\n",
       "├─────────────────────────────────┼────────────────────────┼───────────────┤\n",
       "│ block1_conv2 (\u001b[38;5;33mConv2D\u001b[0m)           │ (\u001b[38;5;45mNone\u001b[0m, \u001b[38;5;34m32\u001b[0m, \u001b[38;5;34m32\u001b[0m, \u001b[38;5;34m64\u001b[0m)     │        \u001b[38;5;34m36,928\u001b[0m │\n",
       "├─────────────────────────────────┼────────────────────────┼───────────────┤\n",
       "│ block1_pool (\u001b[38;5;33mMaxPooling2D\u001b[0m)      │ (\u001b[38;5;45mNone\u001b[0m, \u001b[38;5;34m16\u001b[0m, \u001b[38;5;34m16\u001b[0m, \u001b[38;5;34m64\u001b[0m)     │             \u001b[38;5;34m0\u001b[0m │\n",
       "├─────────────────────────────────┼────────────────────────┼───────────────┤\n",
       "│ block2_conv1 (\u001b[38;5;33mConv2D\u001b[0m)           │ (\u001b[38;5;45mNone\u001b[0m, \u001b[38;5;34m16\u001b[0m, \u001b[38;5;34m16\u001b[0m, \u001b[38;5;34m128\u001b[0m)    │        \u001b[38;5;34m73,856\u001b[0m │\n",
       "├─────────────────────────────────┼────────────────────────┼───────────────┤\n",
       "│ block2_conv2 (\u001b[38;5;33mConv2D\u001b[0m)           │ (\u001b[38;5;45mNone\u001b[0m, \u001b[38;5;34m16\u001b[0m, \u001b[38;5;34m16\u001b[0m, \u001b[38;5;34m128\u001b[0m)    │       \u001b[38;5;34m147,584\u001b[0m │\n",
       "├─────────────────────────────────┼────────────────────────┼───────────────┤\n",
       "│ block2_pool (\u001b[38;5;33mMaxPooling2D\u001b[0m)      │ (\u001b[38;5;45mNone\u001b[0m, \u001b[38;5;34m8\u001b[0m, \u001b[38;5;34m8\u001b[0m, \u001b[38;5;34m128\u001b[0m)      │             \u001b[38;5;34m0\u001b[0m │\n",
       "├─────────────────────────────────┼────────────────────────┼───────────────┤\n",
       "│ block3_conv1 (\u001b[38;5;33mConv2D\u001b[0m)           │ (\u001b[38;5;45mNone\u001b[0m, \u001b[38;5;34m8\u001b[0m, \u001b[38;5;34m8\u001b[0m, \u001b[38;5;34m256\u001b[0m)      │       \u001b[38;5;34m295,168\u001b[0m │\n",
       "├─────────────────────────────────┼────────────────────────┼───────────────┤\n",
       "│ block3_conv2 (\u001b[38;5;33mConv2D\u001b[0m)           │ (\u001b[38;5;45mNone\u001b[0m, \u001b[38;5;34m8\u001b[0m, \u001b[38;5;34m8\u001b[0m, \u001b[38;5;34m256\u001b[0m)      │       \u001b[38;5;34m590,080\u001b[0m │\n",
       "├─────────────────────────────────┼────────────────────────┼───────────────┤\n",
       "│ block3_conv3 (\u001b[38;5;33mConv2D\u001b[0m)           │ (\u001b[38;5;45mNone\u001b[0m, \u001b[38;5;34m8\u001b[0m, \u001b[38;5;34m8\u001b[0m, \u001b[38;5;34m256\u001b[0m)      │       \u001b[38;5;34m590,080\u001b[0m │\n",
       "├─────────────────────────────────┼────────────────────────┼───────────────┤\n",
       "│ block3_pool (\u001b[38;5;33mMaxPooling2D\u001b[0m)      │ (\u001b[38;5;45mNone\u001b[0m, \u001b[38;5;34m4\u001b[0m, \u001b[38;5;34m4\u001b[0m, \u001b[38;5;34m256\u001b[0m)      │             \u001b[38;5;34m0\u001b[0m │\n",
       "├─────────────────────────────────┼────────────────────────┼───────────────┤\n",
       "│ block4_conv1 (\u001b[38;5;33mConv2D\u001b[0m)           │ (\u001b[38;5;45mNone\u001b[0m, \u001b[38;5;34m4\u001b[0m, \u001b[38;5;34m4\u001b[0m, \u001b[38;5;34m512\u001b[0m)      │     \u001b[38;5;34m1,180,160\u001b[0m │\n",
       "├─────────────────────────────────┼────────────────────────┼───────────────┤\n",
       "│ block4_conv2 (\u001b[38;5;33mConv2D\u001b[0m)           │ (\u001b[38;5;45mNone\u001b[0m, \u001b[38;5;34m4\u001b[0m, \u001b[38;5;34m4\u001b[0m, \u001b[38;5;34m512\u001b[0m)      │     \u001b[38;5;34m2,359,808\u001b[0m │\n",
       "├─────────────────────────────────┼────────────────────────┼───────────────┤\n",
       "│ block4_conv3 (\u001b[38;5;33mConv2D\u001b[0m)           │ (\u001b[38;5;45mNone\u001b[0m, \u001b[38;5;34m4\u001b[0m, \u001b[38;5;34m4\u001b[0m, \u001b[38;5;34m512\u001b[0m)      │     \u001b[38;5;34m2,359,808\u001b[0m │\n",
       "├─────────────────────────────────┼────────────────────────┼───────────────┤\n",
       "│ block4_pool (\u001b[38;5;33mMaxPooling2D\u001b[0m)      │ (\u001b[38;5;45mNone\u001b[0m, \u001b[38;5;34m2\u001b[0m, \u001b[38;5;34m2\u001b[0m, \u001b[38;5;34m512\u001b[0m)      │             \u001b[38;5;34m0\u001b[0m │\n",
       "├─────────────────────────────────┼────────────────────────┼───────────────┤\n",
       "│ block5_conv1 (\u001b[38;5;33mConv2D\u001b[0m)           │ (\u001b[38;5;45mNone\u001b[0m, \u001b[38;5;34m2\u001b[0m, \u001b[38;5;34m2\u001b[0m, \u001b[38;5;34m512\u001b[0m)      │     \u001b[38;5;34m2,359,808\u001b[0m │\n",
       "├─────────────────────────────────┼────────────────────────┼───────────────┤\n",
       "│ block5_conv2 (\u001b[38;5;33mConv2D\u001b[0m)           │ (\u001b[38;5;45mNone\u001b[0m, \u001b[38;5;34m2\u001b[0m, \u001b[38;5;34m2\u001b[0m, \u001b[38;5;34m512\u001b[0m)      │     \u001b[38;5;34m2,359,808\u001b[0m │\n",
       "├─────────────────────────────────┼────────────────────────┼───────────────┤\n",
       "│ block5_conv3 (\u001b[38;5;33mConv2D\u001b[0m)           │ (\u001b[38;5;45mNone\u001b[0m, \u001b[38;5;34m2\u001b[0m, \u001b[38;5;34m2\u001b[0m, \u001b[38;5;34m512\u001b[0m)      │     \u001b[38;5;34m2,359,808\u001b[0m │\n",
       "├─────────────────────────────────┼────────────────────────┼───────────────┤\n",
       "│ block5_pool (\u001b[38;5;33mMaxPooling2D\u001b[0m)      │ (\u001b[38;5;45mNone\u001b[0m, \u001b[38;5;34m1\u001b[0m, \u001b[38;5;34m1\u001b[0m, \u001b[38;5;34m512\u001b[0m)      │             \u001b[38;5;34m0\u001b[0m │\n",
       "├─────────────────────────────────┼────────────────────────┼───────────────┤\n",
       "│ flatten (\u001b[38;5;33mFlatten\u001b[0m)               │ (\u001b[38;5;45mNone\u001b[0m, \u001b[38;5;34m512\u001b[0m)            │             \u001b[38;5;34m0\u001b[0m │\n",
       "├─────────────────────────────────┼────────────────────────┼───────────────┤\n",
       "│ dense_4 (\u001b[38;5;33mDense\u001b[0m)                 │ (\u001b[38;5;45mNone\u001b[0m, \u001b[38;5;34m256\u001b[0m)            │       \u001b[38;5;34m131,328\u001b[0m │\n",
       "├─────────────────────────────────┼────────────────────────┼───────────────┤\n",
       "│ dense_5 (\u001b[38;5;33mDense\u001b[0m)                 │ (\u001b[38;5;45mNone\u001b[0m, \u001b[38;5;34m128\u001b[0m)            │        \u001b[38;5;34m32,896\u001b[0m │\n",
       "├─────────────────────────────────┼────────────────────────┼───────────────┤\n",
       "│ dense_6 (\u001b[38;5;33mDense\u001b[0m)                 │ (\u001b[38;5;45mNone\u001b[0m, \u001b[38;5;34m1\u001b[0m)              │           \u001b[38;5;34m129\u001b[0m │\n",
       "└─────────────────────────────────┴────────────────────────┴───────────────┘\n"
      ]
     },
     "metadata": {},
     "output_type": "display_data"
    },
    {
     "data": {
      "text/html": [
       "<pre style=\"white-space:pre;overflow-x:auto;line-height:normal;font-family:Menlo,'DejaVu Sans Mono',consolas,'Courier New',monospace\"><span style=\"font-weight: bold\"> Total params: </span><span style=\"color: #00af00; text-decoration-color: #00af00\">14,879,043</span> (56.76 MB)\n",
       "</pre>\n"
      ],
      "text/plain": [
       "\u001b[1m Total params: \u001b[0m\u001b[38;5;34m14,879,043\u001b[0m (56.76 MB)\n"
      ]
     },
     "metadata": {},
     "output_type": "display_data"
    },
    {
     "data": {
      "text/html": [
       "<pre style=\"white-space:pre;overflow-x:auto;line-height:normal;font-family:Menlo,'DejaVu Sans Mono',consolas,'Courier New',monospace\"><span style=\"font-weight: bold\"> Trainable params: </span><span style=\"color: #00af00; text-decoration-color: #00af00\">14,879,041</span> (56.76 MB)\n",
       "</pre>\n"
      ],
      "text/plain": [
       "\u001b[1m Trainable params: \u001b[0m\u001b[38;5;34m14,879,041\u001b[0m (56.76 MB)\n"
      ]
     },
     "metadata": {},
     "output_type": "display_data"
    },
    {
     "data": {
      "text/html": [
       "<pre style=\"white-space:pre;overflow-x:auto;line-height:normal;font-family:Menlo,'DejaVu Sans Mono',consolas,'Courier New',monospace\"><span style=\"font-weight: bold\"> Non-trainable params: </span><span style=\"color: #00af00; text-decoration-color: #00af00\">0</span> (0.00 B)\n",
       "</pre>\n"
      ],
      "text/plain": [
       "\u001b[1m Non-trainable params: \u001b[0m\u001b[38;5;34m0\u001b[0m (0.00 B)\n"
      ]
     },
     "metadata": {},
     "output_type": "display_data"
    },
    {
     "data": {
      "text/html": [
       "<pre style=\"white-space:pre;overflow-x:auto;line-height:normal;font-family:Menlo,'DejaVu Sans Mono',consolas,'Courier New',monospace\"><span style=\"font-weight: bold\"> Optimizer params: </span><span style=\"color: #00af00; text-decoration-color: #00af00\">2</span> (12.00 B)\n",
       "</pre>\n"
      ],
      "text/plain": [
       "\u001b[1m Optimizer params: \u001b[0m\u001b[38;5;34m2\u001b[0m (12.00 B)\n"
      ]
     },
     "metadata": {},
     "output_type": "display_data"
    }
   ],
   "source": [
    "# define dependency \n",
    "from tensorflow.keras.models import load_model\n",
    "\n",
    "# load model \n",
    "model = load_model('model_vgg16.h5')\n",
    "\n",
    "# check model info \n",
    "model.summary()"
   ]
  },
  {
   "cell_type": "code",
   "execution_count": null,
   "id": "e670210f",
   "metadata": {
    "papermill": {
     "duration": 3.903141,
     "end_time": "2024-05-31T19:35:16.829486",
     "exception": false,
     "start_time": "2024-05-31T19:35:12.926345",
     "status": "completed"
    },
    "tags": []
   },
   "outputs": [],
   "source": []
  },
  {
   "cell_type": "markdown",
   "id": "d7d9c50b",
   "metadata": {
    "papermill": {
     "duration": 3.785531,
     "end_time": "2024-05-31T19:35:24.435290",
     "exception": false,
     "start_time": "2024-05-31T19:35:20.649759",
     "status": "completed"
    },
    "tags": []
   },
   "source": [
    "### Test data diluar dataset"
   ]
  },
  {
   "cell_type": "code",
   "execution_count": 37,
   "id": "43f30927",
   "metadata": {
    "execution": {
     "iopub.execute_input": "2024-05-31T19:35:31.967200Z",
     "iopub.status.busy": "2024-05-31T19:35:31.966415Z",
     "iopub.status.idle": "2024-05-31T19:35:32.309612Z",
     "shell.execute_reply": "2024-05-31T19:35:32.308575Z"
    },
    "papermill": {
     "duration": 4.225344,
     "end_time": "2024-05-31T19:35:32.312274",
     "exception": false,
     "start_time": "2024-05-31T19:35:28.086930",
     "status": "completed"
    },
    "tags": []
   },
   "outputs": [
    {
     "data": {
      "image/png": "[encoded data removed]",
      "text/plain": [
       "<Figure size 1000x500 with 2 Axes>"
      ]
     },
     "metadata": {},
     "output_type": "display_data"
    }
   ],
   "source": [
    "from PIL import Image\n",
    "import matplotlib.pyplot as plt\n",
    "\n",
    "# Open the original image\n",
    "im = Image.open(\"/kaggle/input/cifake-real-and-ai-generated-synthetic-images/train/FAKE/1000 (2).jpg\")\n",
    "\n",
    "# Define the new size\n",
    "new_size = (256, 256)\n",
    "\n",
    "# Resize the image\n",
    "im_resized = im.resize(new_size)\n",
    "\n",
    "# Plot the original and resized images\n",
    "plt.figure(figsize=(10, 5))\n",
    "\n",
    "# Plot the original image\n",
    "plt.subplot(1, 2, 1)\n",
    "plt.imshow(im)\n",
    "plt.title('Original Image')\n",
    "plt.axis('off')\n",
    "\n",
    "# Plot the resized image\n",
    "plt.subplot(1, 2, 2)\n",
    "plt.imshow(im_resized)\n",
    "plt.title('Resized Image (256x256)')\n",
    "plt.axis('off')\n",
    "\n",
    "plt.show()"
   ]
  },
  {
   "cell_type": "code",
   "execution_count": 38,
   "id": "50a81b44",
   "metadata": {
    "execution": {
     "iopub.execute_input": "2024-05-31T19:35:40.166114Z",
     "iopub.status.busy": "2024-05-31T19:35:40.165698Z",
     "iopub.status.idle": "2024-05-31T19:35:40.170372Z",
     "shell.execute_reply": "2024-05-31T19:35:40.169357Z"
    },
    "papermill": {
     "duration": 3.969034,
     "end_time": "2024-05-31T19:35:40.172736",
     "exception": false,
     "start_time": "2024-05-31T19:35:36.203702",
     "status": "completed"
    },
    "tags": []
   },
   "outputs": [],
   "source": [
    "# test_dir = \"/kaggle/input/data-testing/data luar\"\n",
    "test_dir = \"/kaggle/input/data-testing/data_luar_v2/data_luar_v2\""
   ]
  },
  {
   "cell_type": "code",
   "execution_count": 39,
   "id": "d20d7b1b",
   "metadata": {
    "execution": {
     "iopub.execute_input": "2024-05-31T19:35:47.940159Z",
     "iopub.status.busy": "2024-05-31T19:35:47.939373Z",
     "iopub.status.idle": "2024-05-31T19:35:47.956383Z",
     "shell.execute_reply": "2024-05-31T19:35:47.955600Z"
    },
    "papermill": {
     "duration": 3.946135,
     "end_time": "2024-05-31T19:35:47.958410",
     "exception": false,
     "start_time": "2024-05-31T19:35:44.012275",
     "status": "completed"
    },
    "tags": []
   },
   "outputs": [
    {
     "name": "stdout",
     "output_type": "stream",
     "text": [
      "Found 20 images belonging to 2 classes.\n"
     ]
    }
   ],
   "source": [
    "test_datagen = ImageDataGenerator(rescale=1./255)\n",
    "test_generator = test_datagen.flow_from_directory(test_dir, target_size=(32,32),\n",
    "                                                  class_mode='binary', shuffle=False)"
   ]
  },
  {
   "cell_type": "code",
   "execution_count": 40,
   "id": "96222442",
   "metadata": {
    "execution": {
     "iopub.execute_input": "2024-05-31T19:35:55.995145Z",
     "iopub.status.busy": "2024-05-31T19:35:55.994413Z",
     "iopub.status.idle": "2024-05-31T19:35:56.436032Z",
     "shell.execute_reply": "2024-05-31T19:35:56.435207Z"
    },
    "papermill": {
     "duration": 4.382636,
     "end_time": "2024-05-31T19:35:56.438187",
     "exception": false,
     "start_time": "2024-05-31T19:35:52.055551",
     "status": "completed"
    },
    "tags": []
   },
   "outputs": [],
   "source": [
    "model1 = load_model('/kaggle/working/model_skenario1.h5')\n",
    "model2 = load_model('/kaggle/working/model_skenario2.h5')\n",
    "modelVGG16 = load_model('/kaggle/working/model_vgg16.h5')"
   ]
  },
  {
   "cell_type": "markdown",
   "id": "13620589",
   "metadata": {
    "papermill": {
     "duration": 3.78268,
     "end_time": "2024-05-31T19:36:04.046360",
     "exception": false,
     "start_time": "2024-05-31T19:36:00.263680",
     "status": "completed"
    },
    "tags": []
   },
   "source": [
    "#### akurasi model"
   ]
  },
  {
   "cell_type": "code",
   "execution_count": 41,
   "id": "d57220e0",
   "metadata": {
    "execution": {
     "iopub.execute_input": "2024-05-31T19:36:11.731395Z",
     "iopub.status.busy": "2024-05-31T19:36:11.730423Z",
     "iopub.status.idle": "2024-05-31T19:36:13.424509Z",
     "shell.execute_reply": "2024-05-31T19:36:13.423416Z"
    },
    "papermill": {
     "duration": 5.590725,
     "end_time": "2024-05-31T19:36:13.426507",
     "exception": false,
     "start_time": "2024-05-31T19:36:07.835782",
     "status": "completed"
    },
    "tags": []
   },
   "outputs": [
    {
     "name": "stderr",
     "output_type": "stream",
     "text": [
      "/opt/conda/lib/python3.10/site-packages/keras/src/trainers/data_adapters/py_dataset_adapter.py:121: UserWarning: Your `PyDataset` class should call `super().__init__(**kwargs)` in its constructor. `**kwargs` can include `workers`, `use_multiprocessing`, `max_queue_size`. Do not pass these arguments to `fit()`, as they will be ignored.\n",
      "  self._warn_if_super_not_called()\n"
     ]
    },
    {
     "name": "stdout",
     "output_type": "stream",
     "text": [
      "\u001b[1m1/1\u001b[0m \u001b[32m━━━━━━━━━━━━━━━━━━━━\u001b[0m\u001b[37m\u001b[0m \u001b[1m2s\u001b[0m 2s/step - accuracy: 0.6500 - loss: 1.2075 - precision: 0.6000 - recall: 0.9000\n",
      "Baseline error: 0.35\n",
      "Accuracy = 0.65\n"
     ]
    }
   ],
   "source": [
    "# model 1\n",
    "scores = model1.evaluate(test_generator)\n",
    "\n",
    "print('Baseline error: %.2f' % (1-scores[1]))\n",
    "print(\"Accuracy = %.2f\" %scores[1])"
   ]
  },
  {
   "cell_type": "code",
   "execution_count": 42,
   "id": "89c6fea0",
   "metadata": {
    "execution": {
     "iopub.execute_input": "2024-05-31T19:36:21.034142Z",
     "iopub.status.busy": "2024-05-31T19:36:21.033306Z",
     "iopub.status.idle": "2024-05-31T19:36:23.050270Z",
     "shell.execute_reply": "2024-05-31T19:36:23.049168Z"
    },
    "papermill": {
     "duration": 5.84935,
     "end_time": "2024-05-31T19:36:23.052566",
     "exception": false,
     "start_time": "2024-05-31T19:36:17.203216",
     "status": "completed"
    },
    "tags": []
   },
   "outputs": [
    {
     "name": "stdout",
     "output_type": "stream",
     "text": [
      "\u001b[1m1/1\u001b[0m \u001b[32m━━━━━━━━━━━━━━━━━━━━\u001b[0m\u001b[37m\u001b[0m \u001b[1m2s\u001b[0m 2s/step - accuracy: 0.6000 - loss: 1.2172 - precision_1: 0.5625 - recall_1: 0.9000\n",
      "Baseline error: 0.40\n",
      "Accuracy = 0.60\n"
     ]
    },
    {
     "name": "stderr",
     "output_type": "stream",
     "text": [
      "W0000 00:00:1717184182.851270      87 graph_launch.cc:671] Fallback to op-by-op mode because memset node breaks graph update\n"
     ]
    }
   ],
   "source": [
    "# model 2\n",
    "scores = model2.evaluate(test_generator)\n",
    "\n",
    "print('Baseline error: %.2f' % (1-scores[1]))\n",
    "print(\"Accuracy = %.2f\" %scores[1])"
   ]
  },
  {
   "cell_type": "code",
   "execution_count": 43,
   "id": "b685ec59",
   "metadata": {
    "execution": {
     "iopub.execute_input": "2024-05-31T19:36:30.569741Z",
     "iopub.status.busy": "2024-05-31T19:36:30.569355Z",
     "iopub.status.idle": "2024-05-31T19:36:34.070714Z",
     "shell.execute_reply": "2024-05-31T19:36:34.069659Z"
    },
    "papermill": {
     "duration": 7.287665,
     "end_time": "2024-05-31T19:36:34.072868",
     "exception": false,
     "start_time": "2024-05-31T19:36:26.785203",
     "status": "completed"
    },
    "tags": []
   },
   "outputs": [
    {
     "name": "stdout",
     "output_type": "stream",
     "text": [
      "\u001b[1m1/1\u001b[0m \u001b[32m━━━━━━━━━━━━━━━━━━━━\u001b[0m\u001b[37m\u001b[0m \u001b[1m3s\u001b[0m 3s/step - accuracy: 0.6000 - loss: 0.9651 - precision_2: 0.5625 - recall_2: 0.9000\n",
      "Baseline error: 0.40\n",
      "Accuracy = 0.60\n"
     ]
    }
   ],
   "source": [
    "# model vgg16\n",
    "scores = modelVGG16.evaluate(test_generator)\n",
    "\n",
    "print('Baseline error: %.2f' % (1-scores[1]))\n",
    "print(\"Accuracy = %.2f\" %scores[1])"
   ]
  },
  {
   "cell_type": "code",
   "execution_count": 44,
   "id": "a1ef6015",
   "metadata": {
    "execution": {
     "iopub.execute_input": "2024-05-31T19:36:41.917901Z",
     "iopub.status.busy": "2024-05-31T19:36:41.917532Z",
     "iopub.status.idle": "2024-05-31T19:36:42.362242Z",
     "shell.execute_reply": "2024-05-31T19:36:42.361011Z"
    },
    "papermill": {
     "duration": 4.361513,
     "end_time": "2024-05-31T19:36:42.364356",
     "exception": false,
     "start_time": "2024-05-31T19:36:38.002843",
     "status": "completed"
    },
    "tags": []
   },
   "outputs": [
    {
     "name": "stdout",
     "output_type": "stream",
     "text": [
      "\u001b[1m1/1\u001b[0m \u001b[32m━━━━━━━━━━━━━━━━━━━━\u001b[0m\u001b[37m\u001b[0m \u001b[1m0s\u001b[0m 360ms/step\n",
      "\n",
      "Accuracy: 0.65\n",
      "\n",
      "Confusion Matrix:\n",
      "[[4 6]\n",
      " [1 9]]\n",
      "\n",
      "Classification Report:\n",
      "              precision    recall  f1-score   support\n",
      "\n",
      "        FAKE       0.80      0.40      0.53        10\n",
      "        REAL       0.60      0.90      0.72        10\n",
      "\n",
      "    accuracy                           0.65        20\n",
      "   macro avg       0.70      0.65      0.63        20\n",
      "weighted avg       0.70      0.65      0.63        20\n",
      "\n",
      "\n",
      "Mean Average Precision (mAP): 0.8007815713698067\n"
     ]
    }
   ],
   "source": [
    "# Make predictions on the test data\n",
    "predict_prob = model1.predict(test_generator)\n",
    "labels = [0 if pred < 0.5 else 1 for pred in predict_prob]\n",
    "\n",
    "# Calculate accuracy\n",
    "accuracy = np.sum(np.array(test_generator.labels) == np.array(labels)) / len(labels)\n",
    "\n",
    "# Print the accuracy\n",
    "print(\"\\nAccuracy:\", accuracy)\n",
    "\n",
    "cm = confusion_matrix(test_generator.labels, labels)\n",
    "print(\"\\nConfusion Matrix:\")\n",
    "print(cm)\n",
    "\n",
    "# Compute the classification report\n",
    "class_names = test_generator.class_indices.keys()\n",
    "classification_rep = classification_report(test_generator.labels, labels, target_names=class_names)\n",
    "print(\"\\nClassification Report:\")\n",
    "print(classification_rep)\n",
    "\n",
    "# Calculate the average precision (mAP)\n",
    "mAP = average_precision_score(test_generator.labels,  predict_prob)\n",
    "print(\"\\nMean Average Precision (mAP):\", mAP)"
   ]
  },
  {
   "cell_type": "code",
   "execution_count": 45,
   "id": "6b4eea3c",
   "metadata": {
    "execution": {
     "iopub.execute_input": "2024-05-31T19:36:50.335790Z",
     "iopub.status.busy": "2024-05-31T19:36:50.334773Z",
     "iopub.status.idle": "2024-05-31T19:36:50.674353Z",
     "shell.execute_reply": "2024-05-31T19:36:50.673287Z"
    },
    "papermill": {
     "duration": 4.355673,
     "end_time": "2024-05-31T19:36:50.676603",
     "exception": false,
     "start_time": "2024-05-31T19:36:46.320930",
     "status": "completed"
    },
    "tags": []
   },
   "outputs": [
    {
     "data": {
      "image/png": "[encoded data removed]",
      "text/plain": [
       "<Figure size 800x600 with 2 Axes>"
      ]
     },
     "metadata": {},
     "output_type": "display_data"
    }
   ],
   "source": [
    "import seaborn as sns\n",
    "\n",
    "# Confusion matrix\n",
    "cm = confusion_matrix(test_generator.labels, labels)\n",
    "plt.figure(figsize=(8, 6))\n",
    "sns.heatmap(cm, annot=True, cmap='Blues', fmt='d', xticklabels=class_names, yticklabels=class_names)\n",
    "plt.xlabel('Predicted Labels')\n",
    "plt.ylabel('True Labels')\n",
    "plt.title('Confusion Matrix')\n",
    "plt.show()"
   ]
  },
  {
   "cell_type": "code",
   "execution_count": 46,
   "id": "e339ccf9",
   "metadata": {
    "execution": {
     "iopub.execute_input": "2024-05-31T19:36:58.269806Z",
     "iopub.status.busy": "2024-05-31T19:36:58.268935Z",
     "iopub.status.idle": "2024-05-31T19:36:58.764440Z",
     "shell.execute_reply": "2024-05-31T19:36:58.763105Z"
    },
    "papermill": {
     "duration": 4.286637,
     "end_time": "2024-05-31T19:36:58.766622",
     "exception": false,
     "start_time": "2024-05-31T19:36:54.479985",
     "status": "completed"
    },
    "tags": []
   },
   "outputs": [
    {
     "name": "stdout",
     "output_type": "stream",
     "text": [
      "\u001b[1m1/1\u001b[0m \u001b[32m━━━━━━━━━━━━━━━━━━━━\u001b[0m\u001b[37m\u001b[0m \u001b[1m0s\u001b[0m 409ms/step\n",
      "\n",
      "Accuracy: 0.6\n",
      "\n",
      "Confusion Matrix:\n",
      "[[3 7]\n",
      " [1 9]]\n",
      "\n",
      "Classification Report:\n",
      "              precision    recall  f1-score   support\n",
      "\n",
      "        FAKE       0.75      0.30      0.43        10\n",
      "        REAL       0.56      0.90      0.69        10\n",
      "\n",
      "    accuracy                           0.60        20\n",
      "   macro avg       0.66      0.60      0.56        20\n",
      "weighted avg       0.66      0.60      0.56        20\n",
      "\n",
      "\n",
      "Mean Average Precision (mAP): 0.764047619047619\n"
     ]
    }
   ],
   "source": [
    "# Make predictions on the test data\n",
    "predict_prob = model2.predict(test_generator)\n",
    "labels = [0 if pred < 0.5 else 1 for pred in predict_prob]\n",
    "\n",
    "# Calculate accuracy\n",
    "accuracy = np.sum(np.array(test_generator.labels) == np.array(labels)) / len(labels)\n",
    "\n",
    "# Print the accuracy\n",
    "print(\"\\nAccuracy:\", accuracy)\n",
    "\n",
    "cm = confusion_matrix(test_generator.labels, labels)\n",
    "print(\"\\nConfusion Matrix:\")\n",
    "print(cm)\n",
    "\n",
    "# Compute the classification report\n",
    "class_names = test_generator.class_indices.keys()\n",
    "classification_rep = classification_report(test_generator.labels, labels, target_names=class_names)\n",
    "print(\"\\nClassification Report:\")\n",
    "print(classification_rep)\n",
    "\n",
    "# Calculate the average precision (mAP)\n",
    "mAP = average_precision_score(test_generator.labels,  predict_prob)\n",
    "print(\"\\nMean Average Precision (mAP):\", mAP)"
   ]
  },
  {
   "cell_type": "code",
   "execution_count": 47,
   "id": "4a7d4693",
   "metadata": {
    "execution": {
     "iopub.execute_input": "2024-05-31T19:37:06.371484Z",
     "iopub.status.busy": "2024-05-31T19:37:06.370592Z",
     "iopub.status.idle": "2024-05-31T19:37:06.691504Z",
     "shell.execute_reply": "2024-05-31T19:37:06.690594Z"
    },
    "papermill": {
     "duration": 4.122687,
     "end_time": "2024-05-31T19:37:06.693823",
     "exception": false,
     "start_time": "2024-05-31T19:37:02.571136",
     "status": "completed"
    },
    "tags": []
   },
   "outputs": [
    {
     "data": {
      "image/png": "[encoded data removed]",
      "text/plain": [
       "<Figure size 800x600 with 2 Axes>"
      ]
     },
     "metadata": {},
     "output_type": "display_data"
    }
   ],
   "source": [
    "import seaborn as sns\n",
    "\n",
    "# Confusion matrix\n",
    "cm = confusion_matrix(test_generator.labels, labels)\n",
    "plt.figure(figsize=(8, 6))\n",
    "sns.heatmap(cm, annot=True, cmap='Blues', fmt='d', xticklabels=class_names, yticklabels=class_names)\n",
    "plt.xlabel('Predicted Labels')\n",
    "plt.ylabel('True Labels')\n",
    "plt.title('Confusion Matrix')\n",
    "plt.show()"
   ]
  },
  {
   "cell_type": "code",
   "execution_count": 48,
   "id": "0d5ba69f",
   "metadata": {
    "execution": {
     "iopub.execute_input": "2024-05-31T19:37:14.396108Z",
     "iopub.status.busy": "2024-05-31T19:37:14.395181Z",
     "iopub.status.idle": "2024-05-31T19:37:15.202861Z",
     "shell.execute_reply": "2024-05-31T19:37:15.201479Z"
    },
    "papermill": {
     "duration": 4.595062,
     "end_time": "2024-05-31T19:37:15.205169",
     "exception": false,
     "start_time": "2024-05-31T19:37:10.610107",
     "status": "completed"
    },
    "tags": []
   },
   "outputs": [
    {
     "name": "stdout",
     "output_type": "stream",
     "text": [
      "\u001b[1m1/1\u001b[0m \u001b[32m━━━━━━━━━━━━━━━━━━━━\u001b[0m\u001b[37m\u001b[0m \u001b[1m1s\u001b[0m 723ms/step\n",
      "\n",
      "Accuracy: 0.6\n",
      "\n",
      "Confusion Matrix:\n",
      "[[3 7]\n",
      " [1 9]]\n",
      "\n",
      "Classification Report:\n",
      "              precision    recall  f1-score   support\n",
      "\n",
      "        FAKE       0.75      0.30      0.43        10\n",
      "        REAL       0.56      0.90      0.69        10\n",
      "\n",
      "    accuracy                           0.60        20\n",
      "   macro avg       0.66      0.60      0.56        20\n",
      "weighted avg       0.66      0.60      0.56        20\n",
      "\n",
      "\n",
      "Mean Average Precision (mAP): 0.8117456073338426\n"
     ]
    }
   ],
   "source": [
    "# Make predictions on the test data\n",
    "predict_prob = modelVGG16.predict(test_generator)\n",
    "labels = [0 if pred < 0.5 else 1 for pred in predict_prob]\n",
    "\n",
    "# Calculate accuracy\n",
    "accuracy = np.sum(np.array(test_generator.labels) == np.array(labels)) / len(labels)\n",
    "\n",
    "# Print the accuracy\n",
    "print(\"\\nAccuracy:\", accuracy)\n",
    "\n",
    "cm = confusion_matrix(test_generator.labels, labels)\n",
    "print(\"\\nConfusion Matrix:\")\n",
    "print(cm)\n",
    "\n",
    "# Compute the classification report\n",
    "class_names = test_generator.class_indices.keys()\n",
    "classification_rep = classification_report(test_generator.labels, labels, target_names=class_names)\n",
    "print(\"\\nClassification Report:\")\n",
    "print(classification_rep)\n",
    "\n",
    "# Calculate the average precision (mAP)\n",
    "mAP = average_precision_score(test_generator.labels,  predict_prob)\n",
    "print(\"\\nMean Average Precision (mAP):\", mAP)"
   ]
  },
  {
   "cell_type": "code",
   "execution_count": 49,
   "id": "094881ec",
   "metadata": {
    "execution": {
     "iopub.execute_input": "2024-05-31T19:37:22.885655Z",
     "iopub.status.busy": "2024-05-31T19:37:22.885284Z",
     "iopub.status.idle": "2024-05-31T19:37:23.197308Z",
     "shell.execute_reply": "2024-05-31T19:37:23.196279Z"
    },
    "papermill": {
     "duration": 4.141691,
     "end_time": "2024-05-31T19:37:23.199560",
     "exception": false,
     "start_time": "2024-05-31T19:37:19.057869",
     "status": "completed"
    },
    "tags": []
   },
   "outputs": [
    {
     "data": {
      "image/png": "[encoded data removed]",
      "text/plain": [
       "<Figure size 800x600 with 2 Axes>"
      ]
     },
     "metadata": {},
     "output_type": "display_data"
    }
   ],
   "source": [
    "import seaborn as sns\n",
    "\n",
    "# Confusion matrix\n",
    "cm = confusion_matrix(test_generator.labels, labels)\n",
    "plt.figure(figsize=(8, 6))\n",
    "sns.heatmap(cm, annot=True, cmap='Blues', fmt='d', xticklabels=class_names, yticklabels=class_names)\n",
    "plt.xlabel('Predicted Labels')\n",
    "plt.ylabel('True Labels')\n",
    "plt.title('Confusion Matrix')\n",
    "plt.show()"
   ]
  },
  {
   "cell_type": "markdown",
   "id": "d16b2cc4",
   "metadata": {
    "papermill": {
     "duration": 3.848513,
     "end_time": "2024-05-31T19:37:30.804352",
     "exception": false,
     "start_time": "2024-05-31T19:37:26.955839",
     "status": "completed"
    },
    "tags": []
   },
   "source": [
    "### Coba skenario 2 layer konvolusi"
   ]
  },
  {
   "cell_type": "code",
   "execution_count": 50,
   "id": "010eb0ac",
   "metadata": {
    "execution": {
     "iopub.execute_input": "2024-05-31T19:37:38.514391Z",
     "iopub.status.busy": "2024-05-31T19:37:38.513508Z",
     "iopub.status.idle": "2024-05-31T19:37:38.586607Z",
     "shell.execute_reply": "2024-05-31T19:37:38.585674Z"
    },
    "papermill": {
     "duration": 3.89197,
     "end_time": "2024-05-31T19:37:38.588865",
     "exception": false,
     "start_time": "2024-05-31T19:37:34.696895",
     "status": "completed"
    },
    "tags": []
   },
   "outputs": [
    {
     "name": "stderr",
     "output_type": "stream",
     "text": [
      "/opt/conda/lib/python3.10/site-packages/keras/src/layers/convolutional/base_conv.py:107: UserWarning: Do not pass an `input_shape`/`input_dim` argument to a layer. When using Sequential models, prefer using an `Input(shape)` object as the first layer in the model instead.\n",
      "  super().__init__(activity_regularizer=activity_regularizer, **kwargs)\n"
     ]
    }
   ],
   "source": [
    "# mendefinisikan model\n",
    "model = models.Sequential()\n",
    "\n",
    "# convolutional layers\n",
    "model.add(layers.Conv2D(32, (3, 3), activation = 'relu', input_shape=(weight, height, 3) ))\n",
    "model.add(layers.MaxPooling2D((2, 2)))\n",
    "model.add(layers.Conv2D(32, (3, 3), activation='relu'))\n",
    "model.add(layers.MaxPooling2D((2, 2)))\n",
    "\n",
    "\n",
    "# Flatten layer\n",
    "model.add(layers.Flatten())\n",
    "\n",
    "# dense layers\n",
    "model.add(layers.Dense(64, activation='relu'))\n",
    "model.add(layers.Dense(1, activation='sigmoid'))\n"
   ]
  },
  {
   "cell_type": "code",
   "execution_count": 51,
   "id": "70cee840",
   "metadata": {
    "execution": {
     "iopub.execute_input": "2024-05-31T19:37:46.355227Z",
     "iopub.status.busy": "2024-05-31T19:37:46.354354Z",
     "iopub.status.idle": "2024-05-31T19:37:46.371237Z",
     "shell.execute_reply": "2024-05-31T19:37:46.370338Z"
    },
    "papermill": {
     "duration": 3.93919,
     "end_time": "2024-05-31T19:37:46.373241",
     "exception": false,
     "start_time": "2024-05-31T19:37:42.434051",
     "status": "completed"
    },
    "tags": []
   },
   "outputs": [],
   "source": [
    "# optimizer adam dan learning rate 0.001\n",
    "optimizer = tf.keras.optimizers.Adam(learning_rate = 0.001)\n",
    "model.compile(optimizer= optimizer, loss='binary_crossentropy',\n",
    "              metrics=['accuracy', tf.keras.metrics.Precision(), tf.keras.metrics.Recall()])\n",
    "callback = tf.keras.callbacks.EarlyStopping(monitor='val_loss',patience=2)"
   ]
  },
  {
   "cell_type": "code",
   "execution_count": 52,
   "id": "65d81a92",
   "metadata": {
    "execution": {
     "iopub.execute_input": "2024-05-31T19:37:54.100280Z",
     "iopub.status.busy": "2024-05-31T19:37:54.099861Z",
     "iopub.status.idle": "2024-05-31T19:37:54.123019Z",
     "shell.execute_reply": "2024-05-31T19:37:54.122087Z"
    },
    "papermill": {
     "duration": 3.913788,
     "end_time": "2024-05-31T19:37:54.124922",
     "exception": false,
     "start_time": "2024-05-31T19:37:50.211134",
     "status": "completed"
    },
    "tags": []
   },
   "outputs": [
    {
     "data": {
      "text/html": [
       "<pre style=\"white-space:pre;overflow-x:auto;line-height:normal;font-family:Menlo,'DejaVu Sans Mono',consolas,'Courier New',monospace\"><span style=\"font-weight: bold\">Model: \"sequential_2\"</span>\n",
       "</pre>\n"
      ],
      "text/plain": [
       "\u001b[1mModel: \"sequential_2\"\u001b[0m\n"
      ]
     },
     "metadata": {},
     "output_type": "display_data"
    },
    {
     "data": {
      "text/html": [
       "<pre style=\"white-space:pre;overflow-x:auto;line-height:normal;font-family:Menlo,'DejaVu Sans Mono',consolas,'Courier New',monospace\">┏━━━━━━━━━━━━━━━━━━━━━━━━━━━━━━━━━┳━━━━━━━━━━━━━━━━━━━━━━━━┳━━━━━━━━━━━━━━━┓\n",
       "┃<span style=\"font-weight: bold\"> Layer (type)                    </span>┃<span style=\"font-weight: bold\"> Output Shape           </span>┃<span style=\"font-weight: bold\">       Param # </span>┃\n",
       "┡━━━━━━━━━━━━━━━━━━━━━━━━━━━━━━━━━╇━━━━━━━━━━━━━━━━━━━━━━━━╇━━━━━━━━━━━━━━━┩\n",
       "│ conv2d_7 (<span style=\"color: #0087ff; text-decoration-color: #0087ff\">Conv2D</span>)               │ (<span style=\"color: #00d7ff; text-decoration-color: #00d7ff\">None</span>, <span style=\"color: #00af00; text-decoration-color: #00af00\">30</span>, <span style=\"color: #00af00; text-decoration-color: #00af00\">30</span>, <span style=\"color: #00af00; text-decoration-color: #00af00\">32</span>)     │           <span style=\"color: #00af00; text-decoration-color: #00af00\">896</span> │\n",
       "├─────────────────────────────────┼────────────────────────┼───────────────┤\n",
       "│ max_pooling2d_7 (<span style=\"color: #0087ff; text-decoration-color: #0087ff\">MaxPooling2D</span>)  │ (<span style=\"color: #00d7ff; text-decoration-color: #00d7ff\">None</span>, <span style=\"color: #00af00; text-decoration-color: #00af00\">15</span>, <span style=\"color: #00af00; text-decoration-color: #00af00\">15</span>, <span style=\"color: #00af00; text-decoration-color: #00af00\">32</span>)     │             <span style=\"color: #00af00; text-decoration-color: #00af00\">0</span> │\n",
       "├─────────────────────────────────┼────────────────────────┼───────────────┤\n",
       "│ conv2d_8 (<span style=\"color: #0087ff; text-decoration-color: #0087ff\">Conv2D</span>)               │ (<span style=\"color: #00d7ff; text-decoration-color: #00d7ff\">None</span>, <span style=\"color: #00af00; text-decoration-color: #00af00\">13</span>, <span style=\"color: #00af00; text-decoration-color: #00af00\">13</span>, <span style=\"color: #00af00; text-decoration-color: #00af00\">32</span>)     │         <span style=\"color: #00af00; text-decoration-color: #00af00\">9,248</span> │\n",
       "├─────────────────────────────────┼────────────────────────┼───────────────┤\n",
       "│ max_pooling2d_8 (<span style=\"color: #0087ff; text-decoration-color: #0087ff\">MaxPooling2D</span>)  │ (<span style=\"color: #00d7ff; text-decoration-color: #00d7ff\">None</span>, <span style=\"color: #00af00; text-decoration-color: #00af00\">6</span>, <span style=\"color: #00af00; text-decoration-color: #00af00\">6</span>, <span style=\"color: #00af00; text-decoration-color: #00af00\">32</span>)       │             <span style=\"color: #00af00; text-decoration-color: #00af00\">0</span> │\n",
       "├─────────────────────────────────┼────────────────────────┼───────────────┤\n",
       "│ flatten_2 (<span style=\"color: #0087ff; text-decoration-color: #0087ff\">Flatten</span>)             │ (<span style=\"color: #00d7ff; text-decoration-color: #00d7ff\">None</span>, <span style=\"color: #00af00; text-decoration-color: #00af00\">1152</span>)           │             <span style=\"color: #00af00; text-decoration-color: #00af00\">0</span> │\n",
       "├─────────────────────────────────┼────────────────────────┼───────────────┤\n",
       "│ dense_7 (<span style=\"color: #0087ff; text-decoration-color: #0087ff\">Dense</span>)                 │ (<span style=\"color: #00d7ff; text-decoration-color: #00d7ff\">None</span>, <span style=\"color: #00af00; text-decoration-color: #00af00\">64</span>)             │        <span style=\"color: #00af00; text-decoration-color: #00af00\">73,792</span> │\n",
       "├─────────────────────────────────┼────────────────────────┼───────────────┤\n",
       "│ dense_8 (<span style=\"color: #0087ff; text-decoration-color: #0087ff\">Dense</span>)                 │ (<span style=\"color: #00d7ff; text-decoration-color: #00d7ff\">None</span>, <span style=\"color: #00af00; text-decoration-color: #00af00\">1</span>)              │            <span style=\"color: #00af00; text-decoration-color: #00af00\">65</span> │\n",
       "└─────────────────────────────────┴────────────────────────┴───────────────┘\n",
       "</pre>\n"
      ],
      "text/plain": [
       "┏━━━━━━━━━━━━━━━━━━━━━━━━━━━━━━━━━┳━━━━━━━━━━━━━━━━━━━━━━━━┳━━━━━━━━━━━━━━━┓\n",
       "┃\u001b[1m \u001b[0m\u001b[1mLayer (type)                   \u001b[0m\u001b[1m \u001b[0m┃\u001b[1m \u001b[0m\u001b[1mOutput Shape          \u001b[0m\u001b[1m \u001b[0m┃\u001b[1m \u001b[0m\u001b[1m      Param #\u001b[0m\u001b[1m \u001b[0m┃\n",
       "┡━━━━━━━━━━━━━━━━━━━━━━━━━━━━━━━━━╇━━━━━━━━━━━━━━━━━━━━━━━━╇━━━━━━━━━━━━━━━┩\n",
       "│ conv2d_7 (\u001b[38;5;33mConv2D\u001b[0m)               │ (\u001b[38;5;45mNone\u001b[0m, \u001b[38;5;34m30\u001b[0m, \u001b[38;5;34m30\u001b[0m, \u001b[38;5;34m32\u001b[0m)     │           \u001b[38;5;34m896\u001b[0m │\n",
       "├─────────────────────────────────┼────────────────────────┼───────────────┤\n",
       "│ max_pooling2d_7 (\u001b[38;5;33mMaxPooling2D\u001b[0m)  │ (\u001b[38;5;45mNone\u001b[0m, \u001b[38;5;34m15\u001b[0m, \u001b[38;5;34m15\u001b[0m, \u001b[38;5;34m32\u001b[0m)     │             \u001b[38;5;34m0\u001b[0m │\n",
       "├─────────────────────────────────┼────────────────────────┼───────────────┤\n",
       "│ conv2d_8 (\u001b[38;5;33mConv2D\u001b[0m)               │ (\u001b[38;5;45mNone\u001b[0m, \u001b[38;5;34m13\u001b[0m, \u001b[38;5;34m13\u001b[0m, \u001b[38;5;34m32\u001b[0m)     │         \u001b[38;5;34m9,248\u001b[0m │\n",
       "├─────────────────────────────────┼────────────────────────┼───────────────┤\n",
       "│ max_pooling2d_8 (\u001b[38;5;33mMaxPooling2D\u001b[0m)  │ (\u001b[38;5;45mNone\u001b[0m, \u001b[38;5;34m6\u001b[0m, \u001b[38;5;34m6\u001b[0m, \u001b[38;5;34m32\u001b[0m)       │             \u001b[38;5;34m0\u001b[0m │\n",
       "├─────────────────────────────────┼────────────────────────┼───────────────┤\n",
       "│ flatten_2 (\u001b[38;5;33mFlatten\u001b[0m)             │ (\u001b[38;5;45mNone\u001b[0m, \u001b[38;5;34m1152\u001b[0m)           │             \u001b[38;5;34m0\u001b[0m │\n",
       "├─────────────────────────────────┼────────────────────────┼───────────────┤\n",
       "│ dense_7 (\u001b[38;5;33mDense\u001b[0m)                 │ (\u001b[38;5;45mNone\u001b[0m, \u001b[38;5;34m64\u001b[0m)             │        \u001b[38;5;34m73,792\u001b[0m │\n",
       "├─────────────────────────────────┼────────────────────────┼───────────────┤\n",
       "│ dense_8 (\u001b[38;5;33mDense\u001b[0m)                 │ (\u001b[38;5;45mNone\u001b[0m, \u001b[38;5;34m1\u001b[0m)              │            \u001b[38;5;34m65\u001b[0m │\n",
       "└─────────────────────────────────┴────────────────────────┴───────────────┘\n"
      ]
     },
     "metadata": {},
     "output_type": "display_data"
    },
    {
     "data": {
      "text/html": [
       "<pre style=\"white-space:pre;overflow-x:auto;line-height:normal;font-family:Menlo,'DejaVu Sans Mono',consolas,'Courier New',monospace\"><span style=\"font-weight: bold\"> Total params: </span><span style=\"color: #00af00; text-decoration-color: #00af00\">84,001</span> (328.13 KB)\n",
       "</pre>\n"
      ],
      "text/plain": [
       "\u001b[1m Total params: \u001b[0m\u001b[38;5;34m84,001\u001b[0m (328.13 KB)\n"
      ]
     },
     "metadata": {},
     "output_type": "display_data"
    },
    {
     "data": {
      "text/html": [
       "<pre style=\"white-space:pre;overflow-x:auto;line-height:normal;font-family:Menlo,'DejaVu Sans Mono',consolas,'Courier New',monospace\"><span style=\"font-weight: bold\"> Trainable params: </span><span style=\"color: #00af00; text-decoration-color: #00af00\">84,001</span> (328.13 KB)\n",
       "</pre>\n"
      ],
      "text/plain": [
       "\u001b[1m Trainable params: \u001b[0m\u001b[38;5;34m84,001\u001b[0m (328.13 KB)\n"
      ]
     },
     "metadata": {},
     "output_type": "display_data"
    },
    {
     "data": {
      "text/html": [
       "<pre style=\"white-space:pre;overflow-x:auto;line-height:normal;font-family:Menlo,'DejaVu Sans Mono',consolas,'Courier New',monospace\"><span style=\"font-weight: bold\"> Non-trainable params: </span><span style=\"color: #00af00; text-decoration-color: #00af00\">0</span> (0.00 B)\n",
       "</pre>\n"
      ],
      "text/plain": [
       "\u001b[1m Non-trainable params: \u001b[0m\u001b[38;5;34m0\u001b[0m (0.00 B)\n"
      ]
     },
     "metadata": {},
     "output_type": "display_data"
    }
   ],
   "source": [
    "# summary model\n",
    "model.summary()"
   ]
  },
  {
   "cell_type": "code",
   "execution_count": 53,
   "id": "9aa983eb",
   "metadata": {
    "execution": {
     "iopub.execute_input": "2024-05-31T19:38:01.864327Z",
     "iopub.status.busy": "2024-05-31T19:38:01.863901Z",
     "iopub.status.idle": "2024-05-31T20:02:18.748929Z",
     "shell.execute_reply": "2024-05-31T20:02:18.747784Z"
    },
    "papermill": {
     "duration": 1460.740422,
     "end_time": "2024-05-31T20:02:18.751450",
     "exception": false,
     "start_time": "2024-05-31T19:37:58.011028",
     "status": "completed"
    },
    "tags": []
   },
   "outputs": [
    {
     "name": "stdout",
     "output_type": "stream",
     "text": [
      "Epoch 1/100\n",
      "\u001b[1m   5/3125\u001b[0m \u001b[37m━━━━━━━━━━━━━━━━━━━━\u001b[0m \u001b[1m1:53\u001b[0m 36ms/step - accuracy: 0.5423 - loss: 0.6888 - precision_3: 0.5223 - recall_3: 0.6585"
     ]
    },
    {
     "name": "stderr",
     "output_type": "stream",
     "text": [
      "W0000 00:00:1717184285.966154      88 graph_launch.cc:671] Fallback to op-by-op mode because memset node breaks graph update\n"
     ]
    },
    {
     "name": "stdout",
     "output_type": "stream",
     "text": [
      "\u001b[1m3118/3125\u001b[0m \u001b[32m━━━━━━━━━━━━━━━━━━━\u001b[0m\u001b[37m━\u001b[0m \u001b[1m0s\u001b[0m 50ms/step - accuracy: 0.7986 - loss: 0.4200 - precision_3: 0.7902 - recall_3: 0.8147"
     ]
    },
    {
     "name": "stderr",
     "output_type": "stream",
     "text": [
      "W0000 00:00:1717184441.899382      89 graph_launch.cc:671] Fallback to op-by-op mode because memset node breaks graph update\n"
     ]
    },
    {
     "name": "stdout",
     "output_type": "stream",
     "text": [
      "\u001b[1m3125/3125\u001b[0m \u001b[32m━━━━━━━━━━━━━━━━━━━━\u001b[0m\u001b[37m\u001b[0m \u001b[1m190s\u001b[0m 59ms/step - accuracy: 0.7987 - loss: 0.4198 - precision_3: 0.7904 - recall_3: 0.8148 - val_accuracy: 0.8975 - val_loss: 0.2504 - val_precision_3: 0.8986 - val_recall_3: 0.8962\n",
      "Epoch 2/100\n",
      "\u001b[1m3125/3125\u001b[0m \u001b[32m━━━━━━━━━━━━━━━━━━━━\u001b[0m\u001b[37m\u001b[0m \u001b[1m180s\u001b[0m 57ms/step - accuracy: 0.9011 - loss: 0.2403 - precision_3: 0.8997 - recall_3: 0.9036 - val_accuracy: 0.9147 - val_loss: 0.2123 - val_precision_3: 0.8880 - val_recall_3: 0.9490\n",
      "Epoch 3/100\n",
      "\u001b[1m3125/3125\u001b[0m \u001b[32m━━━━━━━━━━━━━━━━━━━━\u001b[0m\u001b[37m\u001b[0m \u001b[1m180s\u001b[0m 57ms/step - accuracy: 0.9198 - loss: 0.1986 - precision_3: 0.9200 - recall_3: 0.9205 - val_accuracy: 0.9250 - val_loss: 0.1930 - val_precision_3: 0.9493 - val_recall_3: 0.8980\n",
      "Epoch 4/100\n",
      "\u001b[1m3125/3125\u001b[0m \u001b[32m━━━━━━━━━━━━━━━━━━━━\u001b[0m\u001b[37m\u001b[0m \u001b[1m184s\u001b[0m 59ms/step - accuracy: 0.9307 - loss: 0.1756 - precision_3: 0.9295 - recall_3: 0.9324 - val_accuracy: 0.9216 - val_loss: 0.1936 - val_precision_3: 0.8911 - val_recall_3: 0.9607\n",
      "Epoch 5/100\n",
      "\u001b[1m3125/3125\u001b[0m \u001b[32m━━━━━━━━━━━━━━━━━━━━\u001b[0m\u001b[37m\u001b[0m \u001b[1m182s\u001b[0m 58ms/step - accuracy: 0.9371 - loss: 0.1572 - precision_3: 0.9357 - recall_3: 0.9390 - val_accuracy: 0.9331 - val_loss: 0.1673 - val_precision_3: 0.9462 - val_recall_3: 0.9185\n",
      "Epoch 6/100\n",
      "\u001b[1m3125/3125\u001b[0m \u001b[32m━━━━━━━━━━━━━━━━━━━━\u001b[0m\u001b[37m\u001b[0m \u001b[1m180s\u001b[0m 57ms/step - accuracy: 0.9427 - loss: 0.1489 - precision_3: 0.9428 - recall_3: 0.9423 - val_accuracy: 0.9373 - val_loss: 0.1609 - val_precision_3: 0.9356 - val_recall_3: 0.9391\n",
      "Epoch 7/100\n",
      "\u001b[1m3125/3125\u001b[0m \u001b[32m━━━━━━━━━━━━━━━━━━━━\u001b[0m\u001b[37m\u001b[0m \u001b[1m183s\u001b[0m 59ms/step - accuracy: 0.9464 - loss: 0.1362 - precision_3: 0.9460 - recall_3: 0.9471 - val_accuracy: 0.9326 - val_loss: 0.1726 - val_precision_3: 0.9240 - val_recall_3: 0.9427\n",
      "Epoch 8/100\n",
      "\u001b[1m3125/3125\u001b[0m \u001b[32m━━━━━━━━━━━━━━━━━━━━\u001b[0m\u001b[37m\u001b[0m \u001b[1m179s\u001b[0m 57ms/step - accuracy: 0.9494 - loss: 0.1281 - precision_3: 0.9485 - recall_3: 0.9503 - val_accuracy: 0.9333 - val_loss: 0.1691 - val_precision_3: 0.9320 - val_recall_3: 0.9348\n"
     ]
    }
   ],
   "source": [
    "history = model.fit(train_dataset,\n",
    "                    validation_data=test_dataset,\n",
    "                    epochs=100,callbacks=[callback]\n",
    ")"
   ]
  },
  {
   "cell_type": "code",
   "execution_count": 54,
   "id": "fd235a74",
   "metadata": {
    "execution": {
     "iopub.execute_input": "2024-05-31T20:02:28.610353Z",
     "iopub.status.busy": "2024-05-31T20:02:28.609991Z",
     "iopub.status.idle": "2024-05-31T20:02:59.214442Z",
     "shell.execute_reply": "2024-05-31T20:02:59.213403Z"
    },
    "papermill": {
     "duration": 40.390696,
     "end_time": "2024-05-31T20:03:04.100101",
     "exception": false,
     "start_time": "2024-05-31T20:02:23.709405",
     "status": "completed"
    },
    "tags": []
   },
   "outputs": [
    {
     "name": "stdout",
     "output_type": "stream",
     "text": [
      "\u001b[1m625/625\u001b[0m \u001b[32m━━━━━━━━━━━━━━━━━━━━\u001b[0m\u001b[37m\u001b[0m \u001b[1m30s\u001b[0m 48ms/step\n"
     ]
    }
   ],
   "source": [
    "# buat prediksi\n",
    "prediksi = model.predict(test_dataset)"
   ]
  },
  {
   "cell_type": "code",
   "execution_count": 55,
   "id": "9a97e979",
   "metadata": {
    "execution": {
     "iopub.execute_input": "2024-05-31T20:03:14.280006Z",
     "iopub.status.busy": "2024-05-31T20:03:14.279626Z",
     "iopub.status.idle": "2024-05-31T20:03:14.286430Z",
     "shell.execute_reply": "2024-05-31T20:03:14.285531Z"
    },
    "papermill": {
     "duration": 5.151482,
     "end_time": "2024-05-31T20:03:14.288610",
     "exception": false,
     "start_time": "2024-05-31T20:03:09.137128",
     "status": "completed"
    },
    "tags": []
   },
   "outputs": [
    {
     "data": {
      "text/plain": [
       "array([[0],\n",
       "       [0],\n",
       "       [0],\n",
       "       ...,\n",
       "       [1],\n",
       "       [1],\n",
       "       [0]])"
      ]
     },
     "execution_count": 55,
     "metadata": {},
     "output_type": "execute_result"
    }
   ],
   "source": [
    "binary_predictions = (prediksi > 0.5).astype(int)\n",
    "binary_predictions"
   ]
  },
  {
   "cell_type": "code",
   "execution_count": 56,
   "id": "c8cfb369",
   "metadata": {
    "execution": {
     "iopub.execute_input": "2024-05-31T20:03:24.304297Z",
     "iopub.status.busy": "2024-05-31T20:03:24.303468Z",
     "iopub.status.idle": "2024-05-31T20:03:55.848035Z",
     "shell.execute_reply": "2024-05-31T20:03:55.847003Z"
    },
    "papermill": {
     "duration": 40.366351,
     "end_time": "2024-05-31T20:03:59.694619",
     "exception": false,
     "start_time": "2024-05-31T20:03:19.328268",
     "status": "completed"
    },
    "tags": []
   },
   "outputs": [
    {
     "name": "stdout",
     "output_type": "stream",
     "text": [
      "\u001b[1m625/625\u001b[0m \u001b[32m━━━━━━━━━━━━━━━━━━━━\u001b[0m\u001b[37m\u001b[0m \u001b[1m31s\u001b[0m 50ms/step\n",
      "\n",
      "Accuracy: 0.9333\n",
      "\n",
      "Confusion Matrix:\n",
      "[[9318  682]\n",
      " [ 652 9348]]\n",
      "\n",
      "Classification Report:\n",
      "              precision    recall  f1-score   support\n",
      "\n",
      "        FAKE       0.93      0.93      0.93     10000\n",
      "        REAL       0.93      0.93      0.93     10000\n",
      "\n",
      "    accuracy                           0.93     20000\n",
      "   macro avg       0.93      0.93      0.93     20000\n",
      "weighted avg       0.93      0.93      0.93     20000\n",
      "\n",
      "\n",
      "Mean Average Precision (mAP): 0.9835278160187586\n"
     ]
    }
   ],
   "source": [
    "# Make predictions on the test data\n",
    "predict_prob = model.predict(test_dataset)\n",
    "labels = [0 if pred < 0.5 else 1 for pred in predict_prob]\n",
    "\n",
    "# Calculate accuracy\n",
    "accuracy = np.sum(np.array(test_dataset.labels) == np.array(labels)) / len(labels)\n",
    "\n",
    "# Print the accuracy\n",
    "print(\"\\nAccuracy:\", accuracy)\n",
    "\n",
    "cm = confusion_matrix(test_dataset.labels, labels)\n",
    "print(\"\\nConfusion Matrix:\")\n",
    "print(cm)\n",
    "\n",
    "# Compute the classification report\n",
    "class_names = test_dataset.class_indices.keys()\n",
    "classification_rep = classification_report(test_dataset.labels, labels, target_names=class_names)\n",
    "print(\"\\nClassification Report:\")\n",
    "print(classification_rep)\n",
    "\n",
    "# Calculate the average precision (mAP)\n",
    "mAP = average_precision_score(test_dataset.labels,  predict_prob)\n",
    "print(\"\\nMean Average Precision (mAP):\", mAP)"
   ]
  },
  {
   "cell_type": "code",
   "execution_count": 57,
   "id": "df23f993",
   "metadata": {
    "execution": {
     "iopub.execute_input": "2024-05-31T20:04:09.963134Z",
     "iopub.status.busy": "2024-05-31T20:04:09.962527Z",
     "iopub.status.idle": "2024-05-31T20:04:10.293111Z",
     "shell.execute_reply": "2024-05-31T20:04:10.292264Z"
    },
    "papermill": {
     "duration": 5.420949,
     "end_time": "2024-05-31T20:04:10.295164",
     "exception": false,
     "start_time": "2024-05-31T20:04:04.874215",
     "status": "completed"
    },
    "tags": []
   },
   "outputs": [
    {
     "data": {
      "image/png": "[encoded data removed]",
      "text/plain": [
       "<Figure size 640x480 with 2 Axes>"
      ]
     },
     "metadata": {},
     "output_type": "display_data"
    }
   ],
   "source": [
    "import matplotlib.pyplot as plt\n",
    "import seaborn as sns\n",
    "from sklearn.metrics import confusion_matrix, classification_report\n",
    "\n",
    "# Asumsikan `true_labels` dan `binary_predictions` sudah tersedia\n",
    "true_labels = test_dataset.classes\n",
    "\n",
    "# Buat confusion matrix\n",
    "cm = confusion_matrix(true_labels, binary_predictions)\n",
    "\n",
    "# Tampilkan heatmap tanpa notasi eksponensial\n",
    "sns.heatmap(cm, annot=True, fmt='g')  # 'g' memastikan format angka biasa\n",
    "plt.title(\"Confusion Matrix\")\n",
    "plt.xlabel(\"Prediksi\")\n",
    "plt.ylabel(\"Actual Classes\")\n",
    "plt.show()\n",
    "\n",
    "# Print classification report\n",
    "report = classification_report(true_labels, binary_predictions, output_dict=True)"
   ]
  },
  {
   "cell_type": "code",
   "execution_count": 58,
   "id": "731e884e",
   "metadata": {
    "execution": {
     "iopub.execute_input": "2024-05-31T20:04:20.492777Z",
     "iopub.status.busy": "2024-05-31T20:04:20.491837Z",
     "iopub.status.idle": "2024-05-31T20:04:21.112035Z",
     "shell.execute_reply": "2024-05-31T20:04:21.111030Z"
    },
    "papermill": {
     "duration": 5.726061,
     "end_time": "2024-05-31T20:04:21.114617",
     "exception": false,
     "start_time": "2024-05-31T20:04:15.388556",
     "status": "completed"
    },
    "tags": []
   },
   "outputs": [
    {
     "data": {
      "image/png": "[encoded data removed]",
      "text/plain": [
       "<Figure size 1200x400 with 2 Axes>"
      ]
     },
     "metadata": {},
     "output_type": "display_data"
    }
   ],
   "source": [
    "# Plot accuracy and loss\n",
    "plt.figure(figsize=(12, 4))\n",
    "\n",
    "# Plot training & validation accuracy values\n",
    "plt.subplot(1, 2, 1)\n",
    "plt.plot(history.history['accuracy'])\n",
    "plt.plot(history.history['val_accuracy'])\n",
    "plt.title('Model accuracy')\n",
    "plt.xlabel('Epoch')\n",
    "plt.ylabel('Accuracy')\n",
    "plt.legend(['Train', 'Validation'], loc='upper left')\n",
    "\n",
    "# Plot training & validation loss values\n",
    "plt.subplot(1, 2, 2)\n",
    "plt.plot(history.history['loss'])\n",
    "plt.plot(history.history['val_loss'])\n",
    "plt.title('Model loss')\n",
    "plt.xlabel('Epoch')\n",
    "plt.ylabel('Loss')\n",
    "plt.legend(['Train', 'Validation'], loc='upper left')\n",
    "\n",
    "plt.tight_layout()\n",
    "plt.show()"
   ]
  },
  {
   "cell_type": "code",
   "execution_count": 59,
   "id": "33edce17",
   "metadata": {
    "execution": {
     "iopub.execute_input": "2024-05-31T20:04:31.288219Z",
     "iopub.status.busy": "2024-05-31T20:04:31.287854Z",
     "iopub.status.idle": "2024-05-31T20:04:31.318595Z",
     "shell.execute_reply": "2024-05-31T20:04:31.317914Z"
    },
    "papermill": {
     "duration": 5.213086,
     "end_time": "2024-05-31T20:04:31.320468",
     "exception": false,
     "start_time": "2024-05-31T20:04:26.107382",
     "status": "completed"
    },
    "tags": []
   },
   "outputs": [],
   "source": [
    "# simpan model\n",
    "model_save = model.save('model_skenario0.h5')"
   ]
  },
  {
   "cell_type": "code",
   "execution_count": 60,
   "id": "528a4a32",
   "metadata": {
    "execution": {
     "iopub.execute_input": "2024-05-31T20:04:41.555645Z",
     "iopub.status.busy": "2024-05-31T20:04:41.555274Z",
     "iopub.status.idle": "2024-05-31T20:04:42.256907Z",
     "shell.execute_reply": "2024-05-31T20:04:42.255851Z"
    },
    "papermill": {
     "duration": 5.843285,
     "end_time": "2024-05-31T20:04:42.259150",
     "exception": false,
     "start_time": "2024-05-31T20:04:36.415865",
     "status": "completed"
    },
    "tags": []
   },
   "outputs": [
    {
     "name": "stdout",
     "output_type": "stream",
     "text": [
      "\u001b[1m1/1\u001b[0m \u001b[32m━━━━━━━━━━━━━━━━━━━━\u001b[0m\u001b[37m\u001b[0m \u001b[1m1s\u001b[0m 620ms/step - accuracy: 0.6500 - loss: 1.0046 - precision_3: 0.6154 - recall_3: 0.8000\n",
      "Baseline error: 0.35\n",
      "Accuracy = 0.65\n"
     ]
    },
    {
     "name": "stderr",
     "output_type": "stream",
     "text": [
      "W0000 00:00:1717185882.241265      88 graph_launch.cc:671] Fallback to op-by-op mode because memset node breaks graph update\n"
     ]
    }
   ],
   "source": [
    "# model 1\n",
    "scores = model.evaluate(test_generator)\n",
    "\n",
    "print('Baseline error: %.2f' % (1-scores[1]))\n",
    "print(\"Accuracy = %.2f\" %scores[1])"
   ]
  },
  {
   "cell_type": "code",
   "execution_count": 61,
   "id": "0378b3a6",
   "metadata": {
    "execution": {
     "iopub.execute_input": "2024-05-31T20:04:52.380351Z",
     "iopub.status.busy": "2024-05-31T20:04:52.379610Z",
     "iopub.status.idle": "2024-05-31T20:04:52.777929Z",
     "shell.execute_reply": "2024-05-31T20:04:52.776556Z"
    },
    "papermill": {
     "duration": 5.518795,
     "end_time": "2024-05-31T20:04:52.780144",
     "exception": false,
     "start_time": "2024-05-31T20:04:47.261349",
     "status": "completed"
    },
    "tags": []
   },
   "outputs": [
    {
     "name": "stdout",
     "output_type": "stream",
     "text": [
      "\u001b[1m1/1\u001b[0m \u001b[32m━━━━━━━━━━━━━━━━━━━━\u001b[0m\u001b[37m\u001b[0m \u001b[1m0s\u001b[0m 317ms/step\n",
      "\n",
      "Accuracy: 0.65\n",
      "\n",
      "Confusion Matrix:\n",
      "[[5 5]\n",
      " [2 8]]\n",
      "\n",
      "Classification Report:\n",
      "              precision    recall  f1-score   support\n",
      "\n",
      "        FAKE       0.71      0.50      0.59        10\n",
      "        REAL       0.62      0.80      0.70        10\n",
      "\n",
      "    accuracy                           0.65        20\n",
      "   macro avg       0.66      0.65      0.64        20\n",
      "weighted avg       0.66      0.65      0.64        20\n",
      "\n",
      "\n",
      "Mean Average Precision (mAP): 0.7574238180120533\n"
     ]
    }
   ],
   "source": [
    "# Make predictions on the test data\n",
    "predict_prob = model.predict(test_generator)\n",
    "labels = [0 if pred < 0.5 else 1 for pred in predict_prob]\n",
    "\n",
    "# Calculate accuracy\n",
    "accuracy = np.sum(np.array(test_generator.labels) == np.array(labels)) / len(labels)\n",
    "\n",
    "# Print the accuracy\n",
    "print(\"\\nAccuracy:\", accuracy)\n",
    "\n",
    "cm = confusion_matrix(test_generator.labels, labels)\n",
    "print(\"\\nConfusion Matrix:\")\n",
    "print(cm)\n",
    "\n",
    "# Compute the classification report\n",
    "class_names = test_generator.class_indices.keys()\n",
    "classification_rep = classification_report(test_generator.labels, labels, target_names=class_names)\n",
    "print(\"\\nClassification Report:\")\n",
    "print(classification_rep)\n",
    "\n",
    "# Calculate the average precision (mAP)\n",
    "mAP = average_precision_score(test_generator.labels,  predict_prob)\n",
    "print(\"\\nMean Average Precision (mAP):\", mAP)"
   ]
  },
  {
   "cell_type": "code",
   "execution_count": 62,
   "id": "14bc7dd1",
   "metadata": {
    "execution": {
     "iopub.execute_input": "2024-05-31T20:05:02.995260Z",
     "iopub.status.busy": "2024-05-31T20:05:02.994891Z",
     "iopub.status.idle": "2024-05-31T20:05:03.286235Z",
     "shell.execute_reply": "2024-05-31T20:05:03.285202Z"
    },
    "papermill": {
     "duration": 5.356659,
     "end_time": "2024-05-31T20:05:03.288560",
     "exception": false,
     "start_time": "2024-05-31T20:04:57.931901",
     "status": "completed"
    },
    "tags": []
   },
   "outputs": [
    {
     "data": {
      "image/png": "[encoded data removed]",
      "text/plain": [
       "<Figure size 800x600 with 2 Axes>"
      ]
     },
     "metadata": {},
     "output_type": "display_data"
    }
   ],
   "source": [
    "import seaborn as sns\n",
    "\n",
    "# Confusion matrix\n",
    "cm = confusion_matrix(test_generator.labels, labels)\n",
    "plt.figure(figsize=(8, 6))\n",
    "sns.heatmap(cm, annot=True, cmap='Blues', fmt='d', xticklabels=class_names, yticklabels=class_names)\n",
    "plt.xlabel('Predicted Labels')\n",
    "plt.ylabel('True Labels')\n",
    "plt.title('Confusion Matrix')\n",
    "plt.show()"
   ]
  },
  {
   "cell_type": "code",
   "execution_count": null,
   "id": "b5cca69b",
   "metadata": {
    "papermill": {
     "duration": 5.12058,
     "end_time": "2024-05-31T20:05:13.565817",
     "exception": false,
     "start_time": "2024-05-31T20:05:08.445237",
     "status": "completed"
    },
    "tags": []
   },
   "outputs": [],
   "source": []
  }
 ],
 "metadata": {
  "kaggle": {
   "accelerator": "nvidiaTeslaT4",
   "dataSources": [
    {
     "datasetId": 3041726,
     "sourceId": 5256696,
     "sourceType": "datasetVersion"
    },
    {
     "datasetId": 5121341,
     "sourceId": 8569760,
     "sourceType": "datasetVersion"
    }
   ],
   "isGpuEnabled": true,
   "isInternetEnabled": true,
   "language": "python",
   "sourceType": "notebook"
  },
  "kernelspec": {
   "display_name": "Python 3",
   "language": "python",
   "name": "python3"
  },
  "language_info": {
   "codemirror_mode": {
    "name": "ipython",
    "version": 3
   },
   "file_extension": ".py",
   "mimetype": "text/x-python",
   "name": "python",
   "nbconvert_exporter": "python",
   "pygments_lexer": "ipython3",
   "version": "3.10.13"
  },
  "papermill": {
   "default_parameters": {},
   "duration": 6705.567595,
   "end_time": "2024-05-31T20:05:22.106094",
   "environment_variables": {},
   "exception": null,
   "input_path": "__notebook__.ipynb",
   "output_path": "__notebook__.ipynb",
   "parameters": {},
   "start_time": "2024-05-31T18:13:36.538499",
   "version": "2.5.0"
  }
 },
 "nbformat": 4,
 "nbformat_minor": 5
}
